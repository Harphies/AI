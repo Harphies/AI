{
  "nbformat": 4,
  "nbformat_minor": 0,
  "metadata": {
    "colab": {
      "name": "SImple BERT Question Answering Model.ipynb",
      "provenance": []
    },
    "kernelspec": {
      "name": "python3",
      "display_name": "Python 3"
    },
    "accelerator": "GPU"
  },
  "cells": [
    {
      "cell_type": "code",
      "metadata": {
        "id": "YeyFgfrjhKFE",
        "outputId": "adb501f9-4a8a-4e83-aa50-02d726c1c447",
        "colab": {
          "base_uri": "https://localhost:8080/"
        }
      },
      "source": [
        "!git clone https://github.com/kamalkraj/BERT-SQuAD\n",
        "!pip install -q -r \"BERT-SQuAD/requirements.txt\"\n",
        "!pip install -q gradio"
      ],
      "execution_count": null,
      "outputs": [
        {
          "output_type": "stream",
          "text": [
            "fatal: destination path 'BERT-SQuAD' already exists and is not an empty directory.\n"
          ],
          "name": "stdout"
        }
      ]
    },
    {
      "cell_type": "code",
      "metadata": {
        "id": "xn_s-yxGk4aD",
        "outputId": "f1a2ca9f-1520-44d1-ec81-ebdd585b5b87",
        "colab": {
          "base_uri": "https://localhost:8080/"
        }
      },
      "source": [
        "import gradio as gr\n",
        "import sys \n",
        "sys.path.append(\"BERT-SQuAD\")\n",
        "from bert import QA\n",
        "model = QA('bert-large-uncased-whole-word-masking-finetuned-squad')\n",
        "\n",
        "def qa_model(paragraph, question):\n",
        "  return model.predict(paragraph, question)[\"answer\"]"
      ],
      "execution_count": null,
      "outputs": [
        {
          "output_type": "stream",
          "text": [
            "Model name 'bert-large-uncased-whole-word-masking-finetuned-squad/bert_config.json' was not found in model name list (bert-base-uncased, bert-large-uncased, bert-base-cased, bert-large-cased, bert-base-multilingual-uncased, bert-base-multilingual-cased, bert-base-chinese, bert-base-german-cased, bert-large-uncased-whole-word-masking, bert-large-cased-whole-word-masking, bert-large-uncased-whole-word-masking-finetuned-squad, bert-large-cased-whole-word-masking-finetuned-squad, bert-base-cased-finetuned-mrpc). We assumed 'bert-large-uncased-whole-word-masking-finetuned-squad/bert_config.json' was a path or url but couldn't find any file associated to this path or url.\n",
            "The pre-trained model you are loading is an uncased model but you have set `do_lower_case` to False. We are setting `do_lower_case=True` for you but you may want to check this behavior.\n"
          ],
          "name": "stderr"
        }
      ]
    },
    {
      "cell_type": "code",
      "metadata": {
        "id": "4wWaNMQXnCY3",
        "outputId": "bea4f677-9f0f-4018-eec6-1a9503efd7fb",
        "colab": {
          "base_uri": "https://localhost:8080/",
          "height": 660
        }
      },
      "source": [
        "gr.Interface(qa_model,\n",
        "    [\n",
        "        gr.inputs.Textbox(lines=7, label=\"Paragraph\"),\n",
        "        gr.inputs.Textbox(label=\"Question\"),\n",
        "    ],\n",
        "    gr.outputs.Textbox(label=\"Answer\"),\n",
        "    title=\"Question Answering\",\n",
        "    description=\"BERT is a question and answring language model that accepts two input the passage to look for answer from and the question to provide answer to\").launch()"
      ],
      "execution_count": null,
      "outputs": [
        {
          "output_type": "stream",
          "text": [
            "Colab notebook detected. To show errors in colab notebook, set debug=True in launch()\n",
            "This share link will expire in 6 hours. If you need a permanent link, email support@gradio.app\n",
            "Running on External URL: https://52497.gradio.app\n",
            "Interface loading below...\n"
          ],
          "name": "stdout"
        },
        {
          "output_type": "display_data",
          "data": {
            "text/html": [
              "\n",
              "        <iframe\n",
              "            width=\"1000\"\n",
              "            height=\"500\"\n",
              "            src=\"https://52497.gradio.app\"\n",
              "            frameborder=\"0\"\n",
              "            allowfullscreen\n",
              "        ></iframe>\n",
              "        "
            ],
            "text/plain": [
              "<IPython.lib.display.IFrame at 0x7f8c9c5b2588>"
            ]
          },
          "metadata": {
            "tags": []
          }
        },
        {
          "output_type": "execute_result",
          "data": {
            "text/plain": [
              "(<Flask 'gradio.networking'>,\n",
              " 'http://127.0.0.1:7860/',\n",
              " 'https://52497.gradio.app')"
            ]
          },
          "metadata": {
            "tags": []
          },
          "execution_count": 3
        }
      ]
    },
    {
      "cell_type": "markdown",
      "metadata": {
        "id": "PRThBBj37GpR"
      },
      "source": [
        "- Clone the repo\n",
        "- navigate to the requirement file in the dowloaded folder\n",
        "- Install the packages in the requirement file which will give you access to the bert library."
      ]
    },
    {
      "cell_type": "code",
      "metadata": {
        "id": "JZ5mBSbfvf3u"
      },
      "source": [
        ""
      ],
      "execution_count": null,
      "outputs": []
    }
  ]
}