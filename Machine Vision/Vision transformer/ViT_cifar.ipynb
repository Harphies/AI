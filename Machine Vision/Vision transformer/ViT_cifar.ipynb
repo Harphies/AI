{
  "nbformat": 4,
  "nbformat_minor": 0,
  "metadata": {
    "colab": {
      "name": "ViT-cifar.ipynb",
      "provenance": [],
      "collapsed_sections": []
    },
    "kernelspec": {
      "name": "python3",
      "display_name": "Python 3"
    },
    "accelerator": "GPU"
  },
  "cells": [
    {
      "cell_type": "code",
      "metadata": {
        "id": "XjE6jSMEuqCE",
        "outputId": "e91e6a63-e046-471b-d634-d32d1fc39ad2",
        "colab": {
          "base_uri": "https://localhost:8080/"
        }
      },
      "source": [
        "! git clone https://github.com/kamalkraj/Vision-Transformer\n",
        "! pip install -q -r \"Vision-Transformer/requirements.txt\""
      ],
      "execution_count": null,
      "outputs": [
        {
          "output_type": "stream",
          "text": [
            "Cloning into 'Vision-Transformer'...\n",
            "remote: Enumerating objects: 20, done.\u001b[K\n",
            "remote: Counting objects: 100% (20/20), done.\u001b[K\n",
            "remote: Compressing objects: 100% (18/18), done.\u001b[K\n",
            "remote: Total 20 (delta 4), reused 11 (delta 2), pack-reused 0\u001b[K\n",
            "Unpacking objects: 100% (20/20), done.\n",
            "\u001b[K     |████████████████████████████████| 320.4MB 51kB/s \n",
            "\u001b[?25h"
          ],
          "name": "stdout"
        }
      ]
    },
    {
      "cell_type": "code",
      "metadata": {
        "id": "tG1auJhBnYMU"
      },
      "source": [
        "import sys\n",
        "sys.path.append('Vision-Transformer')"
      ],
      "execution_count": null,
      "outputs": []
    },
    {
      "cell_type": "code",
      "metadata": {
        "id": "NaInAhsjm1Oj"
      },
      "source": [
        "import tensorflow as tf\n",
        "\n",
        "from tensorflow.keras import datasets\n",
        "\n",
        "from model import ViT \n",
        "from trainer import Trainer, TrainerConfig"
      ],
      "execution_count": null,
      "outputs": []
    },
    {
      "cell_type": "code",
      "metadata": {
        "id": "Lhz0zVMWnJLW"
      },
      "source": [
        "(train_images, train_labels), (test_images, test_labels) = datasets.cifar10.load_data()"
      ],
      "execution_count": null,
      "outputs": []
    },
    {
      "cell_type": "code",
      "metadata": {
        "id": "zbd3R1F2qv70"
      },
      "source": [
        "train_images = tf.cast(train_images.reshape((-1, 3, 32, 32)),dtype=tf.float32) #cats into float 32 datatype\n",
        "test_images = tf.cast(test_images.reshape((-1, 3, 32, 32)), dtype=tf.float32) #cast into floast32 data type\n",
        "train_images,test_images = train_images/255.0, test_images/255.0 # normalize the images"
      ],
      "execution_count": null,
      "outputs": []
    },
    {
      "cell_type": "code",
      "metadata": {
        "id": "cDv7gSt4LlTw"
      },
      "source": [
        "train_x = tf.data.Dataset.from_tensor_slices(train_images)\n",
        "train_y = tf.data.Dataset.from_tensor_slices(train_labels)\n",
        "train_dataset = tf.data.Dataset.zip((train_x, train_y))\n",
        "test_x = tf.data.Dataset.from_tensor_slices(test_images)\n",
        "test_y = tf.data.Dataset.from_tensor_slices(test_labels)\n",
        "test_dataset = tf.data.Dataset.zip((test_x, test_y))"
      ],
      "execution_count": null,
      "outputs": []
    },
    {
      "cell_type": "code",
      "metadata": {
        "id": "CHYTU0oXNjQX"
      },
      "source": [
        "tconf = TrainerConfig(max_epochs=10, batch_size=64, learning_rate=1e-3)"
      ],
      "execution_count": null,
      "outputs": []
    },
    {
      "cell_type": "code",
      "metadata": {
        "id": "L2t3B_P8sGzf"
      },
      "source": [
        "# sample model config\n",
        "model_config = {\"image_size\":32,\n",
        "                \"patch_size\":4,\n",
        "                \"num_classes\":10,\n",
        "                \"dim\":64,\n",
        "                \"depth\":3,\n",
        "                \"heads\":4,\n",
        "                \"mlp_dim\":128}"
      ],
      "execution_count": null,
      "outputs": []
    },
    {
      "cell_type": "code",
      "metadata": {
        "id": "dX7s9FpaKjR5"
      },
      "source": [
        "trainer = Trainer(ViT, model_config, train_dataset, len(train_images), test_dataset, len(test_images), tconf)"
      ],
      "execution_count": null,
      "outputs": []
    },
    {
      "cell_type": "code",
      "metadata": {
        "id": "dLybbaDvOMzE",
        "outputId": "6d58fa05-2b36-4517-e93e-c1f2168a17e6",
        "colab": {
          "base_uri": "https://localhost:8080/",
          "height": 357
        }
      },
      "source": [
        "trainer.train()"
      ],
      "execution_count": null,
      "outputs": [
        {
          "output_type": "display_data",
          "data": {
            "text/html": [
              ""
            ],
            "text/plain": [
              "<IPython.core.display.HTML object>"
            ]
          },
          "metadata": {
            "tags": []
          }
        },
        {
          "output_type": "stream",
          "text": [
            "epoch 1: train loss 1.13076. train accuracy 0.59292\n",
            "epoch 1: test loss 1.38127. test accuracy 0.51570\n",
            "epoch 2: train loss 1.10630. train accuracy 0.60156\n",
            "epoch 2: test loss 1.37152. test accuracy 0.52360\n",
            "epoch 3: train loss 1.08120. train accuracy 0.61000\n",
            "epoch 3: test loss 1.36683. test accuracy 0.51770\n",
            "epoch 4: train loss 1.06068. train accuracy 0.61636\n",
            "epoch 4: test loss 1.40084. test accuracy 0.51610\n",
            "epoch 5: train loss 1.03911. train accuracy 0.62318\n",
            "epoch 5: test loss 1.42858. test accuracy 0.51980\n",
            "epoch 6: train loss 1.01509. train accuracy 0.63262\n",
            "epoch 6: test loss 1.47395. test accuracy 0.50560\n",
            "epoch 7: train loss 0.99675. train accuracy 0.63814\n",
            "epoch 7: test loss 1.51925. test accuracy 0.50190\n",
            "epoch 8: train loss 0.97913. train accuracy 0.64634\n",
            "epoch 8: test loss 1.57207. test accuracy 0.49950\n",
            "epoch 9: train loss 0.96067. train accuracy 0.65358\n",
            "epoch 9: test loss 1.55870. test accuracy 0.49980\n",
            "epoch 10: train loss 0.94232. train accuracy 0.65760\n",
            "epoch 10: test loss 1.56997. test accuracy 0.50180\n"
          ],
          "name": "stdout"
        }
      ]
    },
    {
      "cell_type": "code",
      "metadata": {
        "id": "zLUk0x2zri0M"
      },
      "source": [
        ""
      ],
      "execution_count": null,
      "outputs": []
    }
  ]
}