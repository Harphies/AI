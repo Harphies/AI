{
 "cells": [
  {
   "cell_type": "markdown",
   "metadata": {},
   "source": [
    "#### Project: Dectecting Abnormal heartbeat in Electrocardiogram data of a patient \n",
    "- Electrocardiogram is a test that checks how heart is functioning by measuring the electricity activity of the heart.\n",
    "- With each heart beat, an electrical impulse or wave travels through the heart. This wave causes the muscle to squeeze and pumps blood from the heart.\n",
    "\n",
    "There are 5 types of heartbeat\n",
    "- Normal (N)\n",
    "- R or T Premature Venticular Contraction (R-on-T PVC)\n",
    "- Premature Venticular Contraction (PVC)\n",
    "- Supra-Venticular Premature or Ectopia Beat (SP or EB)\n",
    "- Unclassified Beat (UB)\n",
    "\n",
    "`\n",
    "Assuming a healthy heart and a typical rate of 70 to 75 beats per minute, each cardiac cycle. or heartbeat takes 0.8 seconds to complete the cycle. Frequency 60-100 per minutes (for Humans) Duration 0.6-1 seconds (for Humna)\n",
    "`"
   ]
  },
  {
   "cell_type": "markdown",
   "metadata": {},
   "source": [
    "#### Packages selection\n",
    "- The first things is to import all the neccesary packages needed for this project"
   ]
  },
  {
   "cell_type": "code",
   "execution_count": 3,
   "metadata": {},
   "outputs": [],
   "source": [
    "import pandas as pd\n",
    "import numpy as np\n",
    "import copy\n",
    "import torch\n",
    "import torch.nn as nn\n",
    "import torch.nn.functional as F\n",
    "import matplotlib.pyplot as plt\n",
    "from sklearn.model_selection import train_test_split\n",
    "\n",
    "# Select GPU if CUDA is available\n",
    "if torch.cuda.is_available():\n",
    "    torch.backends.cudnn.deterministic = True"
   ]
  },
  {
   "cell_type": "markdown",
   "metadata": {},
   "source": [
    "#### Settings\n",
    "- Configure the device\n",
    "- define all the hyperparameters to be used and needed to be tuned to achive a better accuracy\n",
    "- Load and explore the data"
   ]
  },
  {
   "cell_type": "code",
   "execution_count": null,
   "metadata": {},
   "outputs": [],
   "source": [
    "DEVICE = torch.device(\"cuda:0\" if torch.cuda.is_available() else \"cpu\")\n",
    "\n",
    "# hyparameters\n",
    "LEARNING_RATE =\n",
    "NUM_EPOCHS = \n",
    "RANDOM_SEED = \n",
    "BATCH_SIZE = "
   ]
  }
 ],
 "metadata": {
  "kernelspec": {
   "display_name": "Python 3",
   "language": "python",
   "name": "python3"
  },
  "language_info": {
   "codemirror_mode": {
    "name": "ipython",
    "version": 3
   },
   "file_extension": ".py",
   "mimetype": "text/x-python",
   "name": "python",
   "nbconvert_exporter": "python",
   "pygments_lexer": "ipython3",
   "version": "3.6.7"
  }
 },
 "nbformat": 4,
 "nbformat_minor": 2
}
