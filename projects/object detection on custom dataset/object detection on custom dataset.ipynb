{
 "cells": [
  {
   "cell_type": "markdown",
   "metadata": {},
   "source": [
    "## Objectives\n",
    "- detecting and classifing clothing items from images\n",
    "- detecting objects in images and video\n",
    "\n",
    "## tasks\n",
    "- prepare a custom dataset\n",
    "- fine-tunning a pre-trained Neural Network on a large Object Detection dataset\n",
    "- train a model\n",
    "- few shot learning\n",
    "\n",
    "## Image Annotation with opencv/cvat \n",
    "- annotate the images and the video and save the coordinates and labels in xml file\n",
    "\n",
    "## links I'm working with\n",
    "https://www.curiousily.com/posts/object-detection-on-custom-dataset-with-tensorflow-2-and-keras-using-python/\n",
    "https://www.curiousily.com/posts/object-detection-on-custom-dataset-with-yolo-v5-using-pytorch-and-python/\n",
    "https://towardsdatascience.com/training-a-tensorflow-faster-r-cnn-object-detection-model-on-your-own-dataset-b3b175708d6d\n",
    "https://github.com/roboflow-ai/tensorflow-object-detection-faster-rcnn\n",
    "https://medium.com/@alittlepain833/simple-understanding-of-mask-rcnn-134b5b330e95#:~:text=Mask%20RCNN%20is%20a%20deep,two%20stages%20of%20Mask%20RCNN.\n",
    "https://towardsdatascience.com/faster-r-cnn-for-object-detection-a-technical-summary-474c5b857b46\n",
    "https://github.com/Tony607\n",
    "https://www.dlology.com/blog/how-to-train-an-object-detection-model-easy-for-free/"
   ]
  },
  {
   "cell_type": "code",
   "execution_count": null,
   "metadata": {},
   "outputs": [],
   "source": []
  }
 ],
 "metadata": {
  "kernelspec": {
   "display_name": "Python 3",
   "language": "python",
   "name": "python3"
  },
  "language_info": {
   "codemirror_mode": {
    "name": "ipython",
    "version": 3
   },
   "file_extension": ".py",
   "mimetype": "text/x-python",
   "name": "python",
   "nbconvert_exporter": "python",
   "pygments_lexer": "ipython3",
   "version": "3.6.7"
  }
 },
 "nbformat": 4,
 "nbformat_minor": 4
}
