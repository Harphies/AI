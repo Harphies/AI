{
 "cells": [
  {
   "cell_type": "code",
   "execution_count": 1,
   "id": "000ee394-bf77-4e52-96e3-adb31ecb434c",
   "metadata": {},
   "outputs": [],
   "source": [
    "# Environment Setup\n",
    "def check_install_pytorch():\n",
    "    try:\n",
    "        import torch\n",
    "        print(f\"PyTorch {torch.__version__} already installed\")\n",
    "    except:\n",
    "        import platform\n",
    "        if platform.system() == \"Darwin\" and platform.machine() == \"arm64\":\n",
    "            !pip3 install --pre torch torchvision torchaudio --index-url https://download.pytorch.org/whl/nightly/cpu\n",
    "        else:\n",
    "            !pip3 install torch torchvision torchaudio"
   ]
  },
  {
   "cell_type": "code",
   "execution_count": 2,
   "id": "50ec18dd-e313-4512-85ac-05cf20c23a86",
   "metadata": {},
   "outputs": [
    {
     "name": "stdout",
     "output_type": "stream",
     "text": [
      "PyTorch 2.7.0.dev20250127 already installed\n"
     ]
    }
   ],
   "source": [
    "# %run \"/Users/olalekantaofeek/src/AI/notebooks/code-snippets.ipynb\"\n",
    "check_install_pytorch()"
   ]
  },
  {
   "cell_type": "code",
   "execution_count": 3,
   "id": "4ea169a4-d410-45e2-a07b-89b3547d721d",
   "metadata": {},
   "outputs": [],
   "source": [
    "def check_install_tensorflow():\n",
    "    try:\n",
    "        import tensorflow as tf\n",
    "        print(f\"TensorFlow {tf.__version__} is already installed.\")\n",
    "        # Verify TensorFlow can load plugins\n",
    "        try:\n",
    "            tf.config.list_physical_devices('GPU')  # Check if GPU (Metal) is available\n",
    "            print(\"TensorFlow is configured to use GPU (Metal).\")\n",
    "        except Exception as e:\n",
    "            print(f\"Warning: TensorFlow GPU (Metal) setup failed: {e}\")\n",
    "            print(\"Falling back to CPU-only mode.\")\n",
    "    except ImportError:\n",
    "        import platform\n",
    "        import os\n",
    "        import sys\n",
    "\n",
    "        # Check if running on macOS with Apple Silicon\n",
    "        if platform.system() == \"Darwin\" and platform.machine() == \"arm64\":\n",
    "            print(\"Detected macOS on Apple Silicon (M1/M2). Installing TensorFlow for macOS...\")\n",
    "\n",
    "            # Check Python version\n",
    "            python_version = sys.version_info\n",
    "            if not (python_version.major == 3 and python_version.minor in [8, 9, 10, 11]):\n",
    "                print(\"TensorFlow for macOS (Apple Silicon) requires Python 3.8–3.11.\")\n",
    "                print(f\"Your Python version: {python_version.major}.{python_version.minor}.{python_version.micro}\")\n",
    "                print(\"Please install a compatible Python version.\")\n",
    "                return\n",
    "\n",
    "            # Upgrade pip\n",
    "            os.system(\"pip install --upgrade pip\")\n",
    "\n",
    "            # Install TensorFlow for macOS\n",
    "            try:\n",
    "                print(\"Installing tensorflow-macos and tensorflow-metal...\")\n",
    "                os.system(\"pip install tensorflow-macos==2.13.0 tensorflow-metal==1.0.0\")\n",
    "            except Exception as e:\n",
    "                print(f\"Error installing TensorFlow for macOS: {e}\")\n",
    "                print(\"Falling back to standard TensorFlow installation (CPU-only)...\")\n",
    "                os.system(\"pip install tensorflow\")\n",
    "        else:\n",
    "            # Default installation for other platforms (including Google Colab)\n",
    "            print(\"Installing TensorFlow...\")\n",
    "            os.system(\"pip install tensorflow\")\n",
    "\n",
    "        # Verify installation\n",
    "        try:\n",
    "            import tensorflow as tf\n",
    "            print(f\"TensorFlow {tf.__version__} installed successfully.\")\n",
    "            # Verify TensorFlow can load plugins\n",
    "            try:\n",
    "                tf.config.list_physical_devices('GPU')  # Check if GPU (Metal) is available\n",
    "                print(\"TensorFlow is configured to use GPU (Metal).\")\n",
    "            except Exception as e:\n",
    "                print(f\"Warning: TensorFlow GPU (Metal) setup failed: {e}\")\n",
    "                print(\"Falling back to CPU-only mode.\")\n",
    "        except ImportError:\n",
    "            print(\"Failed to install TensorFlow. Please check your environment.\")\n",
    "\n",
    "# Call the function to check and install TensorFlow\n",
    "check_install_tensorflow()"
   ]
  },
  {
   "cell_type": "code",
   "execution_count": 4,
   "id": "3f18d6ed-8f6d-4173-bd6b-2837c6ada2ba",
   "metadata": {},
   "outputs": [
    {
     "ename": "NotFoundError",
     "evalue": "dlopen(/Users/olalekantaofeek/src/AI/notebooks/venv/lib/python3.10/site-packages/tensorflow-plugins/libmetal_plugin.dylib, 0x0006): Symbol not found: __ZN3tsl8internal10LogMessageC1EPKcii\n  Referenced from: <D2EF42E3-3A7F-39DD-9982-FB6BCDC2853C> /Users/olalekantaofeek/src/AI/notebooks/venv/lib/python3.10/site-packages/tensorflow-plugins/libmetal_plugin.dylib\n  Expected in:     <E6BA2FD2-654D-380C-8224-59AA45D1133C> /Users/olalekantaofeek/src/AI/notebooks/venv/lib/python3.10/site-packages/tensorflow/python/_pywrap_tensorflow_internal.so",
     "output_type": "error",
     "traceback": [
      "\u001b[0;31m---------------------------------------------------------------------------\u001b[0m",
      "\u001b[0;31mNotFoundError\u001b[0m                             Traceback (most recent call last)",
      "Cell \u001b[0;32mIn[4], line 2\u001b[0m\n\u001b[1;32m      1\u001b[0m \u001b[38;5;66;03m# %run \"/Users/olalekantaofeek/src/AI/notebooks/code-snippets.ipynb\"\u001b[39;00m\n\u001b[0;32m----> 2\u001b[0m \u001b[43mcheck_install_tensorflow\u001b[49m\u001b[43m(\u001b[49m\u001b[43m)\u001b[49m\n",
      "Cell \u001b[0;32mIn[3], line 3\u001b[0m, in \u001b[0;36mcheck_install_tensorflow\u001b[0;34m()\u001b[0m\n\u001b[1;32m      1\u001b[0m \u001b[38;5;28;01mdef\u001b[39;00m\u001b[38;5;250m \u001b[39m\u001b[38;5;21mcheck_install_tensorflow\u001b[39m():\n\u001b[1;32m      2\u001b[0m     \u001b[38;5;28;01mtry\u001b[39;00m:\n\u001b[0;32m----> 3\u001b[0m         \u001b[38;5;28;01mimport\u001b[39;00m\u001b[38;5;250m \u001b[39m\u001b[38;5;21;01mtensorflow\u001b[39;00m\u001b[38;5;250m \u001b[39m\u001b[38;5;28;01mas\u001b[39;00m\u001b[38;5;250m \u001b[39m\u001b[38;5;21;01mtf\u001b[39;00m\n\u001b[1;32m      4\u001b[0m         \u001b[38;5;28mprint\u001b[39m(\u001b[38;5;124mf\u001b[39m\u001b[38;5;124m\"\u001b[39m\u001b[38;5;124mTensorFlow \u001b[39m\u001b[38;5;132;01m{\u001b[39;00mtf\u001b[38;5;241m.\u001b[39m__version__\u001b[38;5;132;01m}\u001b[39;00m\u001b[38;5;124m is already installed.\u001b[39m\u001b[38;5;124m\"\u001b[39m)\n\u001b[1;32m      5\u001b[0m     \u001b[38;5;28;01mexcept\u001b[39;00m \u001b[38;5;167;01mImportError\u001b[39;00m:\n",
      "File \u001b[0;32m~/src/AI/notebooks/venv/lib/python3.10/site-packages/tensorflow/__init__.py:437\u001b[0m\n\u001b[1;32m    435\u001b[0m _plugin_dir \u001b[38;5;241m=\u001b[39m _os\u001b[38;5;241m.\u001b[39mpath\u001b[38;5;241m.\u001b[39mjoin(_s, \u001b[38;5;124m\"\u001b[39m\u001b[38;5;124mtensorflow-plugins\u001b[39m\u001b[38;5;124m\"\u001b[39m)\n\u001b[1;32m    436\u001b[0m \u001b[38;5;28;01mif\u001b[39;00m _os\u001b[38;5;241m.\u001b[39mpath\u001b[38;5;241m.\u001b[39mexists(_plugin_dir):\n\u001b[0;32m--> 437\u001b[0m   \u001b[43m_ll\u001b[49m\u001b[38;5;241;43m.\u001b[39;49m\u001b[43mload_library\u001b[49m\u001b[43m(\u001b[49m\u001b[43m_plugin_dir\u001b[49m\u001b[43m)\u001b[49m\n\u001b[1;32m    438\u001b[0m   \u001b[38;5;66;03m# Load Pluggable Device Library\u001b[39;00m\n\u001b[1;32m    439\u001b[0m   _ll\u001b[38;5;241m.\u001b[39mload_pluggable_device_library(_plugin_dir)\n",
      "File \u001b[0;32m~/src/AI/notebooks/venv/lib/python3.10/site-packages/tensorflow/python/framework/load_library.py:151\u001b[0m, in \u001b[0;36mload_library\u001b[0;34m(library_location)\u001b[0m\n\u001b[1;32m    148\u001b[0m     kernel_libraries \u001b[38;5;241m=\u001b[39m [library_location]\n\u001b[1;32m    150\u001b[0m   \u001b[38;5;28;01mfor\u001b[39;00m lib \u001b[38;5;129;01min\u001b[39;00m kernel_libraries:\n\u001b[0;32m--> 151\u001b[0m     \u001b[43mpy_tf\u001b[49m\u001b[38;5;241;43m.\u001b[39;49m\u001b[43mTF_LoadLibrary\u001b[49m\u001b[43m(\u001b[49m\u001b[43mlib\u001b[49m\u001b[43m)\u001b[49m\n\u001b[1;32m    153\u001b[0m \u001b[38;5;28;01melse\u001b[39;00m:\n\u001b[1;32m    154\u001b[0m   \u001b[38;5;28;01mraise\u001b[39;00m \u001b[38;5;167;01mOSError\u001b[39;00m(\n\u001b[1;32m    155\u001b[0m       errno\u001b[38;5;241m.\u001b[39mENOENT,\n\u001b[1;32m    156\u001b[0m       \u001b[38;5;124m'\u001b[39m\u001b[38;5;124mThe file or folder to load kernel libraries from does not exist.\u001b[39m\u001b[38;5;124m'\u001b[39m,\n\u001b[1;32m    157\u001b[0m       library_location)\n",
      "\u001b[0;31mNotFoundError\u001b[0m: dlopen(/Users/olalekantaofeek/src/AI/notebooks/venv/lib/python3.10/site-packages/tensorflow-plugins/libmetal_plugin.dylib, 0x0006): Symbol not found: __ZN3tsl8internal10LogMessageC1EPKcii\n  Referenced from: <D2EF42E3-3A7F-39DD-9982-FB6BCDC2853C> /Users/olalekantaofeek/src/AI/notebooks/venv/lib/python3.10/site-packages/tensorflow-plugins/libmetal_plugin.dylib\n  Expected in:     <E6BA2FD2-654D-380C-8224-59AA45D1133C> /Users/olalekantaofeek/src/AI/notebooks/venv/lib/python3.10/site-packages/tensorflow/python/_pywrap_tensorflow_internal.so"
     ]
    }
   ],
   "source": [
    "# %run \"/Users/olalekantaofeek/src/AI/notebooks/code-snippets.ipynb\"\n",
    "check_install_tensorflow()"
   ]
  },
  {
   "cell_type": "code",
   "execution_count": null,
   "id": "b6bf994f-0c23-4fc3-bf85-1d8d0248b7ae",
   "metadata": {},
   "outputs": [],
   "source": []
  }
 ],
 "metadata": {
  "kernelspec": {
   "display_name": "venv-kernel",
   "language": "python",
   "name": "venv-kernel"
  },
  "language_info": {
   "codemirror_mode": {
    "name": "ipython",
    "version": 3
   },
   "file_extension": ".py",
   "mimetype": "text/x-python",
   "name": "python",
   "nbconvert_exporter": "python",
   "pygments_lexer": "ipython3",
   "version": "3.10.0"
  }
 },
 "nbformat": 4,
 "nbformat_minor": 5
}
