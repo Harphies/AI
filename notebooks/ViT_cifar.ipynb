{
 "cells": [
  {
   "cell_type": "markdown",
   "metadata": {
    "colab_type": "text",
    "id": "view-in-github"
   },
   "source": [
    "<a href=\"https://colab.research.google.com/github/Harphies/AI/blob/main/notebooks/ViT_cifar.ipynb\" target=\"_parent\"><img src=\"https://colab.research.google.com/assets/colab-badge.svg\" alt=\"Open In Colab\"/></a>"
   ]
  },
  {
   "cell_type": "code",
   "execution_count": 1,
   "metadata": {
    "ExecuteTime": {
     "end_time": "2025-01-28T06:47:09.748148Z",
     "start_time": "2025-01-28T06:46:30.442854Z"
    },
    "colab": {
     "base_uri": "https://localhost:8080/"
    },
    "id": "XjE6jSMEuqCE",
    "outputId": "3b57360b-6f40-4822-cb30-ed3c717d9163"
   },
   "outputs": [
    {
     "name": "stdout",
     "output_type": "stream",
     "text": [
      "Collecting pipupgrade\n",
      "  Using cached pipupgrade-1.12.0-py3-none-any.whl.metadata (11 kB)\n",
      "Requirement already satisfied: pip in ./venv/lib/python3.10/site-packages (from pipupgrade) (25.0)\n",
      "Collecting bpyutils (from pipupgrade)\n",
      "  Using cached bpyutils-0.5.8-py3-none-any.whl.metadata (4.5 kB)\n",
      "Using cached pipupgrade-1.12.0-py3-none-any.whl (34 kB)\n",
      "Using cached bpyutils-0.5.8-py3-none-any.whl (51 kB)\n",
      "Installing collected packages: bpyutils, pipupgrade\n",
      "Successfully installed bpyutils-0.5.8 pipupgrade-1.12.0\n",
      "\u001b[0;1m\u001b[0;96mbpyutils | 2025-01-28 10:34:39,507 | INFO | \u001b[0mEnvironment: {'version': '0.5.8', 'python_version': '3.10.0', 'os': 'macOS-15.2-arm64-arm-64bit', 'config': {'path': {'BASE': '/Users/olalekantaofeek/src/AI/notebooks/venv/lib/python3.10/site-packages/bpyutils', 'DATA': '/Users/olalekantaofeek/src/AI/notebooks/venv/lib/python3.10/site-packages/bpyutils/data', 'CACHE': '/Users/olalekantaofeek/.config/bpyutils', 'JOBS': '/Users/olalekantaofeek/src/AI/notebooks/venv/lib/python3.10/site-packages/bpyutils/jobs'}}, 'settings': {'settings': {'version': '0.5.8', 'cache_timeout': '86400', 'jobs': '8', 'max_chunk_download_bytes': '1024'}}}\n",
      "\u001b[0;1m\u001b[0;96mbpyutils | 2025-01-28 10:34:39,507 | INFO | \u001b[0mArguments Passed: {'args': (), 'kwargs': {'ARGUMENTS': <class 'inspect._empty'>, 'packages': [], 'resolve': False, 'ignore': None, 'pip_path': None, 'yes': True, 'clean': 0, 'check': 0, 'upgrade_type': ['minor', 'patch'], 'latest': True, 'format': 'table', 'all': 0, 'pip': 0, 'self': False, 'requirements': None, 'pipfile': None, 'interactive': 0, 'project': None, 'git_username': None, 'git_email': None, 'pull_request': False, 'github_access_token': None, 'github_reponame': None, 'github_username': None, 'target_branch': 'master', 'jobs': 8, 'user': 0, 'no_included_requirements': 0, 'no_cache': 0, 'output': None, 'ignore_error': 0, 'force': 0, 'doctor': False, 'no_color': 0, 'verbose': True}, 'a': <pipupgrade.commands.to_params.<locals>.O object at 0x104f97b80>}\n",
      "\u001b[0;93mChecking...\u001b[0m\n",
      "\u001b[0;1m\u001b[0;96mbpyutils | 2025-01-28 10:34:39,508 | INFO | \u001b[0m`pip` executables found: ['/Users/olalekantaofeek/src/AI/notebooks/venv/bin/pip', '/Users/olalekantaofeek/src/AI/notebooks/venv/bin/pip3']\n",
      "\u001b[0;1m\u001b[0;96mbpyutils | 2025-01-28 10:34:39,508 | INFO | \u001b[0mUsing 8 jobs...\n",
      "\u001b[0;1m\u001b[0;96mbpyutils | 2025-01-28 10:34:39,764 | INFO | \u001b[0mFetching installed packages for /Users/olalekantaofeek/src/AI/notebooks/venv/bin/pip...\n",
      "\u001b[0;1m\u001b[0;96mbpyutils | 2025-01-28 10:34:39,764 | INFO | \u001b[0mFetching installed packages for /Users/olalekantaofeek/src/AI/notebooks/venv/bin/pip3...\n",
      "\u001b[0;1m\u001b[0;96mbpyutils | 2025-01-28 10:34:39,764 | INFO | \u001b[0mExecuting command: /Users/olalekantaofeek/src/AI/notebooks/venv/bin/pip list --outdated --format json\n",
      "\u001b[0;1m\u001b[0;96mbpyutils | 2025-01-28 10:34:39,764 | INFO | \u001b[0mExecuting command: /Users/olalekantaofeek/src/AI/notebooks/venv/bin/pip3 list --outdated --format json\n",
      "\u001b[0;1m\u001b[0;96mbpyutils | 2025-01-28 10:34:42,946 | INFO | \u001b[0m1 packages found for /Users/olalekantaofeek/src/AI/notebooks/venv/bin/pip.\n",
      "\u001b[0;1m\u001b[0;96mbpyutils | 2025-01-28 10:34:42,988 | INFO | \u001b[0m1 packages found for /Users/olalekantaofeek/src/AI/notebooks/venv/bin/pip3.\n",
      "\u001b[0;1m\u001b[0;96mpipupgrade | 2025-01-28 10:34:43,167 | INFO | \u001b[0mInitializing Package {'name': 'setuptools', 'version': '57.4.0', 'latest_version': '75.8.0', 'latest_filetype': 'wheel'} of type <class 'dict'>...\n",
      "\u001b[0;1m\u001b[0;96mpipupgrade | 2025-01-28 10:34:43,167 | INFO | \u001b[0mFetching package setuptools information from DB...\n",
      "\u001b[0;1m\u001b[0;96mpipupgrade | 2025-01-28 10:34:43,169 | INFO | \u001b[0mUsing cached info for package <Package setuptools (57.4.0)>.\n",
      "\u001b[0;1m\u001b[0;96mbpyutils | 2025-01-28 10:34:43,194 | INFO | \u001b[0mPackages within `pip` /Users/olalekantaofeek/src/AI/notebooks/venv/bin/pip found: [<Package setuptools (57.4.0)>]...\n",
      "\u001b[0;1m\u001b[0;96mpipupgrade | 2025-01-28 10:34:43,198 | INFO | \u001b[0mInitializing Package {'name': 'setuptools', 'version': '57.4.0', 'latest_version': '75.8.0', 'latest_filetype': 'wheel'} of type <class 'dict'>...\n",
      "\u001b[0;1m\u001b[0;96mpipupgrade | 2025-01-28 10:34:43,198 | INFO | \u001b[0mFetching package setuptools information from DB...\n",
      "\u001b[0;1m\u001b[0;96mpipupgrade | 2025-01-28 10:34:43,199 | INFO | \u001b[0mUsing cached info for package <Package setuptools (57.4.0)>.\n",
      "\u001b[0;1m\u001b[0;96mbpyutils | 2025-01-28 10:34:43,226 | INFO | \u001b[0mPackages within `pip` /Users/olalekantaofeek/src/AI/notebooks/venv/bin/pip3 found: [<Package setuptools (57.4.0)>]...\n",
      "\u001b[0;1m\u001b[0;96mbpyutils | 2025-01-28 10:34:43,264 | INFO | \u001b[0mUpdating registries: [<pipupgrade.model.registry.Registry object at 0x1103ad870>, <pipupgrade.model.registry.Registry object at 0x1103ad720>]...\n",
      "\n",
      "Source: Installed Distributions (/Users/olalekantaofeek/src/AI/notebooks/venv/bin/pip)\n",
      "\n",
      "Name       Current Version Latest Version Home Page\n",
      "---------- --------------- -------------- ---------\n",
      "\u001b[0;91msetuptools\u001b[0m 57.4.0          \u001b[0;93m75.8.0\u001b[0m         \u001b[0;96mNone\u001b[0m     \n",
      "\n",
      "\u001b[0;1mUpdating 1 of 1 package: \u001b[0;92msetuptools\u001b[0m\u001b[0m\n",
      "\u001b[0;1m\u001b[0;96mbpyutils | 2025-01-28 10:34:43,270 | INFO | \u001b[0mExecuting command: /Users/olalekantaofeek/src/AI/notebooks/venv/bin/pip install setuptools --no-cache-dir --upgrade\n",
      "Requirement already satisfied: setuptools in ./venv/lib/python3.10/site-packages (57.4.0)\n",
      "Collecting setuptools\n",
      "  Downloading setuptools-75.8.0-py3-none-any.whl.metadata (6.7 kB)\n",
      "Downloading setuptools-75.8.0-py3-none-any.whl (1.2 MB)\n",
      "\u001b[2K   \u001b[90m━━━━━━━━━━━━━━━━━━━━━━━━━━━━━━━━━━━━━━━━\u001b[0m \u001b[32m1.2/1.2 MB\u001b[0m \u001b[31m21.2 MB/s\u001b[0m eta \u001b[36m0:00:00\u001b[0m\n",
      "Installing collected packages: setuptools\n",
      "  Attempting uninstall: setuptools\n",
      "    Found existing installation: setuptools 57.4.0\n",
      "    Uninstalling setuptools-57.4.0:\n",
      "      Successfully uninstalled setuptools-57.4.0\n",
      "Successfully installed setuptools-75.8.0\n",
      "\n",
      "Source: Installed Distributions (/Users/olalekantaofeek/src/AI/notebooks/venv/bin/pip3)\n",
      "\n",
      "Name       Current Version Latest Version Home Page\n",
      "---------- --------------- -------------- ---------\n",
      "\u001b[0;91msetuptools\u001b[0m 57.4.0          \u001b[0;93m75.8.0\u001b[0m         \u001b[0;96mNone\u001b[0m     \n",
      "\n",
      "\u001b[0;1mUpdating 1 of 1 package: \u001b[0;92msetuptools\u001b[0m\u001b[0m\n",
      "\u001b[0;1m\u001b[0;96mbpyutils | 2025-01-28 10:34:44,778 | INFO | \u001b[0mExecuting command: /Users/olalekantaofeek/src/AI/notebooks/venv/bin/pip3 install setuptools --no-cache-dir --upgrade\n",
      "Requirement already satisfied: setuptools in ./venv/lib/python3.10/site-packages (75.8.0)\n"
     ]
    }
   ],
   "source": [
    "# ! git clone https://github.com/kamalkraj/Vision-Transformer\n",
    "# ! pip install -q -r \"Vision-Transformer/requirements.txt\"\n",
    "! pip install pipupgrade\n",
    "! pipupgrade --verbose --latest --yes"
   ]
  },
  {
   "cell_type": "code",
   "execution_count": 2,
   "metadata": {
    "ExecuteTime": {
     "end_time": "2025-01-28T06:28:41.724995Z",
     "start_time": "2025-01-28T06:28:41.682046Z"
    },
    "id": "tG1auJhBnYMU"
   },
   "outputs": [],
   "source": [
    "import sys\n",
    "sys.path.append('Vision-Transformer')"
   ]
  },
  {
   "cell_type": "code",
   "execution_count": 3,
   "metadata": {},
   "outputs": [
    {
     "name": "stdout",
     "output_type": "stream",
     "text": [
      "Detected macOS on Apple Silicon (M1/M2). Installing TensorFlow for macOS...\n",
      "Requirement already satisfied: pip in ./venv/lib/python3.10/site-packages (25.0)\n",
      "Installing tensorflow-macos and tensorflow-metal...\n",
      "Collecting tensorflow-macos==2.13.0\n",
      "  Downloading tensorflow_macos-2.13.0-cp310-cp310-macosx_12_0_arm64.whl.metadata (3.2 kB)\n",
      "Collecting tensorflow-metal==1.0.0\n",
      "  Downloading tensorflow_metal-1.0.0-cp310-cp310-macosx_12_0_arm64.whl.metadata (776 bytes)\n",
      "Collecting absl-py>=1.0.0 (from tensorflow-macos==2.13.0)\n",
      "  Using cached absl_py-2.1.0-py3-none-any.whl.metadata (2.3 kB)\n",
      "Collecting astunparse>=1.6.0 (from tensorflow-macos==2.13.0)\n",
      "  Using cached astunparse-1.6.3-py2.py3-none-any.whl.metadata (4.4 kB)\n",
      "Collecting flatbuffers>=23.1.21 (from tensorflow-macos==2.13.0)\n",
      "  Using cached flatbuffers-25.1.24-py2.py3-none-any.whl.metadata (875 bytes)\n",
      "Collecting gast<=0.4.0,>=0.2.1 (from tensorflow-macos==2.13.0)\n",
      "  Downloading gast-0.4.0-py3-none-any.whl.metadata (1.1 kB)\n",
      "Collecting google-pasta>=0.1.1 (from tensorflow-macos==2.13.0)\n",
      "  Using cached google_pasta-0.2.0-py3-none-any.whl.metadata (814 bytes)\n",
      "Collecting h5py>=2.9.0 (from tensorflow-macos==2.13.0)\n",
      "  Using cached h5py-3.12.1-cp310-cp310-macosx_11_0_arm64.whl.metadata (2.5 kB)\n",
      "Collecting libclang>=13.0.0 (from tensorflow-macos==2.13.0)\n",
      "  Using cached libclang-18.1.1-1-py2.py3-none-macosx_11_0_arm64.whl.metadata (5.2 kB)\n",
      "Collecting numpy<=1.24.3,>=1.22 (from tensorflow-macos==2.13.0)\n",
      "  Downloading numpy-1.24.3-cp310-cp310-macosx_11_0_arm64.whl.metadata (5.6 kB)\n",
      "Collecting opt-einsum>=2.3.2 (from tensorflow-macos==2.13.0)\n",
      "  Using cached opt_einsum-3.4.0-py3-none-any.whl.metadata (6.3 kB)\n",
      "Requirement already satisfied: packaging in ./venv/lib/python3.10/site-packages (from tensorflow-macos==2.13.0) (24.2)\n",
      "Collecting protobuf!=4.21.0,!=4.21.1,!=4.21.2,!=4.21.3,!=4.21.4,!=4.21.5,<5.0.0dev,>=3.20.3 (from tensorflow-macos==2.13.0)\n",
      "  Using cached protobuf-4.25.6-cp37-abi3-macosx_10_9_universal2.whl.metadata (541 bytes)\n",
      "Requirement already satisfied: setuptools in ./venv/lib/python3.10/site-packages (from tensorflow-macos==2.13.0) (75.8.0)\n",
      "Requirement already satisfied: six>=1.12.0 in ./venv/lib/python3.10/site-packages (from tensorflow-macos==2.13.0) (1.17.0)\n",
      "Collecting termcolor>=1.1.0 (from tensorflow-macos==2.13.0)\n",
      "  Using cached termcolor-2.5.0-py3-none-any.whl.metadata (6.1 kB)\n",
      "Collecting typing-extensions<4.6.0,>=3.6.6 (from tensorflow-macos==2.13.0)\n",
      "  Downloading typing_extensions-4.5.0-py3-none-any.whl.metadata (8.5 kB)\n",
      "Collecting wrapt>=1.11.0 (from tensorflow-macos==2.13.0)\n",
      "  Using cached wrapt-1.17.2-cp310-cp310-macosx_11_0_arm64.whl.metadata (6.4 kB)\n",
      "Collecting grpcio<2.0,>=1.24.3 (from tensorflow-macos==2.13.0)\n",
      "  Using cached grpcio-1.70.0-cp310-cp310-macosx_12_0_universal2.whl.metadata (3.9 kB)\n",
      "Collecting tensorboard<2.14,>=2.13 (from tensorflow-macos==2.13.0)\n",
      "  Downloading tensorboard-2.13.0-py3-none-any.whl.metadata (1.8 kB)\n",
      "Collecting tensorflow-estimator<2.14,>=2.13.0 (from tensorflow-macos==2.13.0)\n",
      "  Downloading tensorflow_estimator-2.13.0-py2.py3-none-any.whl.metadata (1.3 kB)\n",
      "Collecting keras<2.14,>=2.13.1 (from tensorflow-macos==2.13.0)\n",
      "  Downloading keras-2.13.1-py3-none-any.whl.metadata (2.4 kB)\n",
      "Collecting wheel~=0.35 (from tensorflow-metal==1.0.0)\n",
      "  Using cached wheel-0.45.1-py3-none-any.whl.metadata (2.3 kB)\n",
      "Collecting google-auth<3,>=1.6.3 (from tensorboard<2.14,>=2.13->tensorflow-macos==2.13.0)\n",
      "  Downloading google_auth-2.38.0-py2.py3-none-any.whl.metadata (4.8 kB)\n",
      "Collecting google-auth-oauthlib<1.1,>=0.5 (from tensorboard<2.14,>=2.13->tensorflow-macos==2.13.0)\n",
      "  Downloading google_auth_oauthlib-1.0.0-py2.py3-none-any.whl.metadata (2.7 kB)\n",
      "Collecting markdown>=2.6.8 (from tensorboard<2.14,>=2.13->tensorflow-macos==2.13.0)\n",
      "  Using cached Markdown-3.7-py3-none-any.whl.metadata (7.0 kB)\n",
      "Requirement already satisfied: requests<3,>=2.21.0 in ./venv/lib/python3.10/site-packages (from tensorboard<2.14,>=2.13->tensorflow-macos==2.13.0) (2.32.3)\n",
      "Collecting tensorboard-data-server<0.8.0,>=0.7.0 (from tensorboard<2.14,>=2.13->tensorflow-macos==2.13.0)\n",
      "  Using cached tensorboard_data_server-0.7.2-py3-none-any.whl.metadata (1.1 kB)\n",
      "Collecting werkzeug>=1.0.1 (from tensorboard<2.14,>=2.13->tensorflow-macos==2.13.0)\n",
      "  Using cached werkzeug-3.1.3-py3-none-any.whl.metadata (3.7 kB)\n",
      "Collecting cachetools<6.0,>=2.0.0 (from google-auth<3,>=1.6.3->tensorboard<2.14,>=2.13->tensorflow-macos==2.13.0)\n",
      "  Downloading cachetools-5.5.1-py3-none-any.whl.metadata (5.4 kB)\n",
      "Collecting pyasn1-modules>=0.2.1 (from google-auth<3,>=1.6.3->tensorboard<2.14,>=2.13->tensorflow-macos==2.13.0)\n",
      "  Downloading pyasn1_modules-0.4.1-py3-none-any.whl.metadata (3.5 kB)\n",
      "Collecting rsa<5,>=3.1.4 (from google-auth<3,>=1.6.3->tensorboard<2.14,>=2.13->tensorflow-macos==2.13.0)\n",
      "  Using cached rsa-4.9-py3-none-any.whl.metadata (4.2 kB)\n",
      "Collecting requests-oauthlib>=0.7.0 (from google-auth-oauthlib<1.1,>=0.5->tensorboard<2.14,>=2.13->tensorflow-macos==2.13.0)\n",
      "  Using cached requests_oauthlib-2.0.0-py2.py3-none-any.whl.metadata (11 kB)\n",
      "Requirement already satisfied: charset-normalizer<4,>=2 in ./venv/lib/python3.10/site-packages (from requests<3,>=2.21.0->tensorboard<2.14,>=2.13->tensorflow-macos==2.13.0) (3.4.1)\n",
      "Requirement already satisfied: idna<4,>=2.5 in ./venv/lib/python3.10/site-packages (from requests<3,>=2.21.0->tensorboard<2.14,>=2.13->tensorflow-macos==2.13.0) (3.10)\n",
      "Requirement already satisfied: urllib3<3,>=1.21.1 in ./venv/lib/python3.10/site-packages (from requests<3,>=2.21.0->tensorboard<2.14,>=2.13->tensorflow-macos==2.13.0) (2.3.0)\n",
      "Requirement already satisfied: certifi>=2017.4.17 in ./venv/lib/python3.10/site-packages (from requests<3,>=2.21.0->tensorboard<2.14,>=2.13->tensorflow-macos==2.13.0) (2024.12.14)\n",
      "Requirement already satisfied: MarkupSafe>=2.1.1 in ./venv/lib/python3.10/site-packages (from werkzeug>=1.0.1->tensorboard<2.14,>=2.13->tensorflow-macos==2.13.0) (3.0.2)\n",
      "Collecting pyasn1<0.7.0,>=0.4.6 (from pyasn1-modules>=0.2.1->google-auth<3,>=1.6.3->tensorboard<2.14,>=2.13->tensorflow-macos==2.13.0)\n",
      "  Downloading pyasn1-0.6.1-py3-none-any.whl.metadata (8.4 kB)\n",
      "Collecting oauthlib>=3.0.0 (from requests-oauthlib>=0.7.0->google-auth-oauthlib<1.1,>=0.5->tensorboard<2.14,>=2.13->tensorflow-macos==2.13.0)\n",
      "  Using cached oauthlib-3.2.2-py3-none-any.whl.metadata (7.5 kB)\n",
      "Downloading tensorflow_macos-2.13.0-cp310-cp310-macosx_12_0_arm64.whl (189.3 MB)\n",
      "\u001b[2K   \u001b[90m━━━━━━━━━━━━━━━━━━━━━━━━━━━━━━━━━━━━━━━━\u001b[0m \u001b[32m189.3/189.3 MB\u001b[0m \u001b[31m18.2 MB/s\u001b[0m eta \u001b[36m0:00:00\u001b[0m00:01\u001b[0m00:01\u001b[0m\n",
      "Downloading tensorflow_metal-1.0.0-cp310-cp310-macosx_12_0_arm64.whl (1.4 MB)\n",
      "\u001b[2K   \u001b[90m━━━━━━━━━━━━━━━━━━━━━━━━━━━━━━━━━━━━━━━━\u001b[0m \u001b[32m1.4/1.4 MB\u001b[0m \u001b[31m11.5 MB/s\u001b[0m eta \u001b[36m0:00:00\u001b[0m\n",
      "\u001b[?25hUsing cached absl_py-2.1.0-py3-none-any.whl (133 kB)\n",
      "Using cached astunparse-1.6.3-py2.py3-none-any.whl (12 kB)\n",
      "Using cached flatbuffers-25.1.24-py2.py3-none-any.whl (30 kB)\n",
      "Downloading gast-0.4.0-py3-none-any.whl (9.8 kB)\n",
      "Using cached google_pasta-0.2.0-py3-none-any.whl (57 kB)\n",
      "Using cached grpcio-1.70.0-cp310-cp310-macosx_12_0_universal2.whl (11.4 MB)\n",
      "Using cached h5py-3.12.1-cp310-cp310-macosx_11_0_arm64.whl (2.9 MB)\n",
      "Downloading keras-2.13.1-py3-none-any.whl (1.7 MB)\n",
      "\u001b[2K   \u001b[90m━━━━━━━━━━━━━━━━━━━━━━━━━━━━━━━━━━━━━━━━\u001b[0m \u001b[32m1.7/1.7 MB\u001b[0m \u001b[31m28.9 MB/s\u001b[0m eta \u001b[36m0:00:00\u001b[0m\n",
      "\u001b[?25hUsing cached libclang-18.1.1-1-py2.py3-none-macosx_11_0_arm64.whl (25.8 MB)\n",
      "Downloading numpy-1.24.3-cp310-cp310-macosx_11_0_arm64.whl (13.9 MB)\n",
      "\u001b[2K   \u001b[90m━━━━━━━━━━━━━━━━━━━━━━━━━━━━━━━━━━━━━━━━\u001b[0m \u001b[32m13.9/13.9 MB\u001b[0m \u001b[31m34.2 MB/s\u001b[0m eta \u001b[36m0:00:00\u001b[0m \u001b[36m0:00:01\u001b[0m\n",
      "Using cached opt_einsum-3.4.0-py3-none-any.whl (71 kB)\n",
      "Using cached protobuf-4.25.6-cp37-abi3-macosx_10_9_universal2.whl (394 kB)\n",
      "Downloading tensorboard-2.13.0-py3-none-any.whl (5.6 MB)\n",
      "\u001b[2K   \u001b[90m━━━━━━━━━━━━━━━━━━━━━━━━━━━━━━━━━━━━━━━━\u001b[0m \u001b[32m5.6/5.6 MB\u001b[0m \u001b[31m35.0 MB/s\u001b[0m eta \u001b[36m0:00:00\u001b[0m\n",
      "Downloading tensorflow_estimator-2.13.0-py2.py3-none-any.whl (440 kB)\n",
      "Using cached termcolor-2.5.0-py3-none-any.whl (7.8 kB)\n",
      "Downloading typing_extensions-4.5.0-py3-none-any.whl (27 kB)\n",
      "Using cached wheel-0.45.1-py3-none-any.whl (72 kB)\n",
      "Using cached wrapt-1.17.2-cp310-cp310-macosx_11_0_arm64.whl (38 kB)\n",
      "Downloading google_auth-2.38.0-py2.py3-none-any.whl (210 kB)\n",
      "Downloading google_auth_oauthlib-1.0.0-py2.py3-none-any.whl (18 kB)\n",
      "Using cached Markdown-3.7-py3-none-any.whl (106 kB)\n",
      "Using cached tensorboard_data_server-0.7.2-py3-none-any.whl (2.4 kB)\n",
      "Using cached werkzeug-3.1.3-py3-none-any.whl (224 kB)\n",
      "Downloading cachetools-5.5.1-py3-none-any.whl (9.5 kB)\n",
      "Downloading pyasn1_modules-0.4.1-py3-none-any.whl (181 kB)\n",
      "Using cached requests_oauthlib-2.0.0-py2.py3-none-any.whl (24 kB)\n",
      "Using cached rsa-4.9-py3-none-any.whl (34 kB)\n",
      "Using cached oauthlib-3.2.2-py3-none-any.whl (151 kB)\n",
      "Downloading pyasn1-0.6.1-py3-none-any.whl (83 kB)\n",
      "Installing collected packages: libclang, flatbuffers, wrapt, wheel, werkzeug, typing-extensions, termcolor, tensorflow-estimator, tensorboard-data-server, pyasn1, protobuf, opt-einsum, oauthlib, numpy, markdown, keras, grpcio, google-pasta, gast, cachetools, absl-py, tensorflow-metal, rsa, requests-oauthlib, pyasn1-modules, h5py, astunparse, google-auth, google-auth-oauthlib, tensorboard, tensorflow-macos\n",
      "  Attempting uninstall: typing-extensions\n",
      "    Found existing installation: typing_extensions 4.12.2\n",
      "    Uninstalling typing_extensions-4.12.2:\n",
      "      Successfully uninstalled typing_extensions-4.12.2\n"
     ]
    },
    {
     "name": "stderr",
     "output_type": "stream",
     "text": [
      "\u001b[31mERROR: pip's dependency resolver does not currently take into account all the packages that are installed. This behaviour is the source of the following dependency conflicts.\n",
      "ipython 8.31.0 requires typing_extensions>=4.6; python_version < \"3.12\", but you have typing-extensions 4.5.0 which is incompatible.\u001b[0m\u001b[31m\n",
      "\u001b[0m"
     ]
    },
    {
     "name": "stdout",
     "output_type": "stream",
     "text": [
      "Successfully installed absl-py-2.1.0 astunparse-1.6.3 cachetools-5.5.1 flatbuffers-25.1.24 gast-0.4.0 google-auth-2.38.0 google-auth-oauthlib-1.0.0 google-pasta-0.2.0 grpcio-1.70.0 h5py-3.12.1 keras-2.13.1 libclang-18.1.1 markdown-3.7 numpy-1.24.3 oauthlib-3.2.2 opt-einsum-3.4.0 protobuf-4.25.6 pyasn1-0.6.1 pyasn1-modules-0.4.1 requests-oauthlib-2.0.0 rsa-4.9 tensorboard-2.13.0 tensorboard-data-server-0.7.2 tensorflow-estimator-2.13.0 tensorflow-macos-2.13.0 tensorflow-metal-1.0.0 termcolor-2.5.0 typing-extensions-4.5.0 werkzeug-3.1.3 wheel-0.45.1 wrapt-1.17.2\n",
      "TensorFlow 2.13.0 installed successfully.\n",
      "TensorFlow is configured to use GPU (Metal).\n"
     ]
    }
   ],
   "source": [
    "def check_install_tensorflow():\n",
    "    try:\n",
    "        import tensorflow as tf\n",
    "        print(f\"TensorFlow {tf.__version__} is already installed.\")\n",
    "        # Verify TensorFlow can load plugins\n",
    "        try:\n",
    "            tf.config.list_physical_devices('GPU')  # Check if GPU (Metal) is available\n",
    "            print(\"TensorFlow is configured to use GPU (Metal).\")\n",
    "        except Exception as e:\n",
    "            print(f\"Warning: TensorFlow GPU (Metal) setup failed: {e}\")\n",
    "            print(\"Falling back to CPU-only mode.\")\n",
    "    except ImportError:\n",
    "        import platform\n",
    "        import os\n",
    "        import sys\n",
    "\n",
    "        # Check if running on macOS with Apple Silicon\n",
    "        if platform.system() == \"Darwin\" and platform.machine() == \"arm64\":\n",
    "            print(\"Detected macOS on Apple Silicon (M1/M2). Installing TensorFlow for macOS...\")\n",
    "\n",
    "            # Check Python version\n",
    "            python_version = sys.version_info\n",
    "            if not (python_version.major == 3 and python_version.minor in [8, 9, 10, 11]):\n",
    "                print(\"TensorFlow for macOS (Apple Silicon) requires Python 3.8–3.11.\")\n",
    "                print(f\"Your Python version: {python_version.major}.{python_version.minor}.{python_version.micro}\")\n",
    "                print(\"Please install a compatible Python version.\")\n",
    "                return\n",
    "\n",
    "            # Upgrade pip\n",
    "            os.system(\"pip install --upgrade pip\")\n",
    "\n",
    "            # Install TensorFlow for macOS\n",
    "            try:\n",
    "                print(\"Installing tensorflow-macos and tensorflow-metal...\")\n",
    "                os.system(\"pip install tensorflow-macos==2.13.0 tensorflow-metal==1.0.0\")\n",
    "            except Exception as e:\n",
    "                print(f\"Error installing TensorFlow for macOS: {e}\")\n",
    "                print(\"Falling back to standard TensorFlow installation (CPU-only)...\")\n",
    "                os.system(\"pip install tensorflow\")\n",
    "        else:\n",
    "            # Default installation for other platforms (including Google Colab)\n",
    "            print(\"Installing TensorFlow...\")\n",
    "            os.system(\"pip install tensorflow\")\n",
    "\n",
    "        # Verify installation\n",
    "        try:\n",
    "            import tensorflow as tf\n",
    "            print(f\"TensorFlow {tf.__version__} installed successfully.\")\n",
    "            # Verify TensorFlow can load plugins\n",
    "            try:\n",
    "                tf.config.list_physical_devices('GPU')  # Check if GPU (Metal) is available\n",
    "                print(\"TensorFlow is configured to use GPU (Metal).\")\n",
    "            except Exception as e:\n",
    "                print(f\"Warning: TensorFlow GPU (Metal) setup failed: {e}\")\n",
    "                print(\"Falling back to CPU-only mode.\")\n",
    "        except ImportError:\n",
    "            print(\"Failed to install TensorFlow. Please check your environment.\")\n",
    "\n",
    "# Call the function to check and install TensorFlow\n",
    "check_install_tensorflow()"
   ]
  },
  {
   "cell_type": "code",
   "execution_count": 4,
   "metadata": {
    "id": "NaInAhsjm1Oj"
   },
   "outputs": [
    {
     "ename": "ModuleNotFoundError",
     "evalue": "No module named 'model'",
     "output_type": "error",
     "traceback": [
      "\u001b[0;31m---------------------------------------------------------------------------\u001b[0m",
      "\u001b[0;31mModuleNotFoundError\u001b[0m                       Traceback (most recent call last)",
      "Cell \u001b[0;32mIn[4], line 5\u001b[0m\n\u001b[1;32m      1\u001b[0m \u001b[38;5;28;01mimport\u001b[39;00m\u001b[38;5;250m \u001b[39m\u001b[38;5;21;01mtensorflow\u001b[39;00m\u001b[38;5;250m \u001b[39m\u001b[38;5;28;01mas\u001b[39;00m\u001b[38;5;250m \u001b[39m\u001b[38;5;21;01mtf\u001b[39;00m\n\u001b[1;32m      3\u001b[0m \u001b[38;5;28;01mfrom\u001b[39;00m\u001b[38;5;250m \u001b[39m\u001b[38;5;21;01mtensorflow\u001b[39;00m\u001b[38;5;21;01m.\u001b[39;00m\u001b[38;5;21;01mkeras\u001b[39;00m\u001b[38;5;250m \u001b[39m\u001b[38;5;28;01mimport\u001b[39;00m datasets\n\u001b[0;32m----> 5\u001b[0m \u001b[38;5;28;01mfrom\u001b[39;00m\u001b[38;5;250m \u001b[39m\u001b[38;5;21;01mmodel\u001b[39;00m\u001b[38;5;250m \u001b[39m\u001b[38;5;28;01mimport\u001b[39;00m ViT\n\u001b[1;32m      6\u001b[0m \u001b[38;5;28;01mfrom\u001b[39;00m\u001b[38;5;250m \u001b[39m\u001b[38;5;21;01mtrainer\u001b[39;00m\u001b[38;5;250m \u001b[39m\u001b[38;5;28;01mimport\u001b[39;00m Trainer, TrainerConfig\n",
      "\u001b[0;31mModuleNotFoundError\u001b[0m: No module named 'model'"
     ]
    }
   ],
   "source": [
    "import tensorflow as tf\n",
    "\n",
    "from tensorflow.keras import datasets\n",
    "\n",
    "from model import ViT\n",
    "from trainer import Trainer, TrainerConfig"
   ]
  },
  {
   "cell_type": "code",
   "execution_count": null,
   "metadata": {
    "id": "Lhz0zVMWnJLW"
   },
   "outputs": [],
   "source": [
    "(train_images, train_labels), (test_images, test_labels) = datasets.cifar10.load_data()"
   ]
  },
  {
   "cell_type": "code",
   "execution_count": null,
   "metadata": {
    "id": "zbd3R1F2qv70"
   },
   "outputs": [],
   "source": [
    "train_images = tf.cast(train_images.reshape((-1, 3, 32, 32)),dtype=tf.float32) #cats into float 32 datatype\n",
    "test_images = tf.cast(test_images.reshape((-1, 3, 32, 32)), dtype=tf.float32) #cast into floast32 data type\n",
    "train_images,test_images = train_images/255.0, test_images/255.0 # normalize the images"
   ]
  },
  {
   "cell_type": "code",
   "execution_count": null,
   "metadata": {
    "id": "cDv7gSt4LlTw"
   },
   "outputs": [],
   "source": [
    "train_x = tf.data.Dataset.from_tensor_slices(train_images)\n",
    "train_y = tf.data.Dataset.from_tensor_slices(train_labels)\n",
    "train_dataset = tf.data.Dataset.zip((train_x, train_y))\n",
    "test_x = tf.data.Dataset.from_tensor_slices(test_images)\n",
    "test_y = tf.data.Dataset.from_tensor_slices(test_labels)\n",
    "test_dataset = tf.data.Dataset.zip((test_x, test_y))"
   ]
  },
  {
   "cell_type": "code",
   "execution_count": null,
   "metadata": {
    "id": "CHYTU0oXNjQX"
   },
   "outputs": [],
   "source": [
    "tconf = TrainerConfig(max_epochs=10, batch_size=64, learning_rate=1e-3)"
   ]
  },
  {
   "cell_type": "code",
   "execution_count": null,
   "metadata": {
    "id": "L2t3B_P8sGzf"
   },
   "outputs": [],
   "source": [
    "# sample model config\n",
    "model_config = {\"image_size\":32,\n",
    "                \"patch_size\":4,\n",
    "                \"num_classes\":10,\n",
    "                \"dim\":64,\n",
    "                \"depth\":3,\n",
    "                \"heads\":4,\n",
    "                \"mlp_dim\":128}"
   ]
  },
  {
   "cell_type": "code",
   "execution_count": null,
   "metadata": {
    "id": "dX7s9FpaKjR5"
   },
   "outputs": [],
   "source": [
    "trainer = Trainer(ViT, model_config, train_dataset, len(train_images), test_dataset, len(test_images), tconf)"
   ]
  },
  {
   "cell_type": "code",
   "execution_count": null,
   "metadata": {
    "colab": {
     "base_uri": "https://localhost:8080/",
     "height": 357
    },
    "id": "dLybbaDvOMzE",
    "outputId": "6d58fa05-2b36-4517-e93e-c1f2168a17e6"
   },
   "outputs": [
    {
     "data": {
      "text/html": [],
      "text/plain": [
       "<IPython.core.display.HTML object>"
      ]
     },
     "metadata": {
      "tags": []
     },
     "output_type": "display_data"
    },
    {
     "name": "stdout",
     "output_type": "stream",
     "text": [
      "epoch 1: train loss 1.13076. train accuracy 0.59292\n",
      "epoch 1: test loss 1.38127. test accuracy 0.51570\n",
      "epoch 2: train loss 1.10630. train accuracy 0.60156\n",
      "epoch 2: test loss 1.37152. test accuracy 0.52360\n",
      "epoch 3: train loss 1.08120. train accuracy 0.61000\n",
      "epoch 3: test loss 1.36683. test accuracy 0.51770\n",
      "epoch 4: train loss 1.06068. train accuracy 0.61636\n",
      "epoch 4: test loss 1.40084. test accuracy 0.51610\n",
      "epoch 5: train loss 1.03911. train accuracy 0.62318\n",
      "epoch 5: test loss 1.42858. test accuracy 0.51980\n",
      "epoch 6: train loss 1.01509. train accuracy 0.63262\n",
      "epoch 6: test loss 1.47395. test accuracy 0.50560\n",
      "epoch 7: train loss 0.99675. train accuracy 0.63814\n",
      "epoch 7: test loss 1.51925. test accuracy 0.50190\n",
      "epoch 8: train loss 0.97913. train accuracy 0.64634\n",
      "epoch 8: test loss 1.57207. test accuracy 0.49950\n",
      "epoch 9: train loss 0.96067. train accuracy 0.65358\n",
      "epoch 9: test loss 1.55870. test accuracy 0.49980\n",
      "epoch 10: train loss 0.94232. train accuracy 0.65760\n",
      "epoch 10: test loss 1.56997. test accuracy 0.50180\n"
     ]
    }
   ],
   "source": [
    "trainer.train()"
   ]
  },
  {
   "cell_type": "code",
   "execution_count": null,
   "metadata": {
    "id": "zLUk0x2zri0M"
   },
   "outputs": [],
   "source": []
  }
 ],
 "metadata": {
  "accelerator": "GPU",
  "colab": {
   "authorship_tag": "ABX9TyME77hMSyjiWwctX6iSM1rF",
   "include_colab_link": true,
   "provenance": [],
   "toc_visible": true
  },
  "kernelspec": {
   "display_name": "venv-kernel",
   "language": "python",
   "name": "venv-kernel"
  },
  "language_info": {
   "codemirror_mode": {
    "name": "ipython",
    "version": 3
   },
   "file_extension": ".py",
   "mimetype": "text/x-python",
   "name": "python",
   "nbconvert_exporter": "python",
   "pygments_lexer": "ipython3",
   "version": "3.10.0"
  }
 },
 "nbformat": 4,
 "nbformat_minor": 4
}
