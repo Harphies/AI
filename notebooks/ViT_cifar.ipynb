{
  "nbformat": 4,
  "nbformat_minor": 0,
  "metadata": {
    "colab": {
      "provenance": [],
      "toc_visible": true,
      "authorship_tag": "ABX9TyME77hMSyjiWwctX6iSM1rF",
      "include_colab_link": true
    },
    "kernelspec": {
      "name": "python3",
      "display_name": "Python 3"
    },
    "accelerator": "GPU"
  },
  "cells": [
    {
      "cell_type": "markdown",
      "metadata": {
        "id": "view-in-github",
        "colab_type": "text"
      },
      "source": [
        "<a href=\"https://colab.research.google.com/github/Harphies/AI/blob/main/notebooks/ViT_cifar.ipynb\" target=\"_parent\"><img src=\"https://colab.research.google.com/assets/colab-badge.svg\" alt=\"Open In Colab\"/></a>"
      ]
    },
    {
      "cell_type": "code",
      "metadata": {
        "id": "XjE6jSMEuqCE",
        "outputId": "3b57360b-6f40-4822-cb30-ed3c717d9163",
        "colab": {
          "base_uri": "https://localhost:8080/"
        }
      },
      "source": [
        "# ! git clone https://github.com/kamalkraj/Vision-Transformer\n",
        "# ! pip install -q -r \"Vision-Transformer/requirements.txt\"\n",
        "! pip install pipupgrade\n",
        "! pipupgrade --verbose --latest --yes"
      ],
      "execution_count": null,
      "outputs": [
        {
          "output_type": "stream",
          "name": "stdout",
          "text": [
            "Requirement already satisfied: pipupgrade in /usr/local/lib/python3.7/dist-packages (1.11.0)\n",
            "Requirement already satisfied: pip in /usr/local/lib/python3.7/dist-packages (from pipupgrade) (21.1.3)\n",
            "Traceback (most recent call last):\n",
            "  File \"/usr/local/bin/pipupgrade\", line 5, in <module>\n",
            "    from pipupgrade.__main__ import main\n",
            "  File \"/usr/local/lib/python3.7/dist-packages/pipupgrade/__init__.py\", line 22, in <module>\n",
            "    from pipupgrade.config      import PATH\n",
            "  File \"/usr/local/lib/python3.7/dist-packages/pipupgrade/config.py\", line 5, in <module>\n",
            "    from bpyutils.config      import get_config_path\n",
            "ModuleNotFoundError: No module named 'bpyutils'\n"
          ]
        }
      ]
    },
    {
      "cell_type": "code",
      "metadata": {
        "id": "tG1auJhBnYMU"
      },
      "source": [
        "import sys\n",
        "sys.path.append('Vision-Transformer')"
      ],
      "execution_count": null,
      "outputs": []
    },
    {
      "cell_type": "code",
      "metadata": {
        "id": "NaInAhsjm1Oj"
      },
      "source": [
        "import tensorflow as tf\n",
        "\n",
        "from tensorflow.keras import datasets\n",
        "\n",
        "from model import ViT\n",
        "from trainer import Trainer, TrainerConfig"
      ],
      "execution_count": null,
      "outputs": []
    },
    {
      "cell_type": "code",
      "metadata": {
        "id": "Lhz0zVMWnJLW"
      },
      "source": [
        "(train_images, train_labels), (test_images, test_labels) = datasets.cifar10.load_data()"
      ],
      "execution_count": null,
      "outputs": []
    },
    {
      "cell_type": "code",
      "metadata": {
        "id": "zbd3R1F2qv70"
      },
      "source": [
        "train_images = tf.cast(train_images.reshape((-1, 3, 32, 32)),dtype=tf.float32) #cats into float 32 datatype\n",
        "test_images = tf.cast(test_images.reshape((-1, 3, 32, 32)), dtype=tf.float32) #cast into floast32 data type\n",
        "train_images,test_images = train_images/255.0, test_images/255.0 # normalize the images"
      ],
      "execution_count": null,
      "outputs": []
    },
    {
      "cell_type": "code",
      "metadata": {
        "id": "cDv7gSt4LlTw"
      },
      "source": [
        "train_x = tf.data.Dataset.from_tensor_slices(train_images)\n",
        "train_y = tf.data.Dataset.from_tensor_slices(train_labels)\n",
        "train_dataset = tf.data.Dataset.zip((train_x, train_y))\n",
        "test_x = tf.data.Dataset.from_tensor_slices(test_images)\n",
        "test_y = tf.data.Dataset.from_tensor_slices(test_labels)\n",
        "test_dataset = tf.data.Dataset.zip((test_x, test_y))"
      ],
      "execution_count": null,
      "outputs": []
    },
    {
      "cell_type": "code",
      "metadata": {
        "id": "CHYTU0oXNjQX"
      },
      "source": [
        "tconf = TrainerConfig(max_epochs=10, batch_size=64, learning_rate=1e-3)"
      ],
      "execution_count": null,
      "outputs": []
    },
    {
      "cell_type": "code",
      "metadata": {
        "id": "L2t3B_P8sGzf"
      },
      "source": [
        "# sample model config\n",
        "model_config = {\"image_size\":32,\n",
        "                \"patch_size\":4,\n",
        "                \"num_classes\":10,\n",
        "                \"dim\":64,\n",
        "                \"depth\":3,\n",
        "                \"heads\":4,\n",
        "                \"mlp_dim\":128}"
      ],
      "execution_count": null,
      "outputs": []
    },
    {
      "cell_type": "code",
      "metadata": {
        "id": "dX7s9FpaKjR5"
      },
      "source": [
        "trainer = Trainer(ViT, model_config, train_dataset, len(train_images), test_dataset, len(test_images), tconf)"
      ],
      "execution_count": null,
      "outputs": []
    },
    {
      "cell_type": "code",
      "metadata": {
        "id": "dLybbaDvOMzE",
        "outputId": "6d58fa05-2b36-4517-e93e-c1f2168a17e6",
        "colab": {
          "base_uri": "https://localhost:8080/",
          "height": 357
        }
      },
      "source": [
        "trainer.train()"
      ],
      "execution_count": null,
      "outputs": [
        {
          "output_type": "display_data",
          "data": {
            "text/html": [
              ""
            ],
            "text/plain": [
              "<IPython.core.display.HTML object>"
            ]
          },
          "metadata": {
            "tags": []
          }
        },
        {
          "output_type": "stream",
          "text": [
            "epoch 1: train loss 1.13076. train accuracy 0.59292\n",
            "epoch 1: test loss 1.38127. test accuracy 0.51570\n",
            "epoch 2: train loss 1.10630. train accuracy 0.60156\n",
            "epoch 2: test loss 1.37152. test accuracy 0.52360\n",
            "epoch 3: train loss 1.08120. train accuracy 0.61000\n",
            "epoch 3: test loss 1.36683. test accuracy 0.51770\n",
            "epoch 4: train loss 1.06068. train accuracy 0.61636\n",
            "epoch 4: test loss 1.40084. test accuracy 0.51610\n",
            "epoch 5: train loss 1.03911. train accuracy 0.62318\n",
            "epoch 5: test loss 1.42858. test accuracy 0.51980\n",
            "epoch 6: train loss 1.01509. train accuracy 0.63262\n",
            "epoch 6: test loss 1.47395. test accuracy 0.50560\n",
            "epoch 7: train loss 0.99675. train accuracy 0.63814\n",
            "epoch 7: test loss 1.51925. test accuracy 0.50190\n",
            "epoch 8: train loss 0.97913. train accuracy 0.64634\n",
            "epoch 8: test loss 1.57207. test accuracy 0.49950\n",
            "epoch 9: train loss 0.96067. train accuracy 0.65358\n",
            "epoch 9: test loss 1.55870. test accuracy 0.49980\n",
            "epoch 10: train loss 0.94232. train accuracy 0.65760\n",
            "epoch 10: test loss 1.56997. test accuracy 0.50180\n"
          ],
          "name": "stdout"
        }
      ]
    },
    {
      "cell_type": "code",
      "metadata": {
        "id": "zLUk0x2zri0M"
      },
      "source": [],
      "execution_count": null,
      "outputs": []
    }
  ]
}