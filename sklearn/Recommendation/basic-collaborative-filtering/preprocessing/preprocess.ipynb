{
 "cells": [
  {
   "cell_type": "code",
   "execution_count": 1,
   "metadata": {},
   "outputs": [
    {
     "data": {
      "text/plain": [
       "'\\nscripts to preprocess the movielens data\\n\\nCreate a class named Movielens, with functions load_data, \\nget_genre, get_year,\\nget_movie_name, get_movie_id\\nget_popularity, get_users_ratings.\\n\\n'"
      ]
     },
     "execution_count": 1,
     "metadata": {},
     "output_type": "execute_result"
    }
   ],
   "source": [
    "\"\"\"\n",
    "scripts to preprocess the movielens data\n",
    "\n",
    "Create a class named Movielens, with functions load_data, \n",
    "get_genre, get_year,\n",
    "get_movie_name, get_movie_id\n",
    "get_popularity, get_users_ratings.\n",
    "\n",
    "\"\"\""
   ]
  },
  {
   "cell_type": "code",
   "execution_count": 2,
   "metadata": {},
   "outputs": [],
   "source": [
    "from surprise import Dataset, Reader\n",
    "import re\n",
    "import csv\n",
    "from collections import defaultdict\n",
    "from surprise.model_selection import train_test_split,LeaveOneOut"
   ]
  },
  {
   "cell_type": "code",
   "execution_count": 1,
   "metadata": {},
   "outputs": [],
   "source": [
    "class Movielens:\n",
    "    movieID_to_name = {}\n",
    "    name_to_movieID = {}\n",
    "    ratingsPath = 'ml-latest-small/ratings.csv'\n",
    "    moviePath = 'ml-latest-small/movies.csv'\n",
    "    \n",
    "    def load1Mdata(self):\n",
    "        reader = Reader(line_format='user item rating timestamp',sep='::', skip_lines=1)\n",
    "        ratingsDataset = Dataset.load_from_file('ml-1m/ratings.dat', reader=reader)\n",
    "        with open('ml-1m/movies.dat', newline='', encoding='ISO-8859-1') as datfile:\n",
    "            for row in datfile:\n",
    "                row = row.split('::')\n",
    "                movieId, movieName = int(row[0]), row[1]\n",
    "                self.movieID_to_name[movieId] = movieName\n",
    "                sefl.name_to_movieID[movieName] = movieId\n",
    "                del movieId, movieName\n",
    "        return ratingsDataset\n",
    "    \n",
    "    def loadData(self):\n",
    "        reader = Reader(line_format= 'user item rating timestamp', sep=',', skip_lines=1)\n",
    "        ratingsDataset = Dataset.load_from_file(self.ratingsPath, reader=reader)\n",
    "        with open(self.moviePath,newline='',encoding='ISO-8859-1') as csvfile:\n",
    "            movieReader = csv.reader(csvfile)\n",
    "            next(movieReader) #below row without this\n",
    "            for row in movieReader:\n",
    "                movieId, movieName = int(row[0], row[1])\n",
    "                self.movieID_to_name[movieid] = movieName\n",
    "                self.name_to_movieID[movieName] = movieId\n",
    "                del movieId, movieName\n",
    "        return ratingsDataset\n",
    "                "
   ]
  }
 ],
 "metadata": {
  "kernelspec": {
   "display_name": "Python 3",
   "language": "python",
   "name": "python3"
  },
  "language_info": {
   "codemirror_mode": {
    "name": "ipython",
    "version": 3
   },
   "file_extension": ".py",
   "mimetype": "text/x-python",
   "name": "python",
   "nbconvert_exporter": "python",
   "pygments_lexer": "ipython3",
   "version": "3.6.7"
  }
 },
 "nbformat": 4,
 "nbformat_minor": 2
}
