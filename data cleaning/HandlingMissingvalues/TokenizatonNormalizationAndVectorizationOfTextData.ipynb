{
 "cells": [
  {
   "cell_type": "code",
   "execution_count": 1,
   "metadata": {},
   "outputs": [
    {
     "name": "stdout",
     "output_type": "stream",
     "text": [
      "Requirement already satisfied: nltk in c:\\users\\taofe\\anaconda3\\lib\\site-packages (3.3)\n",
      "Requirement already satisfied: six in c:\\users\\taofe\\anaconda3\\lib\\site-packages (from nltk) (1.11.0)\n"
     ]
    }
   ],
   "source": [
    "!pip install nltk"
   ]
  },
  {
   "cell_type": "code",
   "execution_count": 2,
   "metadata": {},
   "outputs": [
    {
     "name": "stdout",
     "output_type": "stream",
     "text": [
      "Collecting inflect\n",
      "  Downloading https://files.pythonhosted.org/packages/2a/14/49a8afaaa66fb49cda8e60512f0fc07594232fb10ea6aa8995c069172cf6/inflect-3.0.2-py2.py3-none-any.whl\n",
      "Collecting importlib-metadata\n",
      "  Downloading https://files.pythonhosted.org/packages/f6/d2/40b3fa882147719744e6aa50ac39cf7a22a913cbcba86a0371176c425a3b/importlib_metadata-0.23-py2.py3-none-any.whl\n",
      "Collecting zipp>=0.5\n",
      "  Downloading https://files.pythonhosted.org/packages/74/3d/1ee25a26411ba0401b43c6376d2316a71addcc72ef8690b101b4ea56d76a/zipp-0.6.0-py2.py3-none-any.whl\n",
      "Requirement already satisfied: more-itertools in c:\\users\\taofe\\anaconda3\\lib\\site-packages (from zipp>=0.5->importlib-metadata->inflect) (4.1.0)\n",
      "Requirement already satisfied: six<2.0.0,>=1.0.0 in c:\\users\\taofe\\anaconda3\\lib\\site-packages (from more-itertools->zipp>=0.5->importlib-metadata->inflect) (1.11.0)\n",
      "Installing collected packages: zipp, importlib-metadata, inflect\n",
      "Successfully installed importlib-metadata-0.23 inflect-3.0.2 zipp-0.6.0\n"
     ]
    }
   ],
   "source": [
    "!pip install inflect"
   ]
  },
  {
   "cell_type": "code",
   "execution_count": 3,
   "metadata": {},
   "outputs": [],
   "source": [
    "import pandas as pd\n",
    "import matplotlib.pyplot as plt\n",
    "\n",
    "import nltk\n",
    "from nltk import word_tokenize # tokenize documents into words."
   ]
  },
  {
   "cell_type": "code",
   "execution_count": 4,
   "metadata": {},
   "outputs": [
    {
     "name": "stdout",
     "output_type": "stream",
     "text": [
      "[nltk_data] Downloading package wordnet to\n",
      "[nltk_data]     C:\\Users\\taofe\\AppData\\Roaming\\nltk_data...\n",
      "[nltk_data]   Package wordnet is already up-to-date!\n"
     ]
    },
    {
     "data": {
      "text/plain": [
       "True"
      ]
     },
     "execution_count": 4,
     "metadata": {},
     "output_type": "execute_result"
    }
   ],
   "source": [
    "# for lemmatization of the text\n",
    "nltk.download('wordnet')"
   ]
  },
  {
   "cell_type": "code",
   "execution_count": 5,
   "metadata": {},
   "outputs": [
    {
     "name": "stdout",
     "output_type": "stream",
     "text": [
      "[nltk_data] Downloading package punkt to\n",
      "[nltk_data]     C:\\Users\\taofe\\AppData\\Roaming\\nltk_data...\n",
      "[nltk_data]   Unzipping tokenizers\\punkt.zip.\n"
     ]
    },
    {
     "data": {
      "text/plain": [
       "True"
      ]
     },
     "execution_count": 5,
     "metadata": {},
     "output_type": "execute_result"
    }
   ],
   "source": [
    "# for word tokenization\n",
    "nltk.download('punkt')"
   ]
  },
  {
   "cell_type": "code",
   "execution_count": 6,
   "metadata": {},
   "outputs": [
    {
     "data": {
      "text/html": [
       "<div>\n",
       "<style scoped>\n",
       "    .dataframe tbody tr th:only-of-type {\n",
       "        vertical-align: middle;\n",
       "    }\n",
       "\n",
       "    .dataframe tbody tr th {\n",
       "        vertical-align: top;\n",
       "    }\n",
       "\n",
       "    .dataframe thead th {\n",
       "        text-align: right;\n",
       "    }\n",
       "</style>\n",
       "<table border=\"1\" class=\"dataframe\">\n",
       "  <thead>\n",
       "    <tr style=\"text-align: right;\">\n",
       "      <th></th>\n",
       "      <th>reviewerID</th>\n",
       "      <th>asin</th>\n",
       "      <th>reviewerName</th>\n",
       "      <th>helpful</th>\n",
       "      <th>helpful_num</th>\n",
       "      <th>helpful_den</th>\n",
       "      <th>reviewText</th>\n",
       "      <th>overall</th>\n",
       "      <th>summary</th>\n",
       "      <th>unixReviewTime</th>\n",
       "      <th>reviewTime</th>\n",
       "      <th>exclamationcount</th>\n",
       "      <th>questioncount</th>\n",
       "      <th>charcount</th>\n",
       "      <th>wordcount</th>\n",
       "      <th>capcount</th>\n",
       "      <th>avgrating</th>\n",
       "      <th>diffrating</th>\n",
       "      <th>ishelpful</th>\n",
       "    </tr>\n",
       "  </thead>\n",
       "  <tbody>\n",
       "    <tr>\n",
       "      <th>0</th>\n",
       "      <td>A3NMPMELAZC8ZY</td>\n",
       "      <td>097293751X</td>\n",
       "      <td>Jakell</td>\n",
       "      <td>[3, 3]</td>\n",
       "      <td>3</td>\n",
       "      <td>3</td>\n",
       "      <td>This book is perfect!  I'm a first time new mo...</td>\n",
       "      <td>5</td>\n",
       "      <td>Great for newborns</td>\n",
       "      <td>1359244800</td>\n",
       "      <td>01 27, 2013</td>\n",
       "      <td>1</td>\n",
       "      <td>0</td>\n",
       "      <td>250</td>\n",
       "      <td>46</td>\n",
       "      <td>0</td>\n",
       "      <td>4.0</td>\n",
       "      <td>1.0</td>\n",
       "      <td>1</td>\n",
       "    </tr>\n",
       "    <tr>\n",
       "      <th>1</th>\n",
       "      <td>A3O4ATU0ENBKTU</td>\n",
       "      <td>097293751X</td>\n",
       "      <td>MAPN</td>\n",
       "      <td>[1, 1]</td>\n",
       "      <td>1</td>\n",
       "      <td>1</td>\n",
       "      <td>I use this so that our babysitter (grandma) ca...</td>\n",
       "      <td>5</td>\n",
       "      <td>Compact and Easy way to record the milestones</td>\n",
       "      <td>1361836800</td>\n",
       "      <td>02 26, 2013</td>\n",
       "      <td>0</td>\n",
       "      <td>0</td>\n",
       "      <td>734</td>\n",
       "      <td>148</td>\n",
       "      <td>0</td>\n",
       "      <td>4.0</td>\n",
       "      <td>1.0</td>\n",
       "      <td>1</td>\n",
       "    </tr>\n",
       "    <tr>\n",
       "      <th>2</th>\n",
       "      <td>A2SYNL4YX73KNY</td>\n",
       "      <td>097293751X</td>\n",
       "      <td>R. Davidson \"Jrdpa\"</td>\n",
       "      <td>[2, 2]</td>\n",
       "      <td>2</td>\n",
       "      <td>2</td>\n",
       "      <td>I like this log, but think it would work bette...</td>\n",
       "      <td>3</td>\n",
       "      <td>Needs clearer AM &amp; PM</td>\n",
       "      <td>1369008000</td>\n",
       "      <td>05 20, 2013</td>\n",
       "      <td>0</td>\n",
       "      <td>0</td>\n",
       "      <td>288</td>\n",
       "      <td>59</td>\n",
       "      <td>2</td>\n",
       "      <td>4.0</td>\n",
       "      <td>1.0</td>\n",
       "      <td>1</td>\n",
       "    </tr>\n",
       "    <tr>\n",
       "      <th>3</th>\n",
       "      <td>A2Q2A6JKY95RTP</td>\n",
       "      <td>097293751X</td>\n",
       "      <td>R. Garrelts</td>\n",
       "      <td>[2, 2]</td>\n",
       "      <td>2</td>\n",
       "      <td>2</td>\n",
       "      <td>My wife and I have a six month old baby boy an...</td>\n",
       "      <td>3</td>\n",
       "      <td>Expensive and Somewhat Limited Format</td>\n",
       "      <td>1381968000</td>\n",
       "      <td>10 17, 2013</td>\n",
       "      <td>0</td>\n",
       "      <td>0</td>\n",
       "      <td>2959</td>\n",
       "      <td>505</td>\n",
       "      <td>9</td>\n",
       "      <td>4.0</td>\n",
       "      <td>1.0</td>\n",
       "      <td>1</td>\n",
       "    </tr>\n",
       "    <tr>\n",
       "      <th>4</th>\n",
       "      <td>A21I33AWNOWMK8</td>\n",
       "      <td>9729375011</td>\n",
       "      <td>EmilyS</td>\n",
       "      <td>[1, 2]</td>\n",
       "      <td>1</td>\n",
       "      <td>2</td>\n",
       "      <td>I have used this book since my son was born.  ...</td>\n",
       "      <td>5</td>\n",
       "      <td>Great product!</td>\n",
       "      <td>1364256000</td>\n",
       "      <td>03 26, 2013</td>\n",
       "      <td>0</td>\n",
       "      <td>0</td>\n",
       "      <td>595</td>\n",
       "      <td>117</td>\n",
       "      <td>0</td>\n",
       "      <td>4.5</td>\n",
       "      <td>0.5</td>\n",
       "      <td>0</td>\n",
       "    </tr>\n",
       "  </tbody>\n",
       "</table>\n",
       "</div>"
      ],
      "text/plain": [
       "       reviewerID        asin        reviewerName  helpful  helpful_num  \\\n",
       "0  A3NMPMELAZC8ZY  097293751X               Jakell  [3, 3]            3   \n",
       "1  A3O4ATU0ENBKTU  097293751X                 MAPN  [1, 1]            1   \n",
       "2  A2SYNL4YX73KNY  097293751X  R. Davidson \"Jrdpa\"  [2, 2]            2   \n",
       "3  A2Q2A6JKY95RTP  097293751X          R. Garrelts  [2, 2]            2   \n",
       "4  A21I33AWNOWMK8  9729375011               EmilyS  [1, 2]            1   \n",
       "\n",
       "   helpful_den                                         reviewText  overall  \\\n",
       "0            3  This book is perfect!  I'm a first time new mo...        5   \n",
       "1            1  I use this so that our babysitter (grandma) ca...        5   \n",
       "2            2  I like this log, but think it would work bette...        3   \n",
       "3            2  My wife and I have a six month old baby boy an...        3   \n",
       "4            2  I have used this book since my son was born.  ...        5   \n",
       "\n",
       "                                         summary  unixReviewTime   reviewTime  \\\n",
       "0                             Great for newborns      1359244800  01 27, 2013   \n",
       "1  Compact and Easy way to record the milestones      1361836800  02 26, 2013   \n",
       "2                          Needs clearer AM & PM      1369008000  05 20, 2013   \n",
       "3          Expensive and Somewhat Limited Format      1381968000  10 17, 2013   \n",
       "4                                 Great product!      1364256000  03 26, 2013   \n",
       "\n",
       "   exclamationcount  questioncount  charcount  wordcount  capcount  avgrating  \\\n",
       "0                 1              0        250         46         0        4.0   \n",
       "1                 0              0        734        148         0        4.0   \n",
       "2                 0              0        288         59         2        4.0   \n",
       "3                 0              0       2959        505         9        4.0   \n",
       "4                 0              0        595        117         0        4.5   \n",
       "\n",
       "   diffrating  ishelpful  \n",
       "0         1.0          1  \n",
       "1         1.0          1  \n",
       "2         1.0          1  \n",
       "3         1.0          1  \n",
       "4         0.5          0  "
      ]
     },
     "execution_count": 6,
     "metadata": {},
     "output_type": "execute_result"
    }
   ],
   "source": [
    "data = pd.read_csv('amazon-baby/amazon.csv')\n",
    "data.head()"
   ]
  },
  {
   "cell_type": "code",
   "execution_count": 7,
   "metadata": {},
   "outputs": [
    {
     "data": {
      "text/plain": [
       "(56950, 19)"
      ]
     },
     "execution_count": 7,
     "metadata": {},
     "output_type": "execute_result"
    }
   ],
   "source": [
    "data.shape"
   ]
  },
  {
   "cell_type": "code",
   "execution_count": 9,
   "metadata": {},
   "outputs": [
    {
     "data": {
      "text/html": [
       "<div>\n",
       "<style scoped>\n",
       "    .dataframe tbody tr th:only-of-type {\n",
       "        vertical-align: middle;\n",
       "    }\n",
       "\n",
       "    .dataframe tbody tr th {\n",
       "        vertical-align: top;\n",
       "    }\n",
       "\n",
       "    .dataframe thead th {\n",
       "        text-align: right;\n",
       "    }\n",
       "</style>\n",
       "<table border=\"1\" class=\"dataframe\">\n",
       "  <thead>\n",
       "    <tr style=\"text-align: right;\">\n",
       "      <th></th>\n",
       "      <th>reviewText</th>\n",
       "    </tr>\n",
       "  </thead>\n",
       "  <tbody>\n",
       "    <tr>\n",
       "      <th>0</th>\n",
       "      <td>This book is perfect!  I'm a first time new mo...</td>\n",
       "    </tr>\n",
       "    <tr>\n",
       "      <th>1</th>\n",
       "      <td>I use this so that our babysitter (grandma) ca...</td>\n",
       "    </tr>\n",
       "    <tr>\n",
       "      <th>2</th>\n",
       "      <td>I like this log, but think it would work bette...</td>\n",
       "    </tr>\n",
       "    <tr>\n",
       "      <th>3</th>\n",
       "      <td>My wife and I have a six month old baby boy an...</td>\n",
       "    </tr>\n",
       "    <tr>\n",
       "      <th>4</th>\n",
       "      <td>I have used this book since my son was born.  ...</td>\n",
       "    </tr>\n",
       "  </tbody>\n",
       "</table>\n",
       "</div>"
      ],
      "text/plain": [
       "                                          reviewText\n",
       "0  This book is perfect!  I'm a first time new mo...\n",
       "1  I use this so that our babysitter (grandma) ca...\n",
       "2  I like this log, but think it would work bette...\n",
       "3  My wife and I have a six month old baby boy an...\n",
       "4  I have used this book since my son was born.  ..."
      ]
     },
     "execution_count": 9,
     "metadata": {},
     "output_type": "execute_result"
    }
   ],
   "source": [
    "# extraxt the review feature\n",
    "data = data[['reviewText']]\n",
    "data.head()"
   ]
  },
  {
   "cell_type": "code",
   "execution_count": 10,
   "metadata": {},
   "outputs": [],
   "source": [
    "# work with just 6 records\n",
    "data = data[:6]"
   ]
  },
  {
   "cell_type": "code",
   "execution_count": 11,
   "metadata": {},
   "outputs": [
    {
     "data": {
      "text/plain": [
       "(6, 1)"
      ]
     },
     "execution_count": 11,
     "metadata": {},
     "output_type": "execute_result"
    }
   ],
   "source": [
    "data.shape"
   ]
  },
  {
   "cell_type": "code",
   "execution_count": 14,
   "metadata": {},
   "outputs": [],
   "source": [
    "# convert the data to list of documents to be able to be indexable\n",
    "documents = list(data['reviewText'])"
   ]
  },
  {
   "cell_type": "code",
   "execution_count": 13,
   "metadata": {},
   "outputs": [
    {
     "name": "stdout",
     "output_type": "stream",
     "text": [
      "This book is perfect!  I'm a first time new mom, and this book made it so easy to keep track of feedings, diaper changes, sleep.  Definitely would recommend this for new moms.  Plus it's small enough that I throw in the diaper back for doctor visits.\n"
     ]
    }
   ],
   "source": [
    "print(documents[0])"
   ]
  },
  {
   "cell_type": "code",
   "execution_count": 15,
   "metadata": {},
   "outputs": [],
   "source": [
    "# tokenize the word\n",
    "documents_word_token = []\n",
    "\n",
    "for document in documents:\n",
    "    tokenize_word = word_tokenize(document)\n",
    "    \n",
    "    documents_word_token.append(tokenize_word)"
   ]
  },
  {
   "cell_type": "code",
   "execution_count": 16,
   "metadata": {},
   "outputs": [
    {
     "name": "stdout",
     "output_type": "stream",
     "text": [
      "['This', 'book', 'is', 'perfect', '!', 'I', \"'m\", 'a', 'first', 'time', 'new', 'mom', ',', 'and', 'this', 'book', 'made', 'it', 'so', 'easy', 'to', 'keep', 'track', 'of', 'feedings', ',', 'diaper', 'changes', ',', 'sleep', '.', 'Definitely', 'would', 'recommend', 'this', 'for', 'new', 'moms', '.', 'Plus', 'it', \"'s\", 'small', 'enough', 'that', 'I', 'throw', 'in', 'the', 'diaper', 'back', 'for', 'doctor', 'visits', '.']\n"
     ]
    }
   ],
   "source": [
    "# check the tokenize documents at index 0\n",
    "print(documents_word_token[0])"
   ]
  },
  {
   "cell_type": "code",
   "execution_count": 17,
   "metadata": {},
   "outputs": [
    {
     "name": "stdout",
     "output_type": "stream",
     "text": [
      "['I', 'like', 'this', 'log', ',', 'but', 'think', 'it', 'would', 'work', 'better', 'with', 'clearer', 'AM', '&', 'PM', 'sections', '.', 'Each', 'page', 'is', '12', 'hours', 'so', 'you', 'really', 'need', 'two', 'pages', 'a', 'day', 'if', 'your', 'baby', 'feeds', 'or', 'wets', 'a', 'lot', 'in', 'the', 'early', 'morning', 'hours', 'between', 'midnight', 'and', '7am', '.', 'We', \"'re\", 'cramming', 'those', 'in', 'to', 'the', '2', 'blank', 'spaces', 'above', '7am', 'right', 'now', '.']\n"
     ]
    }
   ],
   "source": [
    "# check the tokenize documents at index 2\n",
    "print(documents_word_token[2])"
   ]
  },
  {
   "cell_type": "code",
   "execution_count": 18,
   "metadata": {},
   "outputs": [],
   "source": [
    "# view the frequency distribution of words within the text\n",
    "from nltk.probability import FreqDist\n",
    "\n",
    "fdist = FreqDist(documents_word_token[0])"
   ]
  },
  {
   "cell_type": "code",
   "execution_count": 19,
   "metadata": {},
   "outputs": [
    {
     "data": {
      "text/plain": [
       "[(',', 3),\n",
       " ('.', 3),\n",
       " ('book', 2),\n",
       " ('I', 2),\n",
       " ('new', 2),\n",
       " ('this', 2),\n",
       " ('it', 2),\n",
       " ('diaper', 2),\n",
       " ('for', 2),\n",
       " ('This', 1),\n",
       " ('is', 1),\n",
       " ('perfect', 1),\n",
       " ('!', 1),\n",
       " (\"'m\", 1),\n",
       " ('a', 1)]"
      ]
     },
     "execution_count": 19,
     "metadata": {},
     "output_type": "execute_result"
    }
   ],
   "source": [
    "# check the most common words\n",
    "fdist.most_common(15)"
   ]
  },
  {
   "cell_type": "code",
   "execution_count": 22,
   "metadata": {},
   "outputs": [
    {
     "data": {
      "image/png": "[encoded data removed]",
      "text/plain": [
       "<Figure size 1296x432 with 1 Axes>"
      ]
     },
     "metadata": {},
     "output_type": "display_data"
    }
   ],
   "source": [
    "# frequency distribution visualizer\n",
    "plt.figure(figsize=(18,6))\n",
    "\n",
    "fdist.plot(cumulative=False)\n",
    "\n",
    "plt.show()"
   ]
  },
  {
   "cell_type": "code",
   "execution_count": 23,
   "metadata": {},
   "outputs": [],
   "source": [
    "# normalization operations for preprocesing of text data\n",
    "import re, string, unicodedata\n",
    "import nltk\n",
    "import inflect\n",
    "\n",
    "from nltk.corpus import stopwords\n",
    "from nltk.stem import WordNetLemmatizer"
   ]
  },
  {
   "cell_type": "code",
   "execution_count": 24,
   "metadata": {},
   "outputs": [],
   "source": [
    "def to_lowercase(documents):\n",
    "    \n",
    "    documents_list = []\n",
    "    \n",
    "    for document in documents:\n",
    "        new_word = document.lower()\n",
    "        documents_list.append(new_word)\n",
    "    \n",
    "    return documents_list"
   ]
  },
  {
   "cell_type": "code",
   "execution_count": 26,
   "metadata": {},
   "outputs": [],
   "source": [
    "def remove_punctuation(documents):\n",
    "    \n",
    "    documents_list = []\n",
    "    \n",
    "    for document in documents:\n",
    "        \n",
    "        new_word = re.sub('[^\\w\\s]', '', document)\n",
    "        \n",
    "        if new_word !='':\n",
    "            documents_list.append(new_word)\n",
    "    \n",
    "    return documents_list"
   ]
  },
  {
   "cell_type": "code",
   "execution_count": 27,
   "metadata": {},
   "outputs": [],
   "source": [
    "# replacing numbers or digit with their equivalent words\n",
    "def replace_numbers(documents):\n",
    "    \n",
    "    documents_list = []\n",
    "    inf_engine = inflect.engine()\n",
    "    \n",
    "    for document in documents:\n",
    "        \n",
    "        final_word_list = []\n",
    "        words = document.split()\n",
    "        \n",
    "        for word in words:\n",
    "            \n",
    "            if word.isdigit():\n",
    "                final_word_list.append(inf_engine.number_to_words(word))\n",
    "            else:\n",
    "                final_word_list.append(word)\n",
    "        \n",
    "        documents_list.append(\" \".join(final_word_list))\n",
    "    \n",
    "    return documents_list"
   ]
  },
  {
   "cell_type": "code",
   "execution_count": 45,
   "metadata": {},
   "outputs": [],
   "source": [
    "def lemmatize_verbs(documents):\n",
    "    \n",
    "    lemmatizer = WordNetLemmatizer()\n",
    "    documents_list = []\n",
    "    \n",
    "    for document in documents:\n",
    "        \n",
    "        final_word_list = []\n",
    "        words = document.split()\n",
    "        \n",
    "        for word in words:\n",
    "            final_word_list.append(lemmatizer.lemmatize(word, pos='v'))\n",
    "            \n",
    "        documents_list.append(\" \".join(final_word_list))\n",
    "        \n",
    "    return documents_list"
   ]
  },
  {
   "cell_type": "code",
   "execution_count": 46,
   "metadata": {},
   "outputs": [],
   "source": [
    "def normalization(documents):\n",
    "    documents = to_lowercase(documents)\n",
    "    \n",
    "    documents = remove_punctuation(documents)\n",
    "    \n",
    "    documents = replace_numbers(documents)\n",
    "    \n",
    "    document = lemmatize_verbs(documents)\n",
    "    \n",
    "    return documents"
   ]
  },
  {
   "cell_type": "code",
   "execution_count": 47,
   "metadata": {},
   "outputs": [
    {
     "data": {
      "text/plain": [
       "\"I like this log, but think it would work better with clearer AM & PM sections. Each page is 12 hours so you really need two pages a day if your baby feeds or wets a lot in the early morning hours between midnight and 7am. We're cramming those in to the 2 blank spaces above 7am right now.\""
      ]
     },
     "execution_count": 47,
     "metadata": {},
     "output_type": "execute_result"
    }
   ],
   "source": [
    "documents[2]"
   ]
  },
  {
   "cell_type": "code",
   "execution_count": 48,
   "metadata": {},
   "outputs": [
    {
     "data": {
      "text/plain": [
       "\"i like this log, but think it would work better with clearer am & pm sections. each page is 12 hours so you really need two pages a day if your baby feeds or wets a lot in the early morning hours between midnight and 7am. we're cramming those in to the 2 blank spaces above 7am right now.\""
      ]
     },
     "execution_count": 48,
     "metadata": {},
     "output_type": "execute_result"
    }
   ],
   "source": [
    "lowercase_docs = to_lowercase(documents)\n",
    "\n",
    "lowercase_docs[2]"
   ]
  },
  {
   "cell_type": "code",
   "execution_count": 49,
   "metadata": {},
   "outputs": [
    {
     "data": {
      "text/plain": [
       "'i like this log but think it would work better with clearer am  pm sections each page is 12 hours so you really need two pages a day if your baby feeds or wets a lot in the early morning hours between midnight and 7am were cramming those in to the 2 blank spaces above 7am right now'"
      ]
     },
     "execution_count": 49,
     "metadata": {},
     "output_type": "execute_result"
    }
   ],
   "source": [
    "punc_removed_docs = remove_punctuation(lowercase_docs)\n",
    "\n",
    "punc_removed_docs[2]"
   ]
  },
  {
   "cell_type": "code",
   "execution_count": 50,
   "metadata": {},
   "outputs": [
    {
     "data": {
      "text/plain": [
       "'i like this log but think it would work better with clearer am pm sections each page is twelve hours so you really need two pages a day if your baby feeds or wets a lot in the early morning hours between midnight and 7am were cramming those in to the two blank spaces above 7am right now'"
      ]
     },
     "execution_count": 50,
     "metadata": {},
     "output_type": "execute_result"
    }
   ],
   "source": [
    "num_replaced_docs = replace_numbers(punc_removed_docs)\n",
    "\n",
    "num_replaced_docs[2]"
   ]
  },
  {
   "cell_type": "code",
   "execution_count": 51,
   "metadata": {},
   "outputs": [
    {
     "data": {
      "text/plain": [
       "'i like this log but think it would work better with clearer am pm sections each page is twelve hours so you really need two pages a day if your baby feeds or wets a lot in the early morning hours between midnight and 7am were cramming those in to the two blank spaces above 7am right now'"
      ]
     },
     "execution_count": 51,
     "metadata": {},
     "output_type": "execute_result"
    }
   ],
   "source": [
    "lemmatized_docs = replace_numbers(num_replaced_docs)\n",
    "\n",
    "lemmatized_docs[2]"
   ]
  },
  {
   "cell_type": "code",
   "execution_count": 52,
   "metadata": {},
   "outputs": [
    {
     "data": {
      "text/plain": [
       "'i like this log but think it would work better with clearer am pm sections each page is twelve hours so you really need two pages a day if your baby feeds or wets a lot in the early morning hours between midnight and 7am were cramming those in to the two blank spaces above 7am right now'"
      ]
     },
     "execution_count": 52,
     "metadata": {},
     "output_type": "execute_result"
    }
   ],
   "source": [
    "# apply normalization once\n",
    "documents = normalization(documents)\n",
    "\n",
    "documents[2]"
   ]
  },
  {
   "cell_type": "code",
   "execution_count": 53,
   "metadata": {},
   "outputs": [
    {
     "data": {
      "text/plain": [
       "CountVectorizer(analyzer='word', binary=False, decode_error='strict',\n",
       "                dtype=<class 'numpy.int64'>, encoding='utf-8', input='content',\n",
       "                lowercase=True, max_df=1.0, max_features=None, min_df=1,\n",
       "                ngram_range=(1, 1), preprocessor=None, stop_words=None,\n",
       "                strip_accents=None, token_pattern='(?u)\\\\b\\\\w\\\\w+\\\\b',\n",
       "                tokenizer=None, vocabulary=None)"
      ]
     },
     "execution_count": 53,
     "metadata": {},
     "output_type": "execute_result"
    }
   ],
   "source": [
    "# creating feature vectors from text data\n",
    "from sklearn.feature_extraction.text import CountVectorizer\n",
    "\n",
    "count_vectorizer = CountVectorizer()\n",
    "count_vectorizer.fit(documents)"
   ]
  },
  {
   "cell_type": "code",
   "execution_count": 54,
   "metadata": {},
   "outputs": [
    {
     "data": {
      "text/plain": [
       "{'this': 348,\n",
       " 'book': 44,\n",
       " 'is': 181,\n",
       " 'perfect': 269,\n",
       " 'im': 170,\n",
       " 'first': 122,\n",
       " 'time': 353,\n",
       " 'new': 235,\n",
       " 'mom': 219,\n",
       " 'and': 19,\n",
       " 'made': 207,\n",
       " 'it': 182,\n",
       " 'so': 318,\n",
       " 'easy': 99,\n",
       " 'to': 357,\n",
       " 'keep': 187,\n",
       " 'track': 360,\n",
       " 'of': 243,\n",
       " 'feedings': 116,\n",
       " 'diaper': 85,\n",
       " 'changes': 58,\n",
       " 'sleep': 315,\n",
       " 'definitely': 82,\n",
       " 'would': 399,\n",
       " 'recommend': 290,\n",
       " 'for': 124,\n",
       " 'moms': 221,\n",
       " 'plus': 275,\n",
       " 'its': 183,\n",
       " 'small': 316,\n",
       " 'enough': 105,\n",
       " 'that': 338,\n",
       " 'throw': 351,\n",
       " 'in': 173,\n",
       " 'the': 340,\n",
       " 'back': 31,\n",
       " 'doctor': 90,\n",
       " 'visits': 375,\n",
       " 'use': 369,\n",
       " 'our': 256,\n",
       " 'babysitter': 30,\n",
       " 'grandma': 142,\n",
       " 'can': 53,\n",
       " 'what': 387,\n",
       " 'goes': 139,\n",
       " 'on': 247,\n",
       " 'during': 94,\n",
       " 'day': 80,\n",
       " 'weve': 386,\n",
       " 'recorded': 291,\n",
       " 'many': 211,\n",
       " 'milestones': 218,\n",
       " 'since': 312,\n",
       " 'we': 380,\n",
       " 'received': 289,\n",
       " 'six': 313,\n",
       " 'month': 222,\n",
       " 'diary': 86,\n",
       " 'has': 151,\n",
       " 'room': 296,\n",
       " 'notes': 241,\n",
       " 'wish': 393,\n",
       " 'hours': 161,\n",
       " 'started': 328,\n",
       " 'around': 23,\n",
       " 'am': 17,\n",
       " 'went': 383,\n",
       " 'until': 367,\n",
       " 'eight': 102,\n",
       " 'pm': 276,\n",
       " 'but': 50,\n",
       " 'just': 186,\n",
       " 'write': 400,\n",
       " 'over': 258,\n",
       " 'certain': 56,\n",
       " 'times': 355,\n",
       " 'suit': 333,\n",
       " 'purposes': 283,\n",
       " 'nice': 236,\n",
       " 'thing': 344,\n",
       " 'if': 168,\n",
       " 'had': 145,\n",
       " 'rough': 297,\n",
       " 'night': 237,\n",
       " 'are': 21,\n",
       " 'super': 336,\n",
       " 'tired': 356,\n",
       " 'have': 152,\n",
       " 'something': 320,\n",
       " 'refer': 292,\n",
       " 'forgot': 125,\n",
       " 'when': 388,\n",
       " 'last': 191,\n",
       " 'fed': 115,\n",
       " 'baby': 28,\n",
       " 'or': 253,\n",
       " 'he': 153,\n",
       " 'woke': 395,\n",
       " 'up': 368,\n",
       " 'also': 16,\n",
       " 'like': 200,\n",
       " 'front': 131,\n",
       " 'page': 260,\n",
       " 'place': 272,\n",
       " 'emergency': 103,\n",
       " 'comments': 67,\n",
       " 'consent': 69,\n",
       " 'form': 126,\n",
       " 'case': 55,\n",
       " 'your': 404,\n",
       " 'child': 60,\n",
       " 'needs': 234,\n",
       " 'medical': 215,\n",
       " 'care': 54,\n",
       " 'at': 26,\n",
       " 'immunizations': 171,\n",
       " 'ill': 169,\n",
       " 'get': 136,\n",
       " 'another': 20,\n",
       " 'one': 249,\n",
       " 'months': 223,\n",
       " 'finish': 121,\n",
       " 'log': 204,\n",
       " 'think': 346,\n",
       " 'work': 396,\n",
       " 'better': 40,\n",
       " 'with': 394,\n",
       " 'clearer': 63,\n",
       " 'sections': 302,\n",
       " 'each': 95,\n",
       " 'twelve': 363,\n",
       " 'you': 402,\n",
       " 'really': 288,\n",
       " 'need': 233,\n",
       " 'two': 364,\n",
       " 'pages': 262,\n",
       " 'feeds': 117,\n",
       " 'wets': 385,\n",
       " 'lot': 206,\n",
       " 'early': 97,\n",
       " 'morning': 225,\n",
       " 'between': 41,\n",
       " 'midnight': 217,\n",
       " '7am': 5,\n",
       " 'were': 384,\n",
       " 'cramming': 76,\n",
       " 'those': 349,\n",
       " 'blank': 43,\n",
       " 'spaces': 324,\n",
       " 'above': 8,\n",
       " 'right': 295,\n",
       " 'now': 242,\n",
       " 'my': 229,\n",
       " 'wife': 392,\n",
       " 'old': 246,\n",
       " 'boy': 48,\n",
       " '4month': 2,\n",
       " 'mark': 212,\n",
       " 'decided': 81,\n",
       " 'she': 305,\n",
       " 'return': 294,\n",
       " 'instead': 178,\n",
       " 'being': 38,\n",
       " 'stayathome': 331,\n",
       " 'hired': 158,\n",
       " 'an': 18,\n",
       " 'inhome': 176,\n",
       " 'nanny': 230,\n",
       " 'little': 202,\n",
       " 'arrangement': 24,\n",
       " 'worked': 397,\n",
       " 'quite': 285,\n",
       " 'well': 382,\n",
       " 'ever': 111,\n",
       " 'shortly': 309,\n",
       " 'after': 12,\n",
       " 'starting': 329,\n",
       " 'realized': 287,\n",
       " 'some': 319,\n",
       " 'sort': 322,\n",
       " 'journal': 184,\n",
       " 'boys': 49,\n",
       " 'activities': 10,\n",
       " 'while': 390,\n",
       " 'was': 377,\n",
       " 'working': 398,\n",
       " 'used': 370,\n",
       " 'plain': 273,\n",
       " 'notebook': 240,\n",
       " 'period': 270,\n",
       " 'weeks': 381,\n",
       " 'stumbled': 332,\n",
       " 'tracker': 361,\n",
       " 'daily': 78,\n",
       " 'childcare': 61,\n",
       " 'journallayout': 185,\n",
       " 'usethe': 372,\n",
       " 'excellent': 113,\n",
       " 'idea': 166,\n",
       " 'clearly': 64,\n",
       " 'divided': 89,\n",
       " 'into': 180,\n",
       " 'columns': 66,\n",
       " 'tracking': 362,\n",
       " 'naptime': 232,\n",
       " 'playtime': 274,\n",
       " 'as': 25,\n",
       " 'general': 135,\n",
       " 'areas': 22,\n",
       " 'legibility': 197,\n",
       " 'huge': 164,\n",
       " 'improvement': 172,\n",
       " 'standard': 326,\n",
       " 'entries': 108,\n",
       " 'ended': 104,\n",
       " 'becoming': 36,\n",
       " 'paragraphs': 267,\n",
       " 'few': 118,\n",
       " 'short': 308,\n",
       " 'moments': 220,\n",
       " 'summarize': 334,\n",
       " 'all': 14,\n",
       " 'data': 79,\n",
       " 'totals': 359,\n",
       " 'section': 301,\n",
       " 'determine': 83,\n",
       " 'key': 188,\n",
       " 'information': 175,\n",
       " 'how': 162,\n",
       " 'much': 228,\n",
       " 'did': 87,\n",
       " 'eat': 100,\n",
       " 'bowel': 47,\n",
       " 'movement': 227,\n",
       " 'they': 342,\n",
       " 'etcthere': 110,\n",
       " 'however': 163,\n",
       " 'frustrating': 132,\n",
       " 'limitations': 201,\n",
       " 'entire': 106,\n",
       " 'layout': 192,\n",
       " 'about': 7,\n",
       " 'half': 146,\n",
       " 'sheet': 306,\n",
       " 'down': 93,\n",
       " 'middle': 216,\n",
       " 'portrait': 278,\n",
       " 'constrains': 71,\n",
       " 'very': 374,\n",
       " 'column': 65,\n",
       " 'row': 298,\n",
       " 'okay': 245,\n",
       " 'be': 33,\n",
       " 'summarized': 335,\n",
       " 'ounces': 255,\n",
       " 'by': 52,\n",
       " 'three': 350,\n",
       " 'hundred': 165,\n",
       " 'forty': 128,\n",
       " 'thirty': 347,\n",
       " 'four': 130,\n",
       " 'once': 248,\n",
       " 'becomes': 35,\n",
       " 'more': 224,\n",
       " 'active': 9,\n",
       " 'youd': 403,\n",
       " 'know': 189,\n",
       " 'than': 337,\n",
       " '34tummy': 1,\n",
       " 'time34': 354,\n",
       " 'under': 365,\n",
       " 'things': 345,\n",
       " 'start': 327,\n",
       " 'tight': 352,\n",
       " 'pageanother': 261,\n",
       " 'problem': 280,\n",
       " 'only': 251,\n",
       " 'covers': 75,\n",
       " 'out': 257,\n",
       " 'babys': 29,\n",
       " 'thats': 339,\n",
       " 'fine': 120,\n",
       " 'intention': 179,\n",
       " 'providers': 282,\n",
       " 'wanted': 376,\n",
       " 'which': 389,\n",
       " 'often': 244,\n",
       " 'starts': 330,\n",
       " 'earlier': 96,\n",
       " '6am': 3,\n",
       " 'using': 373,\n",
       " 'require': 293,\n",
       " 'second': 300,\n",
       " 'pagewhat': 264,\n",
       " 'good': 141,\n",
       " 'read': 286,\n",
       " 'instantly': 177,\n",
       " 'gather': 134,\n",
       " 'matter': 213,\n",
       " 'high': 155,\n",
       " 'quality': 284,\n",
       " 'paper': 266,\n",
       " 'consistent': 70,\n",
       " 'pageswhat': 263,\n",
       " 'dont': 92,\n",
       " 'expensive': 114,\n",
       " 'gets': 137,\n",
       " 'most': 226,\n",
       " '6months': 4,\n",
       " 'less': 198,\n",
       " 'babies': 27,\n",
       " 'cover': 74,\n",
       " 'thick': 343,\n",
       " 'not': 239,\n",
       " 'hardback': 150,\n",
       " 'bends': 39,\n",
       " 'easily': 98,\n",
       " 'bag': 32,\n",
       " 'should': 310,\n",
       " 'bigger': 42,\n",
       " 'understand': 366,\n",
       " 'portability': 277,\n",
       " 'concern': 68,\n",
       " 'current': 77,\n",
       " 'size': 314,\n",
       " 'entirely': 107,\n",
       " 'too': 358,\n",
       " 'smallconclusioni': 317,\n",
       " 'making': 210,\n",
       " 'own': 259,\n",
       " 'format': 127,\n",
       " 'spreadsheet': 325,\n",
       " 'includes': 174,\n",
       " '24hour': 0,\n",
       " 'space': 323,\n",
       " 'along': 15,\n",
       " 'other': 254,\n",
       " 'bound': 46,\n",
       " 'cheaply': 59,\n",
       " 'local': 203,\n",
       " 'shop': 307,\n",
       " 'adequate': 11,\n",
       " 'because': 34,\n",
       " 'son': 321,\n",
       " 'born': 45,\n",
       " 'great': 144,\n",
       " 'handy': 148,\n",
       " 'way': 379,\n",
       " 'eats': 101,\n",
       " 'change': 57,\n",
       " 'his': 159,\n",
       " 'makes': 209,\n",
       " 'discuss': 88,\n",
       " 'progress': 281,\n",
       " 'grandparents': 143,\n",
       " 'who': 391,\n",
       " 'watch': 378,\n",
       " 'him': 157,\n",
       " 'gone': 140,\n",
       " 'able': 6,\n",
       " 'maintain': 208,\n",
       " 'schedule': 299,\n",
       " 'me': 214,\n",
       " 'see': 303,\n",
       " 'doing': 91,\n",
       " 'highly': 156,\n",
       " 'parents': 268,\n",
       " 'children': 62,\n",
       " 'especially': 109,\n",
       " 'ones': 250,\n",
       " 'year': 401,\n",
       " 'age': 13,\n",
       " 'continue': 72,\n",
       " 'buy': 51,\n",
       " 'every': 112,\n",
       " 'least': 194,\n",
       " 'been': 37,\n",
       " 'helpful': 154,\n",
       " 'naps': 231,\n",
       " 'developmental': 84,\n",
       " 'laid': 190,\n",
       " 'could': 73,\n",
       " 'leave': 195,\n",
       " 'open': 252,\n",
       " 'left': 196,\n",
       " 'side': 311,\n",
       " 'set': 304,\n",
       " 'flip': 123,\n",
       " 'full': 133,\n",
       " 'nitpick': 238,\n",
       " 'let': 199,\n",
       " 'user': 371,\n",
       " 'fill': 119,\n",
       " 'then': 341,\n",
       " 'identical': 167,\n",
       " 'look': 205,\n",
       " 'glance': 138,\n",
       " 'hands': 147,\n",
       " 'holding': 160,\n",
       " 'pain': 265,\n",
       " 'lean': 193,\n",
       " 'forward': 129,\n",
       " 'pick': 271,\n",
       " 'happend': 149,\n",
       " 'prior': 279}"
      ]
     },
     "execution_count": 54,
     "metadata": {},
     "output_type": "execute_result"
    }
   ],
   "source": [
    "count_vectorizer.vocabulary_"
   ]
  },
  {
   "cell_type": "code",
   "execution_count": 55,
   "metadata": {},
   "outputs": [
    {
     "data": {
      "text/plain": [
       "405"
      ]
     },
     "execution_count": 55,
     "metadata": {},
     "output_type": "execute_result"
    }
   ],
   "source": [
    "len(count_vectorizer.vocabulary_)"
   ]
  },
  {
   "cell_type": "code",
   "execution_count": 56,
   "metadata": {},
   "outputs": [
    {
     "data": {
      "text/plain": [
       "(6, 405)"
      ]
     },
     "execution_count": 56,
     "metadata": {},
     "output_type": "execute_result"
    }
   ],
   "source": [
    "doc_terms = count_vectorizer.fit_transform(documents)\n",
    "\n",
    "doc_terms.shape"
   ]
  },
  {
   "cell_type": "code",
   "execution_count": 57,
   "metadata": {},
   "outputs": [
    {
     "name": "stdout",
     "output_type": "stream",
     "text": [
      "(Doc, WordIndex.): NumOccurences\n",
      "  (0, 375)\t1\n",
      "  (0, 90)\t1\n",
      "  (0, 31)\t1\n",
      "  (0, 340)\t1\n",
      "  (0, 173)\t1\n",
      "  (0, 351)\t1\n",
      "  (0, 338)\t1\n",
      "  (0, 105)\t1\n",
      "  (0, 316)\t1\n",
      "  (0, 183)\t1\n",
      "  (0, 275)\t1\n",
      "  (0, 221)\t1\n",
      "  (0, 124)\t2\n",
      "  (0, 290)\t1\n",
      "  (0, 399)\t1\n",
      "  (0, 82)\t1\n",
      "  (0, 315)\t1\n",
      "  (0, 58)\t1\n",
      "  (0, 85)\t2\n",
      "  (0, 116)\t1\n",
      "  (0, 243)\t1\n",
      "  (0, 360)\t1\n",
      "  (0, 187)\t1\n",
      "  (0, 357)\t1\n",
      "  (0, 99)\t1\n",
      "  :\t:\n",
      "  (5, 186)\t2\n",
      "  (5, 50)\t2\n",
      "  (5, 276)\t3\n",
      "  (5, 17)\t3\n",
      "  (5, 393)\t1\n",
      "  (5, 151)\t1\n",
      "  (5, 80)\t2\n",
      "  (5, 247)\t2\n",
      "  (5, 387)\t1\n",
      "  (5, 256)\t1\n",
      "  (5, 340)\t9\n",
      "  (5, 173)\t2\n",
      "  (5, 338)\t1\n",
      "  (5, 183)\t1\n",
      "  (5, 124)\t1\n",
      "  (5, 399)\t1\n",
      "  (5, 58)\t1\n",
      "  (5, 85)\t1\n",
      "  (5, 116)\t1\n",
      "  (5, 243)\t1\n",
      "  (5, 357)\t6\n",
      "  (5, 318)\t1\n",
      "  (5, 182)\t3\n",
      "  (5, 19)\t6\n",
      "  (5, 348)\t1\n"
     ]
    }
   ],
   "source": [
    "print('(Doc, WordIndex.): NumOccurences')\n",
    "\n",
    "print(doc_terms)"
   ]
  },
  {
   "cell_type": "code",
   "execution_count": 59,
   "metadata": {},
   "outputs": [
    {
     "data": {
      "text/plain": [
       "array([[0, 0, 0, 0, 0, 0, 0, 0, 0, 0, 0, 0, 0, 0, 0, 0, 0, 0, 0, 1, 0, 0,\n",
       "        0, 0, 0, 0, 0, 0, 0, 0, 0, 1, 0, 0, 0, 0, 0, 0, 0, 0, 0, 0, 0, 0,\n",
       "        2, 0, 0, 0, 0, 0, 0, 0, 0, 0, 0, 0, 0, 0, 1, 0, 0, 0, 0, 0, 0, 0,\n",
       "        0, 0, 0, 0, 0, 0, 0, 0, 0, 0, 0, 0, 0, 0, 0, 0, 1, 0, 0, 2, 0, 0,\n",
       "        0, 0, 1, 0, 0, 0, 0, 0, 0, 0, 0, 1, 0, 0, 0, 0, 0, 1, 0, 0, 0, 0,\n",
       "        0, 0, 0, 0, 0, 0, 1, 0, 0, 0, 0, 0, 1, 0, 2, 0, 0, 0, 0, 0, 0, 0,\n",
       "        0, 0, 0, 0, 0, 0, 0, 0, 0, 0, 0, 0, 0, 0, 0, 0, 0, 0, 0, 0, 0, 0,\n",
       "        0, 0, 0, 0, 0, 0, 0, 0, 0, 0, 0, 0, 0, 0, 0, 0, 1, 0, 0, 1, 0, 0,\n",
       "        0, 0, 0, 0, 0, 1, 1, 1, 0, 0, 0, 1, 0, 0, 0, 0, 0, 0, 0, 0, 0, 0,\n",
       "        0, 0, 0, 0, 0, 0, 0, 0, 0, 1, 0, 0, 0, 0, 0, 0, 0, 0, 0, 0, 0, 1,\n",
       "        0, 1, 0, 0, 0, 0, 0, 0, 0, 0, 0, 0, 0, 0, 0, 2, 0, 0, 0, 0, 0, 0,\n",
       "        0, 1, 0, 0, 0, 0, 0, 0, 0, 0, 0, 0, 0, 0, 0, 0, 0, 0, 0, 0, 0, 0,\n",
       "        0, 0, 0, 0, 0, 1, 0, 0, 0, 0, 0, 1, 0, 0, 0, 0, 0, 0, 0, 0, 0, 0,\n",
       "        0, 0, 0, 0, 1, 0, 0, 0, 0, 0, 0, 0, 0, 0, 0, 0, 0, 0, 0, 0, 0, 0,\n",
       "        0, 0, 0, 0, 0, 0, 0, 1, 1, 0, 1, 0, 0, 0, 0, 0, 0, 0, 0, 0, 0, 0,\n",
       "        0, 0, 0, 0, 0, 0, 0, 0, 1, 0, 1, 0, 0, 0, 0, 0, 0, 0, 3, 0, 0, 1,\n",
       "        0, 1, 0, 0, 0, 1, 0, 0, 1, 0, 0, 0, 0, 0, 0, 0, 0, 0, 0, 0, 0, 0,\n",
       "        0, 1, 0, 0, 0, 0, 0, 0, 0, 0, 0, 0, 0, 0, 0, 0, 0, 0, 0, 0, 0, 0,\n",
       "        0, 0, 0, 1, 0, 0, 0, 0, 0]], dtype=int64)"
      ]
     },
     "execution_count": 59,
     "metadata": {},
     "output_type": "execute_result"
    }
   ],
   "source": [
    "doc_terms[0].toarray()"
   ]
  },
  {
   "cell_type": "code",
   "execution_count": 61,
   "metadata": {},
   "outputs": [
    {
     "data": {
      "text/plain": [
       "'super'"
      ]
     },
     "execution_count": 61,
     "metadata": {},
     "output_type": "execute_result"
    }
   ],
   "source": [
    "count_vectorizer.get_feature_names()[336]"
   ]
  },
  {
   "cell_type": "code",
   "execution_count": null,
   "metadata": {},
   "outputs": [],
   "source": []
  }
 ],
 "metadata": {
  "kernelspec": {
   "display_name": "Python 3",
   "language": "python",
   "name": "python3"
  },
  "language_info": {
   "codemirror_mode": {
    "name": "ipython",
    "version": 3
   },
   "file_extension": ".py",
   "mimetype": "text/x-python",
   "name": "python",
   "nbconvert_exporter": "python",
   "pygments_lexer": "ipython3",
   "version": "3.6.5"
  }
 },
 "nbformat": 4,
 "nbformat_minor": 2
}
