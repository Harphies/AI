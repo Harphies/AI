{
 "cells": [
  {
   "cell_type": "markdown",
   "metadata": {},
   "source": [
    "## Linear Regression\n",
    "Linear Regression predictions are continous (numbers in a range)"
   ]
  },
  {
   "cell_type": "markdown",
   "metadata": {},
   "source": [
    "#### Import all the packages"
   ]
  },
  {
   "cell_type": "code",
   "execution_count": null,
   "metadata": {},
   "outputs": [],
   "source": [
    "%matplotlib inline\n",
    "\n",
    "import torch\n",
    "from torch.autograd import Variable\n",
    "\n",
    "import pandas as pd\n",
    "import matplotlib.pyplot as plt\n",
    "\n",
    "# datatype for tensors\n",
    "dtype = torch.FloatTensor\n",
    "\n",
    "# Get the data\n",
    "data = pd.read_csv('data.csv', delimiter=',')\n",
    "x_data = data['x']\n",
    "y_data = data['y']\n",
    "\n",
    "# The equation of regression line : y = wX + b\n",
    "y = Variable(torch.Tensor(y_data.type(dtype), requires_grad=False))\n",
    "X = Variable(torch.Tensor(x_data).type(dtype), requires_grad=False)\n",
    "\n",
    "# plot our data\n",
    "plt.scatter(X.data.numpy(), y.data.numpy())"
   ]
  }
 ],
 "metadata": {
  "kernelspec": {
   "display_name": "Python 3",
   "language": "python",
   "name": "python3"
  },
  "language_info": {
   "codemirror_mode": {
    "name": "ipython",
    "version": 3
   },
   "file_extension": ".py",
   "mimetype": "text/x-python",
   "name": "python",
   "nbconvert_exporter": "python",
   "pygments_lexer": "ipython3",
   "version": "3.6.7"
  }
 },
 "nbformat": 4,
 "nbformat_minor": 2
}
