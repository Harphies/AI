{
 "cells": [
  {
   "cell_type": "markdown",
   "metadata": {},
   "source": [
    "#### Project: AlexNet architecture"
   ]
  },
  {
   "cell_type": "markdown",
   "metadata": {},
   "source": [
    "#### Packages selection\n",
    "- The first things is to import all the neccesary packages needed for this project"
   ]
  },
  {
   "cell_type": "code",
   "execution_count": 9,
   "metadata": {},
   "outputs": [],
   "source": [
    "import time\n",
    "import torch\n",
    "import numpy as np\n",
    "import torch.nn as nn\n",
    "import torch.nn.functional as F\n",
    "from torchvision import transforms\n",
    "from torchvision import datasets\n",
    "from torch.utils.data import DataLoader\n",
    "from torch.utils.data.dataset import Subset\n",
    "import matplotlib.pyplot as plt\n",
    "%matplotlib inline\n",
    "\n",
    "# selct GPU if cuda is available\n",
    "if torch.cuda.is_available():\n",
    "    torch.backends.cudnn.deterministic = True"
   ]
  },
  {
   "cell_type": "markdown",
   "metadata": {},
   "source": [
    "#### Settings\n",
    "- Configure the device\n",
    "- define all the hyperparameters to be used and needed to be tuned to achive a better accuracy\n",
    "- Load and explore the data"
   ]
  },
  {
   "cell_type": "code",
   "execution_count": 2,
   "metadata": {},
   "outputs": [
    {
     "name": "stdout",
     "output_type": "stream",
     "text": [
      "Files already downloaded and verified\n"
     ]
    }
   ],
   "source": [
    "# device\n",
    "device = torch.device(\"cuda:3\" if torch.cuda.is_available() else \"cpu\")\n",
    "\n",
    "# hyperparameters\n",
    "RANDOM_SEED =1 \n",
    "LEARNING_RATE = 0.001\n",
    "BATCH_SIZE = 256\n",
    "NUM_EPOCHS = 10\n",
    "\n",
    "# model architecture parameters\n",
    "NUM_CLASSES = 10\n",
    "\n",
    "# datset -> CIFAR10\n",
    "# Note: transform.ToTensor() scale image from 0-1 range\n",
    "train_indices = torch.arange(0, 48000)\n",
    "valid_indices = torch.arange(48000, 50000)\n",
    "\n",
    "train_transform = transforms.Compose([transforms.Resize((70, 70)),\n",
    "                                     transforms.RandomCrop((64, 64)),\n",
    "                                     transforms.ToTensor()])\n",
    "\n",
    "test_transform = transforms.Compose([transforms.Resize((70, 70)),\n",
    "                                    transforms.CenterCrop((64, 64)),\n",
    "                                    transforms.ToTensor()])\n",
    "\n",
    "train_and_valid = datasets.CIFAR10(root='data',\n",
    "                                  train=True,\n",
    "                                  transform=train_transform,\n",
    "                                  download=True)\n",
    "\n",
    "train_dataset = Subset(train_and_valid, train_indices)\n",
    "valid_dataset = Subset(train_and_valid, valid_indices)\n",
    "\n",
    "test_dataset = datasets.CIFAR10(root='data',\n",
    "                                train=False,\n",
    "                                transform=test_transform,\n",
    "                                download=False)\n",
    "\n",
    "\n",
    "\n",
    "\n",
    "\n",
    "train_loader = DataLoader(dataset=train_dataset,\n",
    "                          batch_size=BATCH_SIZE,\n",
    "                          num_workers=4,\n",
    "                          shuffle=True)\n",
    "\n",
    "valid_loader = DataLoader(dataset=valid_dataset,\n",
    "                          batch_size=BATCH_SIZE,\n",
    "                          num_workers=4,\n",
    "                          shuffle=False)\n",
    "\n",
    "test_loader = DataLoader(dataset=test_dataset,\n",
    "                         batch_size=BATCH_SIZE,\n",
    "                         num_workers=4,\n",
    "                         shuffle=False)"
   ]
  },
  {
   "cell_type": "code",
   "execution_count": 3,
   "metadata": {},
   "outputs": [
    {
     "name": "stdout",
     "output_type": "stream",
     "text": [
      "Training Set:\n",
      "\n",
      "Image Batch dimensions: torch.Size([256, 3, 64, 64])\n",
      "Image Labels dimensions: torch.Size([256])\n",
      "\n",
      "Validation Set:\n",
      "Image Batch dimensions torch.Size([256, 3, 64, 64])\n",
      "Image Labels dimension torch.Size([256])\n",
      "\n",
      "Testing Set:\n",
      "Image Batch dimension torch.Size([256, 3, 64, 64])\n",
      "Image Labels dimension torch.Size([256])\n"
     ]
    }
   ],
   "source": [
    "# check the train datasets\n",
    "print(\"Training Set:\\n\")\n",
    "for images, labels in train_loader:\n",
    "    print(\"Image Batch dimensions:\", images.size())\n",
    "    print(\"Image Labels dimensions:\", labels.size())\n",
    "    break\n",
    "    \n",
    "# check valid Set\n",
    "print(\"\\nValidation Set:\")\n",
    "for images, labels in valid_loader:\n",
    "    print(\"Image Batch dimensions\", images.size())\n",
    "    print(\"Image Labels dimension\", labels.size())\n",
    "    break\n",
    "    \n",
    "# check test Set\n",
    "print(\"\\nTesting Set:\")\n",
    "for images, labels in test_loader:\n",
    "    print(\"Image Batch dimension\", images.size())\n",
    "    print(\"Image Labels dimension\", labels.size())\n",
    "    break"
   ]
  },
  {
   "cell_type": "markdown",
   "metadata": {},
   "source": [
    "#### Define the architecture of the model such as\n",
    "- The number of input layers; which is determined by the features of the data\n",
    "- Number of total hidden layers in the model consist of Convolution layers, Pooling layers and fully connected layers\n",
    "- The output layer node units is determined by the intended outcome to achieve"
   ]
  },
  {
   "cell_type": "code",
   "execution_count": 4,
   "metadata": {},
   "outputs": [],
   "source": [
    "\"\"\"\n",
    "Architecture:\n",
    "\"\"\"\n",
    "\n",
    "class AlexNet(nn.Module):\n",
    "    \n",
    "    def __init__(self, NUM_CLASSES):\n",
    "        super(AlexNet, self).__init__()\n",
    "        \n",
    "        self.features = nn.Sequential(\n",
    "            nn.Conv2d(3, 64, kernel_size=11, stride=4, padding=2),\n",
    "            nn.ReLU(inplace=True),\n",
    "            nn.MaxPool2d(kernel_size=3, stride=2),\n",
    "            nn.Conv2d(64, 192, kernel_size=5, padding=2),\n",
    "            nn.ReLU(inplace=True),\n",
    "            nn.MaxPool2d(kernel_size=3, stride=2),\n",
    "            nn.Conv2d(192, 384, kernel_size=3, padding=1),\n",
    "            nn.ReLU(inplace=True),\n",
    "            nn.Conv2d(384, 256, kernel_size=3, padding=1),\n",
    "            nn.ReLU(inplace=True),\n",
    "            nn.Conv2d(256, 256, kernel_size=3, padding=1),\n",
    "            nn.ReLU(inplace=True),\n",
    "            nn.MaxPool2d(kernel_size=3, stride=2)\n",
    "        )\n",
    "        self.avgpool = nn.AdaptiveAvgPool2d((6, 6))\n",
    "        self.classifier = nn.Sequential(\n",
    "            nn.Dropout(0.5),\n",
    "            nn.Linear(256 * 6 * 6, 4096),\n",
    "            nn.ReLU(inplace=True),\n",
    "            nn.Dropout(0.5),\n",
    "            nn.Linear(4096, 4096),\n",
    "            nn.ReLU(inplace=True),\n",
    "            nn.Linear(4096, NUM_CLASSES)\n",
    "        )\n",
    "        \n",
    "        \n",
    "    def forward(self, x):\n",
    "        x = self.features(x)\n",
    "        x = self.avgpool(x)\n",
    "        x = x.view(x.size(0), 256 * 6 * 6)\n",
    "        outputs = self.classifier(x)\n",
    "        probas = F.softmax(outputs, dim=1)\n",
    "        return outputs, probas "
   ]
  },
  {
   "cell_type": "markdown",
   "metadata": {},
   "source": [
    "#### Loss function and optimizer\n",
    "- Instantiate the model\n",
    "- define the specific Loss function to be used either cross entropy, MSELoss, etc\n",
    "- define the optimization algorithm to be used either SGD, Adam, RMSprop, Momentum etc."
   ]
  },
  {
   "cell_type": "code",
   "execution_count": 5,
   "metadata": {},
   "outputs": [],
   "source": [
    "torch.manual_seed(RANDOM_SEED)\n",
    "model = AlexNet(NUM_CLASSES).to(device)\n",
    "optimizer = torch.optim.Adam(model.parameters(), lr=LEARNING_RATE)"
   ]
  },
  {
   "cell_type": "markdown",
   "metadata": {},
   "source": [
    "#### compute accuracy\n",
    "- A function to compute train and test accuracy"
   ]
  },
  {
   "cell_type": "code",
   "execution_count": 6,
   "metadata": {},
   "outputs": [],
   "source": [
    "def compute_accuracy(model, data_loader):\n",
    "    correct_predictions, num_examples = 0, 0\n",
    "    for features, labels in data_loader:\n",
    "        features = features.to(device)\n",
    "        labels = labels.to(device)\n",
    "        output, probas = model(features)\n",
    "        _, predicted_labels = torch.max(probas, 1)\n",
    "        num_examples += labels.size(0)\n",
    "        correct_predictions += (predicted_labels == labels).sum()\n",
    "    return correct_predictions.float() / num_examples * 100"
   ]
  },
  {
   "cell_type": "markdown",
   "metadata": {},
   "source": [
    "#### Training a model requires the following steps\n",
    "- Reset all the gradients to zero (0)\n",
    "- Make a forward pass (make a prediction)\n",
    "- Calculate the loss\n",
    "- Perform back propagation\n",
    "- Update all the parameters (weight and biases)"
   ]
  },
  {
   "cell_type": "code",
   "execution_count": 7,
   "metadata": {},
   "outputs": [
    {
     "name": "stdout",
     "output_type": "stream",
     "text": [
      "Epoch: 001 / 010 | Batch: 000 / 188 | Cost: 2.3030\n",
      "Epoch: 001 / 010 | Batch: 150 / 188 | Cost: 2.3033\n",
      "Epoch: 001/010\n",
      "Train Acc: 10.03 | Validation Acc: 9.35\n",
      "Time elapsed: 10.29 min\n",
      "Epoch: 002 / 010 | Batch: 000 / 188 | Cost: 2.3030\n",
      "Epoch: 002 / 010 | Batch: 150 / 188 | Cost: 2.3025\n",
      "Epoch: 002/010\n",
      "Train Acc: 9.97 | Validation Acc: 10.75\n",
      "Time elapsed: 20.18 min\n",
      "Epoch: 003 / 010 | Batch: 000 / 188 | Cost: 2.3030\n",
      "Epoch: 003 / 010 | Batch: 150 / 188 | Cost: 2.3026\n",
      "Epoch: 003/010\n",
      "Train Acc: 10.06 | Validation Acc: 8.60\n",
      "Time elapsed: 28.85 min\n",
      "Epoch: 004 / 010 | Batch: 000 / 188 | Cost: 2.3025\n",
      "Epoch: 004 / 010 | Batch: 150 / 188 | Cost: 2.3026\n",
      "Epoch: 004/010\n",
      "Train Acc: 10.00 | Validation Acc: 10.10\n",
      "Time elapsed: 37.98 min\n",
      "Epoch: 005 / 010 | Batch: 000 / 188 | Cost: 2.3023\n",
      "Epoch: 005 / 010 | Batch: 150 / 188 | Cost: 2.3027\n",
      "Epoch: 005/010\n",
      "Train Acc: 10.06 | Validation Acc: 8.60\n",
      "Time elapsed: 47.19 min\n",
      "Epoch: 006 / 010 | Batch: 000 / 188 | Cost: 2.3032\n",
      "Epoch: 006 / 010 | Batch: 150 / 188 | Cost: 2.3023\n",
      "Epoch: 006/010\n",
      "Train Acc: 10.03 | Validation Acc: 9.35\n",
      "Time elapsed: 57.04 min\n",
      "Epoch: 007 / 010 | Batch: 000 / 188 | Cost: 2.3024\n",
      "Epoch: 007 / 010 | Batch: 150 / 188 | Cost: 2.3025\n",
      "Epoch: 007/010\n",
      "Train Acc: 10.06 | Validation Acc: 8.60\n",
      "Time elapsed: 67.71 min\n",
      "Epoch: 008 / 010 | Batch: 000 / 188 | Cost: 2.3022\n",
      "Epoch: 008 / 010 | Batch: 150 / 188 | Cost: 2.3027\n",
      "Epoch: 008/010\n",
      "Train Acc: 10.01 | Validation Acc: 9.85\n",
      "Time elapsed: 78.43 min\n",
      "Epoch: 009 / 010 | Batch: 000 / 188 | Cost: 2.3025\n",
      "Epoch: 009 / 010 | Batch: 150 / 188 | Cost: 2.3028\n",
      "Epoch: 009/010\n",
      "Train Acc: 9.99 | Validation Acc: 10.20\n",
      "Time elapsed: 87.96 min\n",
      "Epoch: 010 / 010 | Batch: 000 / 188 | Cost: 2.3018\n",
      "Epoch: 010 / 010 | Batch: 150 / 188 | Cost: 2.3035\n",
      "Epoch: 010/010\n",
      "Train Acc: 10.03 | Validation Acc: 9.35\n",
      "Time elapsed: 97.73 min\n",
      "Total Training Time: 97.73 min\n"
     ]
    }
   ],
   "source": [
    "start_time = time.time()\n",
    "total_step = len(train_loader)\n",
    "\n",
    "cost_list = []\n",
    "\n",
    "train_acc_list, valid_acc_list = [], []\n",
    "\n",
    "for epoch in range(NUM_EPOCHS):\n",
    "    model.train()\n",
    "    for i, (features, labels) in enumerate(train_loader):\n",
    "        \n",
    "        features = features.to(device)\n",
    "        labels = labels.to(device)\n",
    "        \n",
    "        # Forward and back prop\n",
    "        output, probas = model(features)\n",
    "        loss = F.cross_entropy(output, labels)\n",
    "        optimizer.zero_grad()\n",
    "        loss.backward()\n",
    "        optimizer.step()\n",
    "        \n",
    "        # Logging\n",
    "        cost_list.append(loss.item())\n",
    "        if not i % 150:\n",
    "            print(f'Epoch: {epoch+1:03d} / {NUM_EPOCHS:03d} | '\n",
    "                 f'Batch: {i:03d} / {total_step:03d} | '\n",
    "                 f'Cost: {loss:.4f}')\n",
    "    model.eval()\n",
    "    with torch.set_grad_enabled(False): # save the memory inference\n",
    "        \n",
    "        train_acc = compute_accuracy(model, train_loader)\n",
    "        valid_acc = compute_accuracy(model, valid_loader)\n",
    "        \n",
    "        print(f'Epoch: {epoch+1:03d}/{NUM_EPOCHS:03d}\\n'\n",
    "             f'Train Acc: {train_acc:.2f} | Validation Acc: {valid_acc:.2f}')\n",
    "        \n",
    "        train_acc_list.append(train_acc)\n",
    "        valid_acc_list.append(valid_acc)\n",
    "        \n",
    "    elapsed = (time.time() - start_time)/60\n",
    "    print(f'Time elapsed: {elapsed:.2f} min')\n",
    "\n",
    "elapsed = (time.time() - start_time)/60\n",
    "print(f'Total Training Time: {elapsed:.2f} min')\n",
    "            "
   ]
  },
  {
   "cell_type": "markdown",
   "metadata": {},
   "source": [
    "#### Evaluation"
   ]
  },
  {
   "cell_type": "code",
   "execution_count": 11,
   "metadata": {},
   "outputs": [
    {
     "data": {
      "image/png": "[encoded data removed]",
      "text/plain": [
       "<Figure size 432x288 with 1 Axes>"
      ]
     },
     "metadata": {
      "needs_background": "light"
     },
     "output_type": "display_data"
    }
   ],
   "source": [
    "plt.plot(cost_list, label='Minibatch cost')\n",
    "plt.plot(np.convolve(cost_list, \n",
    "                     np.ones(200, )/200, mode='valid'),\n",
    "                    label='Running average')\n",
    "\n",
    "plt.ylabel('Cross Entropy')\n",
    "plt.xlabel('Iteration')\n",
    "plt.legend()\n",
    "plt.show()"
   ]
  },
  {
   "cell_type": "code",
   "execution_count": 13,
   "metadata": {},
   "outputs": [
    {
     "data": {
      "image/png": "[encoded data removed]",
      "text/plain": [
       "<Figure size 432x288 with 1 Axes>"
      ]
     },
     "metadata": {
      "needs_background": "light"
     },
     "output_type": "display_data"
    }
   ],
   "source": [
    "plt.plot(np.arange(1, NUM_EPOCHS+1), train_acc_list, label='Training')\n",
    "plt.plot(np.arange(1, NUM_EPOCHS+1), valid_acc_list, label='Validation')\n",
    "\n",
    "plt.xlabel('Epoch')\n",
    "plt.ylabel('Accuracy')\n",
    "plt.legend()\n",
    "plt.show()"
   ]
  },
  {
   "cell_type": "code",
   "execution_count": null,
   "metadata": {},
   "outputs": [],
   "source": [
    "with torch.set_grad_enabled(False):\n",
    "    test_acc = compute_accuracy(model=model,\n",
    "                          data_loader=test_loader)\n",
    "    \n",
    "    valid_acc = compute_accuracy(model=model,\n",
    "                           data_loade=valid_loader)\n",
    "    \n",
    "print(f'Validation Acc: {valid_acc:.2f}%')\n",
    "print(f'Test Acc: (test_acc:.2f)%')"
   ]
  },
  {
   "cell_type": "code",
   "execution_count": null,
   "metadata": {},
   "outputs": [],
   "source": []
  }
 ],
 "metadata": {
  "kernelspec": {
   "display_name": "Python 3",
   "language": "python",
   "name": "python3"
  },
  "language_info": {
   "codemirror_mode": {
    "name": "ipython",
    "version": 3
   },
   "file_extension": ".py",
   "mimetype": "text/x-python",
   "name": "python",
   "nbconvert_exporter": "python",
   "pygments_lexer": "ipython3",
   "version": "3.6.7"
  }
 },
 "nbformat": 4,
 "nbformat_minor": 2
}
