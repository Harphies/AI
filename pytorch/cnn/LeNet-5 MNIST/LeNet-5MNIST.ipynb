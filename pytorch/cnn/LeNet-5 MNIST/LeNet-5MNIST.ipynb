{
 "cells": [
  {
   "cell_type": "markdown",
   "metadata": {},
   "source": [
    "#### Project: LeNet-5 classic network digit classifiers with MNIST datasets\n",
    "Here I redesign the LeNet-5 architecture by replacing the pooling layers wiht Maxpooling and the hidden layers with relu instead of tanh and the output layers with softmax layers instead."
   ]
  },
  {
   "cell_type": "markdown",
   "metadata": {},
   "source": [
    "#### Packages selection\n",
    "- The first things is to import all the neccesary packages needed for this project"
   ]
  },
  {
   "cell_type": "code",
   "execution_count": 3,
   "metadata": {},
   "outputs": [],
   "source": [
    "import os\n",
    "import time\n",
    "import pandas as pd\n",
    "import numpy as np\n",
    "import torch\n",
    "import torch.nn as nn\n",
    "import torch.nn.functional as F\n",
    "from torchvision import datasets\n",
    "from torchvision import transforms\n",
    "from torch.utils.data import DataLoader\n",
    "import matplotlib.pyplot as plt\n",
    "from PIL import Image\n",
    "\n",
    "# select GPU if cuda is available\n",
    "if torch.cuda.is_available():\n",
    "    torch.backends.cudnn.deterministic = True"
   ]
  },
  {
   "cell_type": "markdown",
   "metadata": {},
   "source": [
    "#### Settings\n",
    "- Configure the device\n",
    "- define all the hyperparameters to be used and needed to be tuned to achive a better accuracy\n",
    "- Load and explore the data"
   ]
  },
  {
   "cell_type": "code",
   "execution_count": 4,
   "metadata": {},
   "outputs": [
    {
     "name": "stdout",
     "output_type": "stream",
     "text": [
      "Image batch dimension torch.Size([128, 1, 32, 32])\n",
      "Image Labels dimension torch.Size([128])\n"
     ]
    }
   ],
   "source": [
    "# device\n",
    "device = torch.device(\"cuda:3\" if torch.cuda.is_available() else \"cpu\")\n",
    "\n",
    "# hyperparameters\n",
    "RANDOM_SEED = 1\n",
    "LEARNING_RATE = 0.001\n",
    "BATCH_SIZE = 128\n",
    "NUM_EPOCHS = 10\n",
    "\n",
    "# model architecture parameters\n",
    "NUM_FEATURES = 32*32\n",
    "NUM_CLASSES = 10\n",
    "\n",
    "\n",
    "# others\n",
    "GRAYSCALE = True\n",
    "\n",
    "# rescale the data from 28*28 to 32*32\n",
    "resize_transform = transforms.Compose([transforms.Resize((32, 32)),\n",
    "                                      transforms.ToTensor()])\n",
    "\n",
    "\n",
    "# dataset -> MNIST\n",
    "# Note: transforms.ToTesnsor() scale the image from range 0-1\n",
    "\n",
    "train_dataset = datasets.MNIST(root='data',\n",
    "                              train=True,\n",
    "                              transform=resize_transform,\n",
    "                              download=True)\n",
    "\n",
    "test_dataset = datasets.MNIST(root='data',\n",
    "                             train=False,\n",
    "                             transform=resize_transform)\n",
    "\n",
    "train_loader = DataLoader(dataset=train_dataset,\n",
    "                         batch_size=BATCH_SIZE,\n",
    "                         shuffle=True)\n",
    "\n",
    "test_loader = DataLoader(dataset=test_dataset,\n",
    "                        batch_size=BATCH_SIZE,\n",
    "                        shuffle=False)\n",
    "\n",
    "# check the dataset\n",
    "for images,labels in train_loader:\n",
    "    print(\"Image batch dimension\", images.shape)\n",
    "    print(\"Image Labels dimension\", labels.shape)\n",
    "    break"
   ]
  },
  {
   "cell_type": "markdown",
   "metadata": {},
   "source": [
    "#### Define the architecture of the model such as\n",
    "- The number of input layers; which is determined by the features of the data\n",
    "- Number of total hidden layers in the model consist of only Convolution layers\n",
    "- The output layer node units is determined by the intended outcome to achieve\n",
    "- Here we have two layers convolutional neural networks"
   ]
  },
  {
   "cell_type": "code",
   "execution_count": 5,
   "metadata": {},
   "outputs": [],
   "source": [
    "\"\"\"\n",
    "Architecture: LeNet-5 == 5 Layers architecture and Conv layer + MaxPooling == 1 layer\n",
    "X -> Conv2d -> ReLU -> MaxPool -> Conv2d -> ReLU -> MaxPool -> Linear -> ReLU -> Linear -> ReLu -> Linear -> Softmax -> y\n",
    "\"\"\"\n",
    "\n",
    "class LeNet5(nn.Module):\n",
    "    def __init__(self, NUM_CLASSES, grayscale=False):\n",
    "        super(LeNet5, self).__init__()\n",
    "        \n",
    "        self.grayscale = grayscale\n",
    "        \n",
    "        if self.grayscale:\n",
    "            in_channels = 1\n",
    "        else:\n",
    "            in_channels = 3\n",
    "            \n",
    "        self.features = nn.Sequential(\n",
    "            \n",
    "            nn.Conv2d(in_channels, 6, kernel_size=5),\n",
    "            nn.ReLU(),\n",
    "            nn.MaxPool2d(kernel_size=2),\n",
    "            nn.Conv2d(6, 16, kernel_size=5),\n",
    "            nn.ReLU(),\n",
    "            nn.MaxPool2d(kernel_size=2)\n",
    "        )\n",
    "        \n",
    "        self.classifier = nn.Sequential(\n",
    "            \n",
    "            nn.Linear(16*5*5, 120),\n",
    "            nn.ReLU(),\n",
    "            nn.Linear(120, 84),\n",
    "            nn.ReLU(),\n",
    "            nn.Linear(84, NUM_CLASSES),\n",
    "        )\n",
    "        \n",
    "    def forward(self, x):\n",
    "        x = self.features(x)\n",
    "        x = torch.flatten(x, 1)\n",
    "        outputs = self.classifier(x)\n",
    "        probas = F.softmax(outputs, dim=1)\n",
    "        return outputs, probas"
   ]
  },
  {
   "cell_type": "markdown",
   "metadata": {},
   "source": [
    "#### Loss function and optimizer\n",
    "- Instantiate the model\n",
    "- define the specific Loss function to be used either cross entropy, MSELoss, etc\n",
    "- define the optimization algorithm to be used either SGD, Adam, RMSprop, Momentum etc."
   ]
  },
  {
   "cell_type": "code",
   "execution_count": 6,
   "metadata": {},
   "outputs": [],
   "source": [
    "torch.manual_seed(RANDOM_SEED)\n",
    "model = LeNet5(NUM_CLASSES, GRAYSCALE).to(device)\n",
    "optimizer = torch.optim.Adam(model.parameters(), lr=LEARNING_RATE)"
   ]
  },
  {
   "cell_type": "markdown",
   "metadata": {},
   "source": [
    "#### compute accuracy\n",
    "- A function to compute train and test accuracy"
   ]
  },
  {
   "cell_type": "code",
   "execution_count": 7,
   "metadata": {},
   "outputs": [],
   "source": [
    "def compute_accuracy(model, data_loader):\n",
    "    correct_predictions, num_examples = 0, 0\n",
    "    for features, labels in data_loader:\n",
    "        features = features.to(device)\n",
    "        labels = labels.to(device)\n",
    "        outputs, probas = model(features)\n",
    "        _, predicted_labels = torch.max(probas, 1)\n",
    "        num_examples += labels.size(0)\n",
    "        correct_predictions += (predicted_labels == labels).sum()\n",
    "    return correct_predictions.float() / num_examples * 100"
   ]
  },
  {
   "cell_type": "markdown",
   "metadata": {},
   "source": [
    "#### Training a model requires the following steps\n",
    "- Reset all the gradients to zero (0)\n",
    "- Make a forward pass (make a prediction)\n",
    "- Calculate the loss\n",
    "- Perform back propagation\n",
    "- Update all the parameters (weight and biases)"
   ]
  },
  {
   "cell_type": "code",
   "execution_count": 8,
   "metadata": {},
   "outputs": [
    {
     "name": "stdout",
     "output_type": "stream",
     "text": [
      "Epoch: 001/010 | Batch: 000/469 | Cost:2.3012\n",
      "Epoch: 001/010 | Batch: 050/469 | Cost:0.5588\n",
      "Epoch: 001/010 | Batch: 100/469 | Cost:0.4285\n",
      "Epoch: 001/010 | Batch: 150/469 | Cost:0.3741\n",
      "Epoch: 001/010 | Batch: 200/469 | Cost:0.2576\n",
      "Epoch: 001/010 | Batch: 250/469 | Cost:0.1507\n",
      "Epoch: 001/010 | Batch: 300/469 | Cost:0.1310\n",
      "Epoch: 001/010 | Batch: 350/469 | Cost:0.2786\n",
      "Epoch: 001/010 | Batch: 400/469 | Cost:0.0713\n",
      "Epoch: 001/010 | Batch: 450/469 | Cost:0.1760\n",
      "Epoch: 001/010 training accuracy: 96.35%\n",
      "Time Elapsed: 0.26 min\n",
      "Epoch: 002/010 | Batch: 000/469 | Cost:0.1220\n",
      "Epoch: 002/010 | Batch: 050/469 | Cost:0.0898\n",
      "Epoch: 002/010 | Batch: 100/469 | Cost:0.0559\n",
      "Epoch: 002/010 | Batch: 150/469 | Cost:0.0237\n",
      "Epoch: 002/010 | Batch: 200/469 | Cost:0.1449\n",
      "Epoch: 002/010 | Batch: 250/469 | Cost:0.0807\n",
      "Epoch: 002/010 | Batch: 300/469 | Cost:0.1181\n",
      "Epoch: 002/010 | Batch: 350/469 | Cost:0.1166\n",
      "Epoch: 002/010 | Batch: 400/469 | Cost:0.0537\n",
      "Epoch: 002/010 | Batch: 450/469 | Cost:0.1589\n",
      "Epoch: 002/010 training accuracy: 97.88%\n",
      "Time Elapsed: 0.51 min\n",
      "Epoch: 003/010 | Batch: 000/469 | Cost:0.0888\n",
      "Epoch: 003/010 | Batch: 050/469 | Cost:0.0477\n",
      "Epoch: 003/010 | Batch: 100/469 | Cost:0.0363\n",
      "Epoch: 003/010 | Batch: 150/469 | Cost:0.0239\n",
      "Epoch: 003/010 | Batch: 200/469 | Cost:0.0764\n",
      "Epoch: 003/010 | Batch: 250/469 | Cost:0.0497\n",
      "Epoch: 003/010 | Batch: 300/469 | Cost:0.0474\n",
      "Epoch: 003/010 | Batch: 350/469 | Cost:0.0977\n",
      "Epoch: 003/010 | Batch: 400/469 | Cost:0.0885\n",
      "Epoch: 003/010 | Batch: 450/469 | Cost:0.0831\n",
      "Epoch: 003/010 training accuracy: 98.46%\n",
      "Time Elapsed: 0.77 min\n",
      "Epoch: 004/010 | Batch: 000/469 | Cost:0.0228\n",
      "Epoch: 004/010 | Batch: 050/469 | Cost:0.0466\n",
      "Epoch: 004/010 | Batch: 100/469 | Cost:0.0106\n",
      "Epoch: 004/010 | Batch: 150/469 | Cost:0.0615\n",
      "Epoch: 004/010 | Batch: 200/469 | Cost:0.0282\n",
      "Epoch: 004/010 | Batch: 250/469 | Cost:0.0379\n",
      "Epoch: 004/010 | Batch: 300/469 | Cost:0.0835\n",
      "Epoch: 004/010 | Batch: 350/469 | Cost:0.0669\n",
      "Epoch: 004/010 | Batch: 400/469 | Cost:0.0277\n",
      "Epoch: 004/010 | Batch: 450/469 | Cost:0.0476\n",
      "Epoch: 004/010 training accuracy: 98.44%\n",
      "Time Elapsed: 1.02 min\n",
      "Epoch: 005/010 | Batch: 000/469 | Cost:0.0477\n",
      "Epoch: 005/010 | Batch: 050/469 | Cost:0.0800\n",
      "Epoch: 005/010 | Batch: 100/469 | Cost:0.0219\n",
      "Epoch: 005/010 | Batch: 150/469 | Cost:0.0552\n",
      "Epoch: 005/010 | Batch: 200/469 | Cost:0.0709\n",
      "Epoch: 005/010 | Batch: 250/469 | Cost:0.0423\n",
      "Epoch: 005/010 | Batch: 300/469 | Cost:0.0596\n",
      "Epoch: 005/010 | Batch: 350/469 | Cost:0.0711\n",
      "Epoch: 005/010 | Batch: 400/469 | Cost:0.0220\n",
      "Epoch: 005/010 | Batch: 450/469 | Cost:0.0178\n",
      "Epoch: 005/010 training accuracy: 98.87%\n",
      "Time Elapsed: 1.27 min\n",
      "Epoch: 006/010 | Batch: 000/469 | Cost:0.0382\n",
      "Epoch: 006/010 | Batch: 050/469 | Cost:0.0169\n",
      "Epoch: 006/010 | Batch: 100/469 | Cost:0.0094\n",
      "Epoch: 006/010 | Batch: 150/469 | Cost:0.0717\n",
      "Epoch: 006/010 | Batch: 200/469 | Cost:0.0519\n",
      "Epoch: 006/010 | Batch: 250/469 | Cost:0.0043\n",
      "Epoch: 006/010 | Batch: 300/469 | Cost:0.0134\n",
      "Epoch: 006/010 | Batch: 350/469 | Cost:0.0144\n",
      "Epoch: 006/010 | Batch: 400/469 | Cost:0.0187\n",
      "Epoch: 006/010 | Batch: 450/469 | Cost:0.0588\n",
      "Epoch: 006/010 training accuracy: 99.15%\n",
      "Time Elapsed: 1.53 min\n",
      "Epoch: 007/010 | Batch: 000/469 | Cost:0.0222\n",
      "Epoch: 007/010 | Batch: 050/469 | Cost:0.0318\n",
      "Epoch: 007/010 | Batch: 100/469 | Cost:0.0410\n",
      "Epoch: 007/010 | Batch: 150/469 | Cost:0.0198\n",
      "Epoch: 007/010 | Batch: 200/469 | Cost:0.0492\n",
      "Epoch: 007/010 | Batch: 250/469 | Cost:0.0434\n",
      "Epoch: 007/010 | Batch: 300/469 | Cost:0.0190\n",
      "Epoch: 007/010 | Batch: 350/469 | Cost:0.0142\n",
      "Epoch: 007/010 | Batch: 400/469 | Cost:0.0420\n",
      "Epoch: 007/010 | Batch: 450/469 | Cost:0.0150\n",
      "Epoch: 007/010 training accuracy: 98.96%\n",
      "Time Elapsed: 1.79 min\n",
      "Epoch: 008/010 | Batch: 000/469 | Cost:0.0345\n",
      "Epoch: 008/010 | Batch: 050/469 | Cost:0.0060\n",
      "Epoch: 008/010 | Batch: 100/469 | Cost:0.0154\n",
      "Epoch: 008/010 | Batch: 150/469 | Cost:0.0247\n",
      "Epoch: 008/010 | Batch: 200/469 | Cost:0.0274\n",
      "Epoch: 008/010 | Batch: 250/469 | Cost:0.0621\n",
      "Epoch: 008/010 | Batch: 300/469 | Cost:0.0121\n",
      "Epoch: 008/010 | Batch: 350/469 | Cost:0.0052\n",
      "Epoch: 008/010 | Batch: 400/469 | Cost:0.0236\n",
      "Epoch: 008/010 | Batch: 450/469 | Cost:0.0078\n",
      "Epoch: 008/010 training accuracy: 99.11%\n",
      "Time Elapsed: 2.05 min\n",
      "Epoch: 009/010 | Batch: 000/469 | Cost:0.0195\n",
      "Epoch: 009/010 | Batch: 050/469 | Cost:0.0218\n",
      "Epoch: 009/010 | Batch: 100/469 | Cost:0.0565\n",
      "Epoch: 009/010 | Batch: 150/469 | Cost:0.0090\n",
      "Epoch: 009/010 | Batch: 200/469 | Cost:0.0394\n",
      "Epoch: 009/010 | Batch: 250/469 | Cost:0.0215\n",
      "Epoch: 009/010 | Batch: 300/469 | Cost:0.0068\n",
      "Epoch: 009/010 | Batch: 350/469 | Cost:0.0494\n",
      "Epoch: 009/010 | Batch: 400/469 | Cost:0.0316\n",
      "Epoch: 009/010 | Batch: 450/469 | Cost:0.0172\n",
      "Epoch: 009/010 training accuracy: 99.40%\n",
      "Time Elapsed: 2.30 min\n",
      "Epoch: 010/010 | Batch: 000/469 | Cost:0.0313\n",
      "Epoch: 010/010 | Batch: 050/469 | Cost:0.0401\n",
      "Epoch: 010/010 | Batch: 100/469 | Cost:0.0241\n",
      "Epoch: 010/010 | Batch: 150/469 | Cost:0.0344\n",
      "Epoch: 010/010 | Batch: 200/469 | Cost:0.0071\n",
      "Epoch: 010/010 | Batch: 250/469 | Cost:0.0033\n",
      "Epoch: 010/010 | Batch: 300/469 | Cost:0.0233\n",
      "Epoch: 010/010 | Batch: 350/469 | Cost:0.0578\n",
      "Epoch: 010/010 | Batch: 400/469 | Cost:0.0469\n",
      "Epoch: 010/010 | Batch: 450/469 | Cost:0.0214\n",
      "Epoch: 010/010 training accuracy: 99.19%\n",
      "Time Elapsed: 2.55 min\n",
      "Total Training Time: 2.55 min\n"
     ]
    }
   ],
   "source": [
    "start_time = time.time()\n",
    "total_step = len(train_loader)\n",
    "for epoch in range(NUM_EPOCHS):\n",
    "    for i, (features, labels) in enumerate(train_loader):\n",
    "        features = features.to(device)\n",
    "        labels = labels.to(device)\n",
    "        \n",
    "        # forward and back pass\n",
    "        output, probas = model(features)\n",
    "        loss = F.cross_entropy(output, labels)\n",
    "        optimizer.zero_grad()\n",
    "        loss.backward()\n",
    "        optimizer.step()\n",
    "        \n",
    "        # Logging\n",
    "        if not i % 50:\n",
    "            print('Epoch: %03d/%03d | Batch: %03d/%03d | Cost:%.4f'\n",
    "                 %(epoch+1, NUM_EPOCHS, i, total_step, loss))\n",
    "    model.eval()\n",
    "    print('Epoch: %03d/%03d training accuracy: %.2f%%' %(\n",
    "    epoch+1, NUM_EPOCHS, compute_accuracy(model, train_loader)))\n",
    "    print('Time Elapsed: %.2f min' %((time.time() - start_time) / 60))\n",
    "print('Total Training Time: %.2f min' %((time.time() - start_time) / 60))"
   ]
  },
  {
   "cell_type": "markdown",
   "metadata": {},
   "source": [
    "#### Evaluation"
   ]
  },
  {
   "cell_type": "code",
   "execution_count": 50,
   "metadata": {},
   "outputs": [
    {
     "name": "stdout",
     "output_type": "stream",
     "text": [
      "Test Accuracy: 98.81%\n"
     ]
    }
   ],
   "source": [
    "with torch.set_grad_enabled(False): # save memory during Inference\n",
    "    print('Test Accuracy: %.2f%%' %(compute_accuracy(model, test_loader)))"
   ]
  },
  {
   "cell_type": "code",
   "execution_count": 57,
   "metadata": {},
   "outputs": [
    {
     "data": {
      "image/png": "[encoded data removed]",
      "text/plain": [
       "<Figure size 432x288 with 1 Axes>"
      ]
     },
     "metadata": {
      "needs_background": "light"
     },
     "output_type": "display_data"
    }
   ],
   "source": [
    "for i, (features, labels) in enumerate(test_loader):\n",
    "    \n",
    "    features = features\n",
    "    labels = labels\n",
    "    break\n",
    "    \n",
    "nhwc_img = np.transpose(features[7], axes=(1, 2, 0))\n",
    "nhw_img = np.squeeze(nhwc_img.numpy(), axis=2)\n",
    "plt.imshow(nhw_img, cmap=\"Greys\");"
   ]
  },
  {
   "cell_type": "code",
   "execution_count": null,
   "metadata": {},
   "outputs": [],
   "source": []
  }
 ],
 "metadata": {
  "kernelspec": {
   "display_name": "Python 3 (ipykernel)",
   "language": "python",
   "name": "python3"
  },
  "language_info": {
   "codemirror_mode": {
    "name": "ipython",
    "version": 3
   },
   "file_extension": ".py",
   "mimetype": "text/x-python",
   "name": "python",
   "nbconvert_exporter": "python",
   "pygments_lexer": "ipython3",
   "version": "3.8.12"
  }
 },
 "nbformat": 4,
 "nbformat_minor": 2
}
