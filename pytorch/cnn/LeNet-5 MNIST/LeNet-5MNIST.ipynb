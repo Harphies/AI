{
 "cells": [
  {
   "cell_type": "markdown",
   "metadata": {},
   "source": [
    "#### Project: LeNet-5 classic network digit classifiers with MNIST datasets\n",
    "Here I redesign the LeNet-5 architecture by replacing the pooling layers wiht Maxpooling and the hidden layers with relu instead of tanh and the output layers with softmax layers instead."
   ]
  },
  {
   "cell_type": "markdown",
   "metadata": {},
   "source": [
    "#### Packages selection\n",
    "- The first things is to import all the neccesary packages needed for this project"
   ]
  },
  {
   "cell_type": "code",
   "execution_count": 1,
   "metadata": {},
   "outputs": [],
   "source": [
    "import os\n",
    "import time\n",
    "import pandas as pd\n",
    "import numpy as np\n",
    "import torch\n",
    "import torch.nn as nn\n",
    "import torch.nn.functional as F\n",
    "from torchvision import datasets\n",
    "from torchvision import transforms\n",
    "from torch.utils.data import DataLoader\n",
    "import matplotlib.pyplot as plt\n",
    "from PIL import Image\n",
    "\n",
    "# select GPU if cuda is available\n",
    "if torch.cuda.is_available():\n",
    "    torch.backends.cudnn.deterministic = True"
   ]
  },
  {
   "cell_type": "markdown",
   "metadata": {},
   "source": [
    "#### Settings\n",
    "- Configure the device\n",
    "- define all the hyperparameters to be used and needed to be tuned to achive a better accuracy\n",
    "- Load and explore the data"
   ]
  },
  {
   "cell_type": "code",
   "execution_count": 28,
   "metadata": {},
   "outputs": [
    {
     "name": "stdout",
     "output_type": "stream",
     "text": [
      "Image batch dimension torch.Size([128, 1, 32, 32])\n",
      "Image Labels dimension torch.Size([128])\n"
     ]
    }
   ],
   "source": [
    "# device\n",
    "device = torch.device(\"cuda:3\" if torch.cuda.is_available() else \"cpu\")\n",
    "\n",
    "# hyperparameters\n",
    "RANDOM_SEED = 1\n",
    "LEARNING_RATE = 0.001\n",
    "BATCH_SIZE = 128\n",
    "NUM_EPOCHS = 10\n",
    "\n",
    "# model architecture parameters\n",
    "NUM_FEATURES = 32*32\n",
    "NUM_CLASSES = 10\n",
    "\n",
    "\n",
    "# others\n",
    "GRAYSCALE = True\n",
    "\n",
    "# rescale the data from 28*28 to 32*32\n",
    "resize_transform = transforms.Compose([transforms.Resize((32, 32)),\n",
    "                                      transforms.ToTensor()])\n",
    "\n",
    "\n",
    "# dataset -> MNIST\n",
    "# Note: transforms.ToTesnsor() scale the image from range 0-1\n",
    "\n",
    "train_dataset = datasets.MNIST(root='data',\n",
    "                              train=True,\n",
    "                              transform=resize_transform,\n",
    "                              download=True)\n",
    "\n",
    "test_dataset = datasets.MNIST(root='data',\n",
    "                             train=False,\n",
    "                             transform=resize_transform)\n",
    "\n",
    "train_loader = DataLoader(dataset=train_dataset,\n",
    "                         batch_size=BATCH_SIZE,\n",
    "                         shuffle=True)\n",
    "\n",
    "test_loader = DataLoader(dataset=test_dataset,\n",
    "                        batch_size=BATCH_SIZE,\n",
    "                        shuffle=False)\n",
    "\n",
    "# check the dataset\n",
    "for images,labels in train_loader:\n",
    "    print(\"Image batch dimension\", images.shape)\n",
    "    print(\"Image Labels dimension\", labels.shape)\n",
    "    break"
   ]
  },
  {
   "cell_type": "markdown",
   "metadata": {},
   "source": [
    "#### Define the architecture of the model such as\n",
    "- The number of input layers; which is determined by the features of the data\n",
    "- Number of total hidden layers in the model consist of only Convolution layers\n",
    "- The output layer node units is determined by the intended outcome to achieve\n",
    "- Here we have two layers convolutional neural networks"
   ]
  },
  {
   "cell_type": "code",
   "execution_count": 41,
   "metadata": {},
   "outputs": [],
   "source": [
    "\"\"\"\n",
    "Architecture: LeNet-5 == 5 Layers architecture and Conv layer + MaxPooling == 1 layer\n",
    "X -> Conv2d -> ReLU -> MaxPool -> Conv2d -> ReLU -> MaxPool -> Linear -> ReLU -> Linear -> ReLu -> Linear -> Softmax -> y\n",
    "\"\"\"\n",
    "\n",
    "class LeNet5(nn.Module):\n",
    "    def __init__(self, NUM_CLASSES, grayscale=False):\n",
    "        super(LeNet5, self).__init__()\n",
    "        \n",
    "        self.grayscale = grayscale\n",
    "        \n",
    "        if self.grayscale:\n",
    "            in_channels = 1\n",
    "        else:\n",
    "            in_channels = 3\n",
    "            \n",
    "        self.features = nn.Sequential(\n",
    "            \n",
    "            nn.Conv2d(in_channels, 6, kernel_size=5),\n",
    "            nn.ReLU(),\n",
    "            nn.MaxPool2d(kernel_size=2),\n",
    "            nn.Conv2d(6, 16, kernel_size=5),\n",
    "            nn.ReLU(),\n",
    "            nn.MaxPool2d(kernel_size=2)\n",
    "        )\n",
    "        \n",
    "        self.classifier = nn.Sequential(\n",
    "            \n",
    "            nn.Linear(16*5*5, 120),\n",
    "            nn.ReLU(),\n",
    "            nn.Linear(120, 84),\n",
    "            nn.ReLU(),\n",
    "            nn.Linear(84, NUM_CLASSES),\n",
    "        )\n",
    "        \n",
    "    def forward(self, x):\n",
    "        x = self.features(x)\n",
    "        x = torch.flatten(x, 1)\n",
    "        outputs = self.classifier(x)\n",
    "        probas = F.softmax(outputs, dim=1)\n",
    "        return outputs, probas"
   ]
  },
  {
   "cell_type": "markdown",
   "metadata": {},
   "source": [
    "#### Loss function and optimizer\n",
    "- Instantiate the model\n",
    "- define the specific Loss function to be used either cross entropy, MSELoss, etc\n",
    "- define the optimization algorithm to be used either SGD, Adam, RMSprop, Momentum etc."
   ]
  },
  {
   "cell_type": "code",
   "execution_count": 42,
   "metadata": {},
   "outputs": [],
   "source": [
    "torch.manual_seed(RANDOM_SEED)\n",
    "model = LeNet5(NUM_CLASSES, GRAYSCALE).to(device)\n",
    "optimizer = torch.optim.Adam(model.parameters(), lr=LEARNING_RATE)"
   ]
  },
  {
   "cell_type": "markdown",
   "metadata": {},
   "source": [
    "#### compute accuracy\n",
    "- A function to compute train and test accuracy"
   ]
  },
  {
   "cell_type": "code",
   "execution_count": 48,
   "metadata": {},
   "outputs": [],
   "source": [
    "def compute_accuracy(model, data_loader):\n",
    "    correct_predictions, num_examples = 0, 0\n",
    "    for features, labels in data_loader:\n",
    "        features = features.to(device)\n",
    "        labels = labels.to(device)\n",
    "        outputs, probas = model(features)\n",
    "        _, predicted_labels = torch.max(probas, 1)\n",
    "        num_examples += labels.size(0)\n",
    "        correct_predictions += (predicted_labels == labels).sum()\n",
    "    return correct_predictions.float() / num_examples * 100"
   ]
  },
  {
   "cell_type": "markdown",
   "metadata": {},
   "source": [
    "#### Training a model requires the following steps\n",
    "- Reset all the gradients to zero (0)\n",
    "- Make a forward pass (make a prediction)\n",
    "- Calculate the loss\n",
    "- Perform back propagation\n",
    "- Update all the parameters (weight and biases)"
   ]
  },
  {
   "cell_type": "code",
   "execution_count": 49,
   "metadata": {},
   "outputs": [
    {
     "name": "stdout",
     "output_type": "stream",
     "text": [
      "Epoch: 001/010 | Batch: 000/469 | Cost:0.2065\n",
      "Epoch: 001/010 | Batch: 050/469 | Cost:0.0709\n",
      "Epoch: 001/010 | Batch: 100/469 | Cost:0.0497\n",
      "Epoch: 001/010 | Batch: 150/469 | Cost:0.0625\n",
      "Epoch: 001/010 | Batch: 200/469 | Cost:0.1053\n",
      "Epoch: 001/010 | Batch: 250/469 | Cost:0.0672\n",
      "Epoch: 001/010 | Batch: 300/469 | Cost:0.0550\n",
      "Epoch: 001/010 | Batch: 350/469 | Cost:0.0997\n",
      "Epoch: 001/010 | Batch: 400/469 | Cost:0.0324\n",
      "Epoch: 001/010 | Batch: 450/469 | Cost:0.0220\n",
      "Epoch: 001/010 training accuracy: 98.15%\n",
      "Time Elapsed: 0.86 min\n",
      "Epoch: 002/010 | Batch: 000/469 | Cost:0.1130\n",
      "Epoch: 002/010 | Batch: 050/469 | Cost:0.0330\n",
      "Epoch: 002/010 | Batch: 100/469 | Cost:0.0280\n",
      "Epoch: 002/010 | Batch: 150/469 | Cost:0.0168\n",
      "Epoch: 002/010 | Batch: 200/469 | Cost:0.0844\n",
      "Epoch: 002/010 | Batch: 250/469 | Cost:0.0590\n",
      "Epoch: 002/010 | Batch: 300/469 | Cost:0.0275\n",
      "Epoch: 002/010 | Batch: 350/469 | Cost:0.0528\n",
      "Epoch: 002/010 | Batch: 400/469 | Cost:0.0632\n",
      "Epoch: 002/010 | Batch: 450/469 | Cost:0.1150\n",
      "Epoch: 002/010 training accuracy: 98.52%\n",
      "Time Elapsed: 1.76 min\n",
      "Epoch: 003/010 | Batch: 000/469 | Cost:0.0099\n",
      "Epoch: 003/010 | Batch: 050/469 | Cost:0.1166\n",
      "Epoch: 003/010 | Batch: 100/469 | Cost:0.0601\n",
      "Epoch: 003/010 | Batch: 150/469 | Cost:0.0104\n",
      "Epoch: 003/010 | Batch: 200/469 | Cost:0.0580\n",
      "Epoch: 003/010 | Batch: 250/469 | Cost:0.0118\n",
      "Epoch: 003/010 | Batch: 300/469 | Cost:0.1184\n",
      "Epoch: 003/010 | Batch: 350/469 | Cost:0.0884\n",
      "Epoch: 003/010 | Batch: 400/469 | Cost:0.1017\n",
      "Epoch: 003/010 | Batch: 450/469 | Cost:0.0110\n",
      "Epoch: 003/010 training accuracy: 99.00%\n",
      "Time Elapsed: 2.68 min\n",
      "Epoch: 004/010 | Batch: 000/469 | Cost:0.0233\n",
      "Epoch: 004/010 | Batch: 050/469 | Cost:0.0251\n",
      "Epoch: 004/010 | Batch: 100/469 | Cost:0.0407\n",
      "Epoch: 004/010 | Batch: 150/469 | Cost:0.0599\n",
      "Epoch: 004/010 | Batch: 200/469 | Cost:0.0267\n",
      "Epoch: 004/010 | Batch: 250/469 | Cost:0.0204\n",
      "Epoch: 004/010 | Batch: 300/469 | Cost:0.0062\n",
      "Epoch: 004/010 | Batch: 350/469 | Cost:0.0287\n",
      "Epoch: 004/010 | Batch: 400/469 | Cost:0.0202\n",
      "Epoch: 004/010 | Batch: 450/469 | Cost:0.1268\n",
      "Epoch: 004/010 training accuracy: 99.06%\n",
      "Time Elapsed: 3.58 min\n",
      "Epoch: 005/010 | Batch: 000/469 | Cost:0.0112\n",
      "Epoch: 005/010 | Batch: 050/469 | Cost:0.0129\n",
      "Epoch: 005/010 | Batch: 100/469 | Cost:0.0254\n",
      "Epoch: 005/010 | Batch: 150/469 | Cost:0.0221\n",
      "Epoch: 005/010 | Batch: 200/469 | Cost:0.0184\n",
      "Epoch: 005/010 | Batch: 250/469 | Cost:0.0551\n",
      "Epoch: 005/010 | Batch: 300/469 | Cost:0.0206\n",
      "Epoch: 005/010 | Batch: 350/469 | Cost:0.0130\n",
      "Epoch: 005/010 | Batch: 400/469 | Cost:0.0316\n",
      "Epoch: 005/010 | Batch: 450/469 | Cost:0.0039\n",
      "Epoch: 005/010 training accuracy: 98.93%\n",
      "Time Elapsed: 4.54 min\n",
      "Epoch: 006/010 | Batch: 000/469 | Cost:0.0244\n",
      "Epoch: 006/010 | Batch: 050/469 | Cost:0.0459\n",
      "Epoch: 006/010 | Batch: 100/469 | Cost:0.0067\n",
      "Epoch: 006/010 | Batch: 150/469 | Cost:0.0248\n",
      "Epoch: 006/010 | Batch: 200/469 | Cost:0.0536\n",
      "Epoch: 006/010 | Batch: 250/469 | Cost:0.0115\n",
      "Epoch: 006/010 | Batch: 300/469 | Cost:0.0128\n",
      "Epoch: 006/010 | Batch: 350/469 | Cost:0.0255\n",
      "Epoch: 006/010 | Batch: 400/469 | Cost:0.0135\n",
      "Epoch: 006/010 | Batch: 450/469 | Cost:0.0237\n",
      "Epoch: 006/010 training accuracy: 99.33%\n",
      "Time Elapsed: 5.50 min\n",
      "Epoch: 007/010 | Batch: 000/469 | Cost:0.0011\n",
      "Epoch: 007/010 | Batch: 050/469 | Cost:0.0083\n",
      "Epoch: 007/010 | Batch: 100/469 | Cost:0.0086\n",
      "Epoch: 007/010 | Batch: 150/469 | Cost:0.0064\n",
      "Epoch: 007/010 | Batch: 200/469 | Cost:0.0180\n",
      "Epoch: 007/010 | Batch: 250/469 | Cost:0.0142\n",
      "Epoch: 007/010 | Batch: 300/469 | Cost:0.0309\n",
      "Epoch: 007/010 | Batch: 350/469 | Cost:0.0408\n",
      "Epoch: 007/010 | Batch: 400/469 | Cost:0.0454\n",
      "Epoch: 007/010 | Batch: 450/469 | Cost:0.0105\n",
      "Epoch: 007/010 training accuracy: 99.37%\n",
      "Time Elapsed: 6.43 min\n",
      "Epoch: 008/010 | Batch: 000/469 | Cost:0.0223\n",
      "Epoch: 008/010 | Batch: 050/469 | Cost:0.0150\n",
      "Epoch: 008/010 | Batch: 100/469 | Cost:0.0412\n",
      "Epoch: 008/010 | Batch: 150/469 | Cost:0.0407\n",
      "Epoch: 008/010 | Batch: 200/469 | Cost:0.0426\n",
      "Epoch: 008/010 | Batch: 250/469 | Cost:0.0226\n",
      "Epoch: 008/010 | Batch: 300/469 | Cost:0.0061\n",
      "Epoch: 008/010 | Batch: 350/469 | Cost:0.0219\n",
      "Epoch: 008/010 | Batch: 400/469 | Cost:0.0129\n",
      "Epoch: 008/010 | Batch: 450/469 | Cost:0.0200\n",
      "Epoch: 008/010 training accuracy: 99.58%\n",
      "Time Elapsed: 7.32 min\n",
      "Epoch: 009/010 | Batch: 000/469 | Cost:0.0172\n",
      "Epoch: 009/010 | Batch: 050/469 | Cost:0.0026\n",
      "Epoch: 009/010 | Batch: 100/469 | Cost:0.0068\n",
      "Epoch: 009/010 | Batch: 150/469 | Cost:0.0327\n",
      "Epoch: 009/010 | Batch: 200/469 | Cost:0.0098\n",
      "Epoch: 009/010 | Batch: 250/469 | Cost:0.0575\n",
      "Epoch: 009/010 | Batch: 300/469 | Cost:0.0570\n",
      "Epoch: 009/010 | Batch: 350/469 | Cost:0.0117\n",
      "Epoch: 009/010 | Batch: 400/469 | Cost:0.0277\n",
      "Epoch: 009/010 | Batch: 450/469 | Cost:0.0238\n",
      "Epoch: 009/010 training accuracy: 99.54%\n",
      "Time Elapsed: 8.23 min\n",
      "Epoch: 010/010 | Batch: 000/469 | Cost:0.0231\n",
      "Epoch: 010/010 | Batch: 050/469 | Cost:0.0109\n",
      "Epoch: 010/010 | Batch: 100/469 | Cost:0.0026\n",
      "Epoch: 010/010 | Batch: 150/469 | Cost:0.1111\n",
      "Epoch: 010/010 | Batch: 200/469 | Cost:0.0050\n",
      "Epoch: 010/010 | Batch: 250/469 | Cost:0.0126\n",
      "Epoch: 010/010 | Batch: 300/469 | Cost:0.0107\n",
      "Epoch: 010/010 | Batch: 350/469 | Cost:0.0493\n",
      "Epoch: 010/010 | Batch: 400/469 | Cost:0.0106\n",
      "Epoch: 010/010 | Batch: 450/469 | Cost:0.0504\n",
      "Epoch: 010/010 training accuracy: 99.39%\n",
      "Time Elapsed: 9.17 min\n",
      "Total Training Time: 9.17 min\n"
     ]
    }
   ],
   "source": [
    "start_time = time.time()\n",
    "total_step = len(train_loader)\n",
    "for epoch in range(NUM_EPOCHS):\n",
    "    for i, (features, labels) in enumerate(train_loader):\n",
    "        features = features.to(device)\n",
    "        labels = labels.to(device)\n",
    "        \n",
    "        # forward and back pass\n",
    "        output, probas = model(features)\n",
    "        loss = F.cross_entropy(output, labels)\n",
    "        optimizer.zero_grad()\n",
    "        loss.backward()\n",
    "        optimizer.step()\n",
    "        \n",
    "        # Logging\n",
    "        if not i % 50:\n",
    "            print('Epoch: %03d/%03d | Batch: %03d/%03d | Cost:%.4f'\n",
    "                 %(epoch+1, NUM_EPOCHS, i, total_step, loss))\n",
    "    model.eval()\n",
    "    print('Epoch: %03d/%03d training accuracy: %.2f%%' %(\n",
    "    epoch+1, NUM_EPOCHS, compute_accuracy(model, train_loader)))\n",
    "    print('Time Elapsed: %.2f min' %((time.time() - start_time) / 60))\n",
    "print('Total Training Time: %.2f min' %((time.time() - start_time) / 60))"
   ]
  },
  {
   "cell_type": "markdown",
   "metadata": {},
   "source": [
    "#### Evaluation"
   ]
  },
  {
   "cell_type": "code",
   "execution_count": 50,
   "metadata": {},
   "outputs": [
    {
     "name": "stdout",
     "output_type": "stream",
     "text": [
      "Test Accuracy: 98.81%\n"
     ]
    }
   ],
   "source": [
    "with torch.set_grad_enabled(False): # save memory during Inference\n",
    "    print('Test Accuracy: %.2f%%' %(compute_accuracy(model, test_loader)))"
   ]
  },
  {
   "cell_type": "code",
   "execution_count": null,
   "metadata": {},
   "outputs": [],
   "source": [
    "for i, (features, labels) in enumerate(test_loader):\n",
    "    \n",
    "    features = features\n",
    "    labels = labels\n",
    "    break\n",
    "    \n",
    "nhwc_img = np.transpose(features[0], axes=(1, 2, 0))\n",
    "nhw_img = np.squeeze(nhwc_img.numpy()) "
   ]
  }
 ],
 "metadata": {
  "kernelspec": {
   "display_name": "Python 3",
   "language": "python",
   "name": "python3"
  },
  "language_info": {
   "codemirror_mode": {
    "name": "ipython",
    "version": 3
   },
   "file_extension": ".py",
   "mimetype": "text/x-python",
   "name": "python",
   "nbconvert_exporter": "python",
   "pygments_lexer": "ipython3",
   "version": "3.6.7"
  }
 },
 "nbformat": 4,
 "nbformat_minor": 2
}
