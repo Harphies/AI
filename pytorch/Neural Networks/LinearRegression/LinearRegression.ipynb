{
 "cells": [
  {
   "cell_type": "markdown",
   "metadata": {},
   "source": [
    "## Linear Regression\n",
    "Linear Regression predictions are continous (numbers in a range)"
   ]
  },
  {
   "cell_type": "markdown",
   "metadata": {},
   "source": [
    "#### Import all the packages"
   ]
  },
  {
   "cell_type": "code",
   "execution_count": 3,
   "metadata": {},
   "outputs": [
    {
     "data": {
      "text/plain": [
       "<matplotlib.collections.PathCollection at 0x7f9122029430>"
      ]
     },
     "execution_count": 3,
     "metadata": {},
     "output_type": "execute_result"
    },
    {
     "data": {
      "image/png": "[encoded data removed]",
      "text/plain": [
       "<Figure size 432x288 with 1 Axes>"
      ]
     },
     "metadata": {
      "needs_background": "light"
     },
     "output_type": "display_data"
    }
   ],
   "source": [
    "%matplotlib inline\n",
    "\n",
    "import torch\n",
    "from torch.autograd import Variable\n",
    "\n",
    "import pandas as pd\n",
    "import matplotlib.pyplot as plt\n",
    "\n",
    "# datatype for tensors\n",
    "dtype = torch.FloatTensor\n",
    "\n",
    "# Get the data\n",
    "data = pd.read_csv('data.csv', delimiter=',')\n",
    "x_data = data['x']\n",
    "y_data = data['y']\n",
    "\n",
    "# The equation of regression line : y = wX + b\n",
    "y = Variable(torch.Tensor(y_data).type(dtype), requires_grad=False)\n",
    "X = Variable(torch.Tensor(x_data).type(dtype), requires_grad=False)\n",
    "\n",
    "# plot our data\n",
    "plt.scatter(X.data.numpy(), y.data.numpy())"
   ]
  },
  {
   "cell_type": "markdown",
   "metadata": {},
   "source": [
    "### Training\n",
    "- make predictions\n",
    "- compute the loss\n",
    "- compute the gradient using backward propagation\n",
    "- update the parameters (w, b)"
   ]
  },
  {
   "cell_type": "code",
   "execution_count": 4,
   "metadata": {},
   "outputs": [
    {
     "data": {
      "text/plain": [
       "[<matplotlib.lines.Line2D at 0x7f91221796a0>]"
      ]
     },
     "execution_count": 4,
     "metadata": {},
     "output_type": "execute_result"
    },
    {
     "data": {
      "image/png": "[encoded data removed]",
      "text/plain": [
       "<Figure size 432x288 with 1 Axes>"
      ]
     },
     "metadata": {
      "needs_background": "light"
     },
     "output_type": "display_data"
    }
   ],
   "source": [
    "w = Variable(torch.zeros(1).type(dtype), requires_grad=True)\n",
    "b = Variable(torch.zeros(1).type(dtype), requires_grad=True)\n",
    "\n",
    "learning_rate = 1e-6\n",
    "\n",
    "lst_w, lst_b = w, b\n",
    "for itr in range(1000):\n",
    "    pred_y = X.mul(w).add(b) # y =wX + b\n",
    "    loss = (y - pred_y).pow(2).mean() # mean squared error\n",
    "    loss.backward() # compute the gradient\n",
    "    # update the parameters\n",
    "    w.data = learning_rate * w.grad.data # update weight w\n",
    "    b.data -= learning_rate * b.grad.data  # update bias b\n",
    "    w.grad.data.zero_() # manually reset the gradient buffers\n",
    "    b.grad.data.zero_() \n",
    "    lst_w, lst_b = w, b # get the last value of w and b\n",
    "\n",
    "y_points = lst_w.data.numpy() * X.data.numpy() + lst_b.data.numpy() # plot points\n",
    "\n",
    "# plot our data\n",
    "plt.scatter(X.data.numpy(), y.data.numpy())\n",
    "plt.plot(X.data.numpy(), y_points, 'r')"
   ]
  },
  {
   "cell_type": "code",
   "execution_count": null,
   "metadata": {},
   "outputs": [],
   "source": []
  }
 ],
 "metadata": {
  "kernelspec": {
   "display_name": "Python 3",
   "language": "python",
   "name": "python3"
  },
  "language_info": {
   "codemirror_mode": {
    "name": "ipython",
    "version": 3
   },
   "file_extension": ".py",
   "mimetype": "text/x-python",
   "name": "python",
   "nbconvert_exporter": "python",
   "pygments_lexer": "ipython3",
   "version": "3.8.10"
  }
 },
 "nbformat": 4,
 "nbformat_minor": 2
}
