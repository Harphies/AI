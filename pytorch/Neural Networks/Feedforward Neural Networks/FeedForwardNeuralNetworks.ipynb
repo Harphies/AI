{
 "cells": [
  {
   "cell_type": "markdown",
   "metadata": {},
   "source": [
    "### Feedforward Neural Networks"
   ]
  },
  {
   "cell_type": "markdown",
   "metadata": {},
   "source": [
    "#### Packages selection "
   ]
  },
  {
   "cell_type": "code",
   "execution_count": 2,
   "metadata": {},
   "outputs": [],
   "source": [
    "import torch\n",
    "import torchvision\n",
    "import torch.nn as nn\n",
    "import torchvision.transforms as transforms\n",
    "from torch.autograd import Variable"
   ]
  },
  {
   "cell_type": "markdown",
   "metadata": {},
   "source": [
    "### Settings\n",
    "- device configuration\n",
    "- hyperparameters definition\n",
    "- import, Load and exlore data"
   ]
  },
  {
   "cell_type": "code",
   "execution_count": 3,
   "metadata": {},
   "outputs": [],
   "source": [
    "# device configuration\n",
    "device = torch.device('cuda' if torch.cuda.is_available() else 'cpu')\n",
    "\n",
    "\n",
    "# Hyper-parameters\n",
    "\n",
    "input_size = 784\n",
    "hidden_size = 500\n",
    "num_classes = 10\n",
    "num_epochs = 5\n",
    "batch_size = 100\n",
    "learning_rate = 0.001\n",
    "\n",
    "# MNIST -> datasets\n",
    "\n",
    "train_dataset = torchvision.datasets.MNIST(root='data',\n",
    "                                          train=True,\n",
    "                                          transform=transforms.ToTensor(),\n",
    "                                          download=True)\n",
    "\n",
    "test_dataset = torchvision.datasets.MNIST(root='data',\n",
    "                                         train=False,\n",
    "                                         transform=transforms.ToTensor())\n",
    "\n",
    "# dataloader\n",
    "train_loader = torch.utils.data.DataLoader(dataset=train_dataset,\n",
    "                                          batch_size=batch_size,\n",
    "                                          shuffle=True)\n",
    "\n",
    "test_loader = torch.utils.data.DataLoader(dataset=test_dataset,\n",
    "                                         batch_size=batch_size,\n",
    "                                         shuffle=False)"
   ]
  },
  {
   "cell_type": "markdown",
   "metadata": {},
   "source": [
    "#### Define the arcitecture of the model such as\n",
    "- The number of input layers; which is determined by the features of the data\n",
    "- Number of total hidden layers in the model (iterative)\n",
    "- Number of hidden units in each layers (iterative)\n",
    "- The output layer node units is determined by the intended outcome to achieve"
   ]
  },
  {
   "cell_type": "code",
   "execution_count": 13,
   "metadata": {},
   "outputs": [],
   "source": [
    "# Fully connected Neural Network with one hidden layer\n",
    "\n",
    "class FedWardNet(nn.Module):\n",
    "    def __init__ (self, input_size, hidden_size, num_classes):\n",
    "        super(FedWardNet, self).__init__()\n",
    "        self.fc1 = nn.Linear(input_size, hidden_size)\n",
    "        self.relu = nn.ReLU()\n",
    "        self.fc2 = nn.Linear(hidden_size, num_classes)\n",
    "        \n",
    "    def forward(self, x):\n",
    "            out = self.fc1(x)\n",
    "            out = self.relu(out)\n",
    "            out = self.fc2(out)\n",
    "            return out"
   ]
  },
  {
   "cell_type": "markdown",
   "metadata": {},
   "source": [
    "#### Loss function and optimizer\n",
    "- Instantiate the model\n",
    "- define the specific Loss function to be used either cross entropy, MSELoss, etc\n",
    "- define the optimization algorithm to be used either SGD, Adam, RMSprop, Momentum etc"
   ]
  },
  {
   "cell_type": "code",
   "execution_count": 14,
   "metadata": {},
   "outputs": [],
   "source": [
    "models = FedWardNet(input_size, hidden_size, num_classes).to(device)\n",
    "# loss and optimizer\n",
    "criterion = nn.CrossEntropyLoss()\n",
    "optimizer = torch.optim.Adam(model.parameters(), lr=learning_rate)"
   ]
  },
  {
   "cell_type": "markdown",
   "metadata": {},
   "source": [
    "#### Training a model requires the following steps\n",
    "- Reset all the gradients to zero (0)\n",
    "- Make a forward pass (make a prediction)\n",
    "- Calculate the loss\n",
    "- Perform back propagation\n",
    "- Update all the parameters (weight and biases)"
   ]
  },
  {
   "cell_type": "code",
   "execution_count": 15,
   "metadata": {},
   "outputs": [
    {
     "name": "stdout",
     "output_type": "stream",
     "text": [
      "Epoch [1/5], Step [100/600], Loss: 2.3266\n",
      "Epoch [1/5], Step [200/600], Loss: 2.3169\n",
      "Epoch [1/5], Step [300/600], Loss: 2.3260\n",
      "Epoch [1/5], Step [400/600], Loss: 2.3056\n",
      "Epoch [1/5], Step [500/600], Loss: 2.3205\n",
      "Epoch [1/5], Step [600/600], Loss: 2.3133\n",
      "Epoch [2/5], Step [100/600], Loss: 2.2946\n",
      "Epoch [2/5], Step [200/600], Loss: 2.3188\n",
      "Epoch [2/5], Step [300/600], Loss: 2.3223\n",
      "Epoch [2/5], Step [400/600], Loss: 2.3020\n",
      "Epoch [2/5], Step [500/600], Loss: 2.3155\n",
      "Epoch [2/5], Step [600/600], Loss: 2.3310\n",
      "Epoch [3/5], Step [100/600], Loss: 2.3320\n",
      "Epoch [3/5], Step [200/600], Loss: 2.3301\n",
      "Epoch [3/5], Step [300/600], Loss: 2.3296\n",
      "Epoch [3/5], Step [400/600], Loss: 2.3159\n",
      "Epoch [3/5], Step [500/600], Loss: 2.3180\n",
      "Epoch [3/5], Step [600/600], Loss: 2.3116\n",
      "Epoch [4/5], Step [100/600], Loss: 2.3184\n",
      "Epoch [4/5], Step [200/600], Loss: 2.3233\n",
      "Epoch [4/5], Step [300/600], Loss: 2.3009\n",
      "Epoch [4/5], Step [400/600], Loss: 2.3272\n",
      "Epoch [4/5], Step [500/600], Loss: 2.3265\n",
      "Epoch [4/5], Step [600/600], Loss: 2.3205\n",
      "Epoch [5/5], Step [100/600], Loss: 2.3239\n",
      "Epoch [5/5], Step [200/600], Loss: 2.3214\n",
      "Epoch [5/5], Step [300/600], Loss: 2.3173\n",
      "Epoch [5/5], Step [400/600], Loss: 2.3243\n",
      "Epoch [5/5], Step [500/600], Loss: 2.3293\n",
      "Epoch [5/5], Step [600/600], Loss: 2.3217\n"
     ]
    }
   ],
   "source": [
    "# Train the model\n",
    "total_step = len(train_loader)\n",
    "for epoch in range(num_epochs):\n",
    "    for i, (images, labels) in enumerate(train_loader):\n",
    "        # Move tensor to the configured device\n",
    "        images = images.reshape(-1, 28*28).to(device)\n",
    "        labels = labels.to(device)\n",
    "        \n",
    "        # Forward pass\n",
    "        outputs = models(images)\n",
    "        loss = criterion(outputs, labels)\n",
    "        \n",
    "        #Backward and optimize/update\n",
    "        optimizer.zero_grad()\n",
    "        loss.backward()\n",
    "        optimizer.step()\n",
    "        \n",
    "        if (i+1) % 100 == 0:\n",
    "            print('Epoch [{}/{}], Step [{}/{}], Loss: {:.4f}'.format(epoch+1, num_epochs, i+1, total_step, loss))"
   ]
  },
  {
   "cell_type": "markdown",
   "metadata": {},
   "source": [
    "### Testing"
   ]
  },
  {
   "cell_type": "code",
   "execution_count": 18,
   "metadata": {},
   "outputs": [
    {
     "name": "stdout",
     "output_type": "stream",
     "text": [
      "Accuracy of the network on the 10000 test images: 7.51 % \n"
     ]
    }
   ],
   "source": [
    "# Test the model\n",
    "# in this phase we don't need to compute gradients (for memory efficiency)\n",
    "with torch.no_grad():\n",
    "    correct = 0\n",
    "    total = 0\n",
    "    for images, labels in test_loader:\n",
    "        images = images.reshape(-1, 28*28).to(device)\n",
    "        labels = labels.to(device)\n",
    "        outputs = models(images)\n",
    "        _, predicted = torch.max(outputs.data, 1)\n",
    "        total += labels.size(0)\n",
    "        correct += (predicted == labels).sum().item()\n",
    "        \n",
    "    print('Accuracy of the network on the 10000 test images: {} % '.format(100 * correct / total))\n",
    "    \n",
    "# save the model checkpoint\n",
    "torch.save(model.state_dict(), 'model.ckpt')"
   ]
  },
  {
   "cell_type": "code",
   "execution_count": null,
   "metadata": {},
   "outputs": [],
   "source": []
  }
 ],
 "metadata": {
  "kernelspec": {
   "display_name": "Python 3",
   "language": "python",
   "name": "python3"
  },
  "language_info": {
   "codemirror_mode": {
    "name": "ipython",
    "version": 3
   },
   "file_extension": ".py",
   "mimetype": "text/x-python",
   "name": "python",
   "nbconvert_exporter": "python",
   "pygments_lexer": "ipython3",
   "version": "3.6.7"
  }
 },
 "nbformat": 4,
 "nbformat_minor": 2
}
